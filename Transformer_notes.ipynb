{
  "nbformat": 4,
  "nbformat_minor": 0,
  "metadata": {
    "colab": {
      "name": "Transformer_notes.ipynb",
      "provenance": [],
      "collapsed_sections": [
        "FpnkM3TCJWlY",
        "9OFydIJqolUs",
        "K8oAcLPVm9F0"
      ],
      "authorship_tag": "ABX9TyN7zWiM76bb/1dmqT9ccqJJ",
      "include_colab_link": true
    },
    "kernelspec": {
      "name": "python3",
      "display_name": "Python 3"
    }
  },
  "cells": [
    {
      "cell_type": "markdown",
      "metadata": {
        "id": "view-in-github",
        "colab_type": "text"
      },
      "source": [
        "<a href=\"https://colab.research.google.com/github/mvdheram/Social-bias-Detection/blob/Notes/Transformer_notes.ipynb\" target=\"_parent\"><img src=\"https://colab.research.google.com/assets/colab-badge.svg\" alt=\"Open In Colab\"/></a>"
      ]
    },
    {
      "cell_type": "markdown",
      "metadata": {
        "id": "Xla2sm6TEwWH"
      },
      "source": [
        "# RNN seq2seq model with Attention"
      ]
    },
    {
      "cell_type": "markdown",
      "metadata": {
        "id": "K_8d0uoeFUCV"
      },
      "source": [
        "Resources : \n",
        "\n",
        "\n",
        "*  Seq2seq with attention : https://jalammar.github.io/visualizing-neural-machine-translation-mechanics-of-seq2seq-models-with-attention/\n",
        "\n"
      ]
    },
    {
      "cell_type": "markdown",
      "metadata": {
        "id": "JwPB-2Gzpkwi"
      },
      "source": [
        "## RNN sequence-to-sequence models  :"
      ]
    },
    {
      "cell_type": "markdown",
      "metadata": {
        "id": "w2ATBS9zE437"
      },
      "source": [
        "Why and What RNN?\n",
        "\n",
        "* Usefull When Dealing with Sequential data [current data depends on previous].\n",
        "* Regular NN with a loop (recurrent unit; hidden state passed every time step). Unrolling of RNN leads a very deep Feed forward neural network.\n",
        "\n",
        "RNN-Seq2Seq :\n",
        "\n",
        "  *   Takes sequence of items ( words, letters, features of an image ..etc) as input and ouputs a sequence of items w.r.t tasks ( machine translation, text summarization and image captionning etc..)\n",
        "\n",
        "* Elements :\n",
        "\n",
        "    Inputs:\n",
        "      1. Hidden state - Previous information or context from previous inputs \n",
        "      2. Input Vector - Element in the sequence\n",
        "\n",
        "    Output: \n",
        "      3. Output Vector - Final/intermediate?? output of the sequence \n",
        "\n",
        "RNN :\n",
        "\n",
        "      for each time step (word_embedding in sequence):\n",
        "\n",
        "        Hidden state #0 + Input vector #1 => hidden state #1 + Input Vector#2.. - hidden unit (context) passed along with input to RNN => output vector #1 \n",
        "\n",
        "\n",
        "Problem with vanilla RNN:\n",
        "\n",
        "* Short term memory ( ability to retain information from previous wrong steps)\n",
        "\n",
        "  Why ??\n",
        " \n",
        "* Vanishing gradients due to backpropagation.   \n",
        "\n",
        "  How??\n",
        "\n",
        "* Weights adjusted ( reduce the loss ) of a layer in deep feed forward layer depends on the previous layers gradients. If the gradients of the previous layer is less, it effects the current layer nodes ( first layers gradients becomes very low or no learning).\n",
        "\n",
        "  Partial Solution??\n",
        "\n",
        "* Varients of RNN architecture \n",
        "  1. GRU ( Gated Reccurent Unit )\n",
        "  2. LSTM ( Long Short Term Memeory )\n",
        "\n",
        "\n",
        "Eg. \n",
        "\n",
        "Input Vector : Word in a sequence\n"
      ]
    },
    {
      "cell_type": "markdown",
      "metadata": {
        "id": "ncrdJNYKGNG4"
      },
      "source": [
        "## Illustrated example: Nueral Machine traslation "
      ]
    },
    {
      "cell_type": "markdown",
      "metadata": {
        "id": "okyCv7I5IV6i"
      },
      "source": [
        "Seq2seq Machine traslation:\n",
        "\n"
      ]
    },
    {
      "cell_type": "markdown",
      "metadata": {
        "id": "y9-aDNCUahv8"
      },
      "source": [
        "Encoder-Decoder architecture (RNN) :\n",
        "\n",
        "*   Encoder transforms input sequence into vector ( Context )\n",
        "*   Context (last hidden state of the sequence) sent to decoder which decodes vector sequence element by element.\n",
        "\n",
        "        Input_sequence -> Encoder -> Context -> Decoder -> Translation \n",
        "\n",
        "* Size of context vector set by the number of hidden units in the encoder RNN.\n",
        "* The last hidden state of the Encoder is the context passed along to the decoder to decode the sequence of words.\n",
        "\n"
      ]
    },
    {
      "cell_type": "markdown",
      "metadata": {
        "id": "FMSqGoofKvF9"
      },
      "source": [
        "### Attention"
      ]
    },
    {
      "cell_type": "markdown",
      "metadata": {
        "id": "FhgMFc9MK_x8"
      },
      "source": [
        "Why??\n",
        "\n",
        "* Dealing with long term dependencies with long sentences.\n",
        "* Dealing with different words (context) which contribute to single word in translation .\n",
        "\n",
        "Auto - regressive CNN's (WaveNet, ByteNet) used as a solution, but the convolution layers could capture history by positions rather than content.  \n",
        "\n",
        "What??\n",
        "\n",
        "* Allows model to focus on relavant parts (words) of input sequence with weights representing the relative importance of different words (keys) for the particular word (query) being translated. \n",
        "\n",
        "Contribution ??\n",
        "\n",
        "* Encoder :\n",
        "  \n",
        "  All the hidden states of encoder passed to decoder rather than the last hidden state of the sequence. \n",
        "\n",
        "* Decoder :\n",
        "\n",
        "  Attention scores and context vector :\n",
        "\n",
        "  for each time step:\n",
        "\n",
        "    1. Score each hidden state, associated with words in the sequence.\n",
        "    2. Multiply each hidden state (vector) by softmaxed (0-1) attention score. thus giving attention to words with high score.\n",
        "    3. Sum-up the weighted vectors which is context vector.\n",
        "\n"
      ]
    },
    {
      "cell_type": "markdown",
      "metadata": {
        "id": "snwrsUWhcvS9"
      },
      "source": [
        "#### Scoring with attention  "
      ]
    },
    {
      "cell_type": "markdown",
      "metadata": {
        "id": "8X8xmqEcdKSL"
      },
      "source": [
        "Decoder RNN :\n",
        "\n",
        "Time step #1 :\n",
        "\n",
        "1. Takes the `<END>` embedding as input vector and initial decoder hidden state to feed into the RNN unit.   \n",
        "2. Decoder produces output and hidden state vector (h4); output vector discarded.\n",
        "3. Scoring: \n",
        "  1. Use encoder hidden states (h1,h2,h3) and  h4 hidden state vector of decoder to calcualte attention scores and thus form context vector(c4). \n",
        "4. Concatenate h4 and c4 into single vector.\n",
        "5. Pass through feedforward neural network \n",
        "6. Output vector (O1) of feedforward neural network is the translated word for time step#1.\n",
        "7. Hidden unit (h4) and output vector (O1) of previous step passed as input to the next time step #2 and repeated. \n",
        "\n",
        "\n",
        "Advantages:\n",
        "\n",
        "1. With attention and scoring the text alignment is learned while training. \n",
        "\n",
        "Eg. French to English \n",
        "\n",
        "French : je suis etudiant\n",
        "\n",
        "1. French Encoder hidden state vector (h) [h1,h2,h3]\n",
        "  2. Decoder hidden state vector step #1 [1,0,0] - I \n",
        "  3. Decoder hidden state vector step #2 [0,1,0] - am \n",
        "  4. Decoder hidden state vector step #3 [0,0.5,0.5] - a \n",
        "  5. Decoder hidden state vector step #4 [0,0,1] - Student\n",
        "\n"
      ]
    },
    {
      "cell_type": "markdown",
      "metadata": {
        "id": "-jBuhiOKlGC9"
      },
      "source": [
        "# Transformers \n",
        "\n",
        "Transformers Paper : https://arxiv.org/abs/1706.03762\n",
        "\n",
        "Lecture video : https://www.youtube.com/watch?v=OyFJWRnt_AY&ab_channel=PascalPoupart\n",
        "\n",
        "Annotated Transformer : http://nlp.seas.harvard.edu/2018/04/03/attention.html"
      ]
    },
    {
      "cell_type": "markdown",
      "metadata": {
        "id": "SJ5KlRt3Fq1Y"
      },
      "source": [
        "Transformers : A model that uses attention to boost speed of training. \n",
        "\n",
        "Contributions as compared to RNNs :\n",
        "\n",
        "* Facilitate long range dependencies with attention mechanism\n",
        "* Avoid gradient vanishing and explosion as transformers does computation for **entire sequence simultaneously** rather than linearly done in the RNN.\n",
        "* Fewer training steps due to whole sepquence being processed rather than processing each word linearly in each time step.\n",
        "* No recurrence ( sequential computation like RNN) which facilitates parallel computation (GPU)\n",
        "\n",
        "\n"
      ]
    },
    {
      "cell_type": "markdown",
      "metadata": {
        "id": "rVRtB4QBfiQU"
      },
      "source": [
        "## Attention Mechanism in Nueral architecture "
      ]
    },
    {
      "cell_type": "markdown",
      "metadata": {
        "id": "of5eu1SxI70j"
      },
      "source": [
        "### Transformer Nueral Architecture"
      ]
    },
    {
      "cell_type": "markdown",
      "metadata": {
        "id": "SBReIHzsJEMJ"
      },
      "source": [
        "**TBD : Use https://github.com/jessevig/bertviz to explain attention with visualization**\n",
        "\n",
        "Building blocks of Transformer - Illustrated with machine translation :\n",
        "\n",
        "    Input : Word embeddings; vector_size - 512; (bottom-most encoder)\n",
        "\n",
        "    output : vector (floats) for the words in the sequence -> Fully connected layer -> logits vector ( based on vocab size learned during training) -> softmax layer (all positive, all add up to 1.0) -> argMax(softmax layer)  -> Word\n",
        "\n",
        "**Iteration w.r.t a single word** : \n",
        "\n",
        "1.  Encoders - stack\n",
        "\n",
        "        Input : Input word - embedding (Eng)\n",
        "        Output : Encoded input word - embedding with context ( information of other relavant words attended throughout the stack )\n",
        "\n",
        "  1. Attention ( self / multi-head ) \n",
        "  2. Add & Layer - normalization \n",
        "  3. Feed forward neural network \n",
        "\n",
        "2.   Decoders - stack\n",
        "\n",
        "          Input : Encoded input Word - embedding (Eng) and masked output word embedding(Ger; for having information of previous words until the predicting word and mask future words)\n",
        "          Output : Probabilitiy distribution over the word in the dictionary \n",
        "\n",
        "  1. Attention ( self / multi-head ) \n",
        "  2. Add & Layer - normalization \n",
        "  3. Encoder - Decoder attention \n",
        "  4. Feed forward neural network \n"
      ]
    },
    {
      "cell_type": "markdown",
      "metadata": {
        "id": "TtKioZKNajN1"
      },
      "source": [
        "#### Encoder - stack"
      ]
    },
    {
      "cell_type": "markdown",
      "metadata": {
        "id": "QrOh4s4dxo1T"
      },
      "source": [
        "High level description of steps in encoder stack:\n",
        "\n",
        "1.  Inputs : Entire sequence of words as input.\n",
        "2.  Input  Embedding : Word embedding of input.\n",
        "3.  Positional encoding : Add positional encoding (vector) for words in the sequence which provide meaningful distances between the embedding vectors once they’re projected into Q/K/V vectors and during dot-product attention.\n",
        "4.  Multi-head attention : Multi-head attention used to compute attention of each word in the sequence vector againt other words with multiple heads (multiple combination of contributing words). \n",
        "  * Idea: Treat each word as query, find keys (other words) in the sentence based on similarity and take the dot product of query vector and key vector to compute attention score of each word against other words. \n",
        "\n",
        "  * Having several stacks of encoders (attention) leads to finding attention of not only single words but of pairs; pair of pairs .. \n",
        "\n",
        "  * Multi-head attention leads to finding multiple attention ( multiple weighted combination of other words which contribute)  w.r.t the query word.\n",
        "5. Add & Norm : Add the original input to the output of multi-head attention and normalizing the layer ( mean - 0 and variance - 1).\n",
        "        hidden-unit(h) = g (h - mean (h) ) / standard-deviation(h)\n",
        "          g - variable \n",
        "          \n",
        "        Why ??\n",
        "          covariate- shift ( gradient dependencies between layers)  \n",
        "\n",
        "6. Feed Forward layer : A layer with no cycles/ recurrence and used to process or fit output from one layer to next.\n",
        "7. Add & Norm \n",
        "\n",
        "Key points:\n",
        "\n",
        "*  All Encoders receive vectors of size 512. \n",
        "  * Bottom_most : word bedding vector\n",
        "  * Others : output of the previous layer encoder.\n",
        "*  Words in each encoder flow through its own path (Key factor for parellel execution with GPU) and hence entire sequence of words is fed as input.\n",
        "  * Dependencies exists between words in the \"attention layer\".\n",
        "* Pipeline for a word in sequence :  \n",
        "\n",
        "      Input ( single Word ) -> embedding -> ( Query, key, value ) -> attention score against other words in sequence (q*k) -> normalize (dimention_size) -> softmax (0-1) -> softmax * value  -> summation -> encoding of word with context.\n",
        "\n",
        "\n",
        "\n",
        "\n",
        "\n",
        "\n",
        "\n"
      ]
    },
    {
      "cell_type": "markdown",
      "metadata": {
        "id": "W2pdUsv7y669"
      },
      "source": [
        "#### Decoder-stack "
      ]
    },
    {
      "cell_type": "markdown",
      "metadata": {
        "id": "RlKTTDWXzh9_"
      },
      "source": [
        "Input: Multiple stacks of key,value vector ( multi-head attention) from encoder and output embeddings (translation) from decoder after first iteration.\n",
        "\n",
        "Output : Probability distribution over the vocab for each position of word. (translation)\n",
        "\n",
        "\n",
        "High level description of steps in decoder stack:\n",
        "\n",
        "1. Output Embedding : word embedding of outputs\n",
        "2. Positional encoding : Adding positional encoding to decoders input to indicate position of each words.\n",
        "3. Masked Multi-head attention :  Mask (-infinity) the positions of the future words, for the self attention to focus on earlier positions (words) in the output rather than the future positions while training. \n",
        "4. Add and norm : Add the residuals and normlize the the output of the multi-head attention.\n",
        "5. Multi-head attention : Takes the input from the encoder (multiple key, value)  and output (masked attention scores) from the masked multi-head attention to calculate the inter-attention between the input and output ( generated untill that point).\n",
        "6. Feed forward layer ; add and norm : Adjust the dimentionality and do a layer normalization ( mean - 0 and variance - 1). \n",
        "7. Linear layer : Project the attention vector into the logits vector with dimentionality size of the vocab (unique words) learned during the training. \n",
        "8. Softmax layer : Turns the scores into probabilities ( all positive; all add upto 1.0); the cell with highest probability choosen and word associated (vocab) with it is produced as output for the time step which again goes into decoder stack as input. \n",
        "\n",
        "\n",
        "Note :\n",
        "\n",
        "* The output of decoder being fed in again might seems as recurrence, but with teacher forcing technique this can be avoided.\n",
        "\n",
        "* Teacher forcing is a method used while training wherein the output of the decoder  ( previous prediction ) is assumed to be correct and the correct translation is directly fed into the decoder input rather than waiting for the output in that timestep. \n"
      ]
    },
    {
      "cell_type": "markdown",
      "metadata": {
        "id": "hzRPLyH8Dzsm"
      },
      "source": [
        "##### Loss Function "
      ]
    },
    {
      "cell_type": "markdown",
      "metadata": {
        "id": "3E8pnX7yFgDF"
      },
      "source": [
        "Subtraction of the model output vector ( probability distribution over vocab ) and the desired output vector ( probability distribution over vocab ) for every position in the sequence of words until the `<'end of sentence'>` is reached. "
      ]
    },
    {
      "cell_type": "markdown",
      "metadata": {
        "id": "yAOcpx4SI_5I"
      },
      "source": [
        "### Attention Mechanism"
      ]
    },
    {
      "cell_type": "markdown",
      "metadata": {
        "id": "3QtjM-K8GeyK"
      },
      "source": [
        "Attention Mechanism \n",
        "\n",
        "* **Mimics the retrieval of a value `v` for a query `q` based on a key `k` in the database**.\n",
        "\n",
        "Elements:\n",
        "\n",
        "* Query vector - q\n",
        "* Key vectors -  k\n",
        "* Value vectors - v\n",
        "\n",
        "      attention(q,k,v) = Sum( (similarity(q,k)) * v) \n",
        "\n",
        "Steps :\n",
        "\n",
        "1. Compute similarity Measure f(Query, keys):\n",
        "\n",
        "        Input : Vectors ( Query, keys)\n",
        "        Output : similarity measure (Scalar) \n",
        "  options :\n",
        "  1. Dot product of (q,k)   \n",
        "  2. Scaled dot product (q,k)/ sqrt(dimentionality of each key) \n",
        "  3. General dot product(q * w  k); w(weights) - Query vector projected to embedding space for similarity measure (multi-head).\n",
        "  \n",
        "\n",
        "2. Compute weights (a):\n",
        "\n",
        "        Input : similarity measure (Scalar)\n",
        "        Output : Weights (Vector) \n",
        "\n",
        "        Formula : Fully connected Softmax layer \n",
        "        a(i) = similarity_measure (i) / sum of all similarity_measure \n",
        "\n",
        "3. Weighted combination (weight, value):\n",
        "\n",
        "        Input : Weights (Vector) \n",
        "        Output : Attention value (vector)  \n",
        "\n",
        "        Formula : sum(weights * value of keys) \n",
        "        \n",
        "        Paper (scaled (by length) dot product attention): softmax ( weight * values) / sqrt(d) ) \n",
        "        d - dimentionality \n",
        "\n",
        "* Query, key, values are matrices ( formed by combining multiple (q,k,v) vectors; described in paper to speedup training for multiple queries) formed by multiplying word embedding (x) and projection matrices (WQ,WK,WV) learned during training. \n",
        "  * Why projection matrices?\n",
        "    * Reduce embedding (x)  dimention via weight transformation / projection.\n",
        "* keys == values in self-attention / intra seqeunce - attention. Keys and values are different when attention used to relate two different sequences.  \n",
        "* Key, value - Vocab learned during training.\n",
        "* Query - word for which attention score is being calculated."
      ]
    },
    {
      "cell_type": "markdown",
      "metadata": {
        "id": "ROqZO3KnCrR1"
      },
      "source": [
        "### Multi-head attention in Transformer"
      ]
    },
    {
      "cell_type": "markdown",
      "metadata": {
        "id": "NBUdLE0kCwKm"
      },
      "source": [
        "Multi-head attention : Compute multiple attentions per query ( word ) with different weights (values).\n",
        "\n",
        "* Multiple sets of (Query,key,value) \n",
        "\n",
        "  * Why ??\n",
        "    * The weighted combination in the attention mechanism combines the attention of every word into a matrix wherein the other words might dominate the actual word.\n",
        "\n",
        "  * What ??\n",
        "    * Multiple sets are like multiple feature maps / filters in CNN which gives multiple contexts or \"representation subspaces\" for each word.\n",
        "\n",
        "  * How ??\n",
        "      * Extract different features w.r.t word by focusing on different positions and combination of different positions in sentence.\n",
        "\n",
        " Eg.  heads = 2 (q,k,v)\n",
        "\n",
        "          Sentence :  \" The animal didn't cross the street because it was too tired\".\n",
        "\n",
        "          Coreference resolution of \"it\" :  animal, tire \n",
        "\n",
        "\n",
        "Pipeline :\n",
        "\n",
        "    Multiple-sets( # of heads) of ( q,k,v ) via W projection matrices -> Scaled dot product attention( # of heads) -> concat (head1,head2,...headh) -> linear -> multi-head attention\n",
        "\n",
        "\n",
        "Masked Multi - head attention: \n",
        "\n",
        "* Multi-head where some values are masked ( i.e probabilities of masked values ( -inf) are nullified ( with softmax operation ) to prevent them from being selected ).\n",
        "* In decoder, the output values should depend on previous output rather than future outputs which is done through masked multi-head attention.\n",
        "\n",
        "        MaskedAttention (q,k,v) = softmax( q + M / sqrt (d) ) v\n",
        "\n",
        "        where M is a mask matrix of 0's and -inf's\n"
      ]
    },
    {
      "cell_type": "markdown",
      "metadata": {
        "id": "eJ7ysonYyXdE"
      },
      "source": [
        "# BERT : Bi-directional encoder representation from Transformers\n",
        "\n",
        "Source : http://jalammar.github.io/illustrated-word2vec/"
      ]
    },
    {
      "cell_type": "markdown",
      "metadata": {
        "id": "FpnkM3TCJWlY"
      },
      "source": [
        "### Word Embeddings\n",
        "\n",
        "Source : https://www.tensorflow.org/tutorials/text/word_embeddings"
      ]
    },
    {
      "cell_type": "markdown",
      "metadata": {
        "id": "p3Zdh3Z0ocgm"
      },
      "source": [
        "What ??\n",
        "\n",
        "* Representing text as numbers \n",
        "\n",
        "Why??\n",
        "\n",
        "* Machine learning model takes vectors ( arrays of numbers ) as input. \n",
        "* Using a better way to represent syntax and semantics of the underlying text being represented.\n",
        "\n",
        "How??\n",
        "\n",
        "Three strategies :\n",
        "\n",
        "1. one-hot encoding : Representing vocab (unique words) as columns and each word sequence as rows. The presence of words represented with 1 and absence as 0.\n",
        "\n",
        "  Eg. sentence :  \"The cat sat on the mat\"\n",
        "                        vocab      \n",
        "                  cat mat on sat the\n",
        "            the => 0   0   0  0   1\n",
        "            cat => 1   0   0  0   0\n",
        "            sat => 0   0   0  1   0\n",
        "            ...         ...\n",
        "\n",
        "      Combine the vectors of each word to form the encoding for the sentence \n",
        "\n",
        "      Disadvantage: \n",
        "      \n",
        "        Sparse (mostly 0) vector representation of words\n",
        "\n",
        "\n",
        "2.  Encode each word with a unique number :  Encode each word with unique number. Dence representation when compared to one-hot encoding. \n",
        "  \n",
        "        Eg. \n",
        "            sentence :  \"The cat sat on the mat\"\n",
        "\n",
        "              vector :   [5,  1,  4, 3,  5,  2]\n",
        "\n",
        "          \"the\" => 5\n",
        "        \n",
        "          \"cat\" => 1\n",
        "\n",
        "          ...\n",
        "\n",
        "  Disadvantage: \n",
        "        \n",
        "        1. Integer-encoding is arbitrary (Relationship between words not captured)\n",
        "        2. Not trainable \n",
        "\n",
        "3. Word embeddings: \n",
        "\n",
        "  * A word embedding is a trainable dense vector representation of floating point values. \n",
        "  * Values for word embedding are learned during training.\n",
        "  * Dimentionality or length of the vector is a hyper-parameter.\n",
        "  * Similar words have a similar encoding in word embedding wherein the semantic and syntactic relations are attended. \n",
        "\n",
        "          Eg. Analogies :  vec(“king”) - vec(“man”) + vec(“woman”) = vec(queen)\n",
        "Eg. sentence :  \"The cat sat on the mat\"\n",
        "                              vocab      \n",
        "                           cat    mat     on      sat      the\n",
        "                  the =>   0.5    0.56  -0.23    0.122    -0.111\n",
        "                  ...         ...\n",
        "\n",
        "\n"
      ]
    },
    {
      "cell_type": "markdown",
      "metadata": {
        "id": "9OFydIJqolUs"
      },
      "source": [
        "#### Non-contextual word embeddings\n",
        "\n",
        "Word2Vec : http://mccormickml.com/2016/04/19/word2vec-tutorial-the-skip-gram-model/\n",
        "\n"
      ]
    },
    {
      "cell_type": "markdown",
      "metadata": {
        "id": "UK9ITwEu45qn"
      },
      "source": [
        "Pre- trained non - contextual word representation :  \n",
        "\n",
        "\"Word embeddings (word2vec, GloVe) are often\n",
        "pre-trained on text corpus from co-occurrence\n",
        "statistics\".\n",
        "\n",
        "* Word2Vec ( Window - based model ) :\n",
        "\n",
        "  Technique of training : \n",
        "    1.   Continuous Bag-of-words (CBOW) : Predict center word in the window based on surrounding words ( context before and after).\n",
        "    2.   Skip-gram (SG) : Predict surrounding words based on the central word in the window.\n",
        "\n",
        "  Disadvantages :\n",
        "    1. Window-based model, doesnot benefit from the information in the whole document.\n",
        "    2. Cannot handle OutOfVocabulary words (OOV) \n",
        "\n",
        "* Glove (Global Vectors for Word Representation) :\n",
        "  \n",
        "  * Construct matrix of (word x context) in a large corpus.\n",
        "  * Takes ratios of co-occurence probabilities.\n",
        "  * The embeddings are optimized , so that the dot product of 2 vectors equals the log of number of times the 2 words will occur near each other.\n",
        "\n",
        "  Disadvantages :\n",
        "  \n",
        "  1. Cannot handle OutOfVocabulary words (OOV) \n",
        "\n",
        "* Fasttext ( Fast and efficient representation ):\n",
        "\n",
        "  * Relies on skip-gram (SG) model.\n",
        "  * Benefits from sub-word information. \n",
        "  * Can handle OutOfVocabulary words (OOV).\n",
        "\n",
        "**Dis-advantage**  :\n",
        "\n",
        "* Static word embedding fail to capture polysemy (Same embedding for different contexts).\n",
        "\n",
        "eg. \"bank\"\n",
        "\n",
        "*  “I deposited 100 EUR in the **bank**.”\n",
        "* “She was enjoying the sunset o the left **bank** of the river.”"
      ]
    },
    {
      "cell_type": "markdown",
      "metadata": {
        "id": "K8oAcLPVm9F0"
      },
      "source": [
        "### Language model\n",
        "\n",
        "LM : http://web.stanford.edu/class/cs224n/slides/cs224n-2020-lecture06-rnnlm.pdf"
      ]
    },
    {
      "cell_type": "markdown",
      "metadata": {
        "id": "mM0wEwDW8CJ7"
      },
      "source": [
        "What ??\n",
        "\n",
        "* A language model takes list of words and attempt to predict the probability of next word over the vocab ( unique words learned ) and *outputs the word with highest probability*.\n",
        "\n",
        "  * Computes probability distribution of next word (xt+1) over vocab V based on sequence x1,x2,....,xt.\n",
        "        p(xt,xt+1) = p(xt+1|xt,.....,x1)\n",
        "\n",
        "  * \"You can also think of a Language Model as a system that\n",
        "assigns probability to a piece of text.\"\n",
        "      \n",
        "        p(x1....xt) = product [p(xt | xt-1.....x1)]\n",
        "\n",
        "Why ??\n",
        "\n",
        "* Helps understanding language; with NLP application such as text generation (speech assistance), recognition, machine traslation. \n",
        "\n",
        "How ??\n",
        "\n",
        "* Basic architecture :\n",
        "\n",
        "  1. Look up embeddings \n",
        "  2. Calculate prediction with model\n",
        "  3. Project to output vocabulary and display words with highest probability.\n",
        "\n",
        "\n",
        "\n",
        "\n",
        "\n",
        "\n"
      ]
    },
    {
      "cell_type": "markdown",
      "metadata": {
        "id": "T9wLbhHJmWdH"
      },
      "source": [
        "**Language models Training** :\n",
        "\n",
        "**Idea** : \n",
        "\n",
        "1. Get text data  \n",
        "2. Select window size (history,word to be predicted) to slide against the text to generate dataset. \n",
        "3. Train model to generate next word Using history sequence as input. \n",
        "\n",
        "**Models for training LM** :\n",
        "\n",
        "1. Traditional n - gram language models : \n",
        "\n",
        "    * Predict n words (n-grams) based on the previous history of words( n-1 words ).\n",
        "    * \"The intuition of the n-gram model is that instead of computing the probability of a word given its entire history, we can approximate the history by just the last few.\"\n",
        "\n",
        "      Markov Assumption  : Probability of word depends on the previous word rather than the entire sequence of history.\n",
        "\n",
        "            Probability of next word given history :\n",
        "            bi-gram history = 2-1 = 1 ( only previous word)\n",
        "            P(next_word | history ) =  count( history, next_word) / count (history)\n",
        "  Problem :\n",
        "  * Sparsity Problems with n-gram Language Models ( counts could be 0)\n",
        "  * Storage of all n-grams\n",
        "  * Increasing n worsens sparsity problem, and increases model size\n",
        "\n",
        "2. Nueral language models : \n",
        "    * Deep neural networks models trained on corpus  which are better at  handling long - diatance relationships. \n",
        "\n",
        "  Training :\n",
        "\n",
        "    1. Get big corpus of text.\n",
        "    2. Feed into RNN-LM\n",
        "    3. Compute distribution of word  y^(t) over vocab for every step t.\n",
        "    4. Loss function(t) = cross-entropy  *summation of loss between the true label and log of predicted prob ( softmax prob)*  ( predicted prob, true prob )\n",
        "    \n",
        "  Types:\n",
        "\n",
        "    1. Fixed Window-based neural model\n",
        "        \n",
        "            Pipeline : Words/one-hot vectors (x) -> concatenated word embeddings (e) -> hidden layer  (h= f(We+b1)) -> output distribution over unique words (y = softmax( Uh +b2)\n",
        "\n",
        "          Dis-advantages :\n",
        "\n",
        "          1. Fixed window **too small**\n",
        "          2. Input words are multiplied by completely different weights in W. **No symmetry**  \n",
        "\n",
        "    2. RNN Language models\n",
        "    \n",
        "            Pipeline : Words/one-hot vectors (x) -> concatenated word embeddings (e) -> hidden layer  (h= sigmoid(Wh(t-1)+we(t)+b1)) -> output distribution over unique words (y = softmax( Uh +b2)\n",
        "\n",
        "        Dis-advantages: \n",
        "\n",
        "          1. Recurrent computation is slow and expencive. \n",
        "          2. Difficult to access information from many steps back. "
      ]
    },
    {
      "cell_type": "markdown",
      "metadata": {
        "id": "Qhkth_EfofzM"
      },
      "source": [
        "#### Contextual word embeddings\n",
        "\n",
        "Source: https://www.slideshare.net/shuntaroy/a-review-of-deep-contextualized-word-representations-peters-2018\n"
      ]
    },
    {
      "cell_type": "markdown",
      "metadata": {
        "id": "T5w38Z4nso3j"
      },
      "source": [
        "Pre- trained contextual word representation : Capturing word senses of language. \n",
        "\n",
        "*   ELMO : Embeddings from Language Models\n",
        "    * Learn word token vectors using long contexts ( whole sentence or longer) not context windows. \n",
        "    * Train **Seperate** Left-to-Right and Right-to-Left language models ( task agnostic and unsupervised ) using bi-LSTM .\n",
        "    * Use the task agnostic hidden states generated by the intermediate layers as \"Pre-trained contextualised embeddings\" . (every time step produces context specific word representation)\n",
        "      \n",
        "          word_embedding (hidden state) = previous_hidden_state which carry information + input_word_embedding*\n",
        "    \n",
        "    Steps:\n",
        "\n",
        "      * Concatenate hidden layers. \n",
        "      * Multiply each vector by a weight based on a task ( for scaling over the donwstream task).\n",
        "      * Sum the vectors.\n",
        "\n",
        "*   Flair\n"
      ]
    },
    {
      "cell_type": "markdown",
      "metadata": {
        "id": "6gqH5bh3nWyn"
      },
      "source": [
        "#### Transfer learning \n",
        "\n",
        "Language Models pre-training : https://arxiv.org/pdf/1906.08237.pdf"
      ]
    },
    {
      "cell_type": "markdown",
      "metadata": {
        "id": "qBCLdxUY46wS"
      },
      "source": [
        "* Generate language model using semi-supervised sequence learning trained over large text (unsupervised) rather than task specific to capture the patterns in the language.\n",
        "\n",
        "* **Using the pre-trained language model; finetune it for the particular downstream tasks** ( classification ).\n",
        "\n",
        "Idea (fast.ai) : \n",
        "\n",
        "1. In a pre-trained Nueral network (resnet34 cnn) first layers are more generic and last layers are more task specific. \n",
        "2. The final layer of pretrained model (which projects the output from the previous layers to the categories) is to be deleted and a new layer is added with some random weights for the downstream task.      \n",
        "3. **The previous layers are freezed from weight update during the SGD except the final added layer**.\n",
        "4. For NLP :\n",
        "  1. Freeze all layers except the last classifier layer ( randomly initialized weights) and train for few epochs.\n",
        "  2. Unfreeze all the layers and again train for few epochs with learning rate gradually increasing.\n",
        "          learn.fit_one_cycle(2, max_le = slice(1e-6,1e-4))\n",
        "\n",
        "\n",
        "Pre-training LM:\n",
        "\n",
        "1. Autoregressive LM : Factorize ( product of several factors ) the likelihood of word **after** a sequence (forward product of probabilities ) or word **before** a sequence ( backward product of probabilities )\n",
        "\n",
        "2. Autoencoding LM : Reconstruct the original sequence of text from the corrupted input (masked)."
      ]
    },
    {
      "cell_type": "markdown",
      "metadata": {
        "id": "SQ2i6cyRn0vd"
      },
      "source": [
        "### OpenAI Transformer GPT : Pre - training a transformer Decoder for language modeling"
      ]
    },
    {
      "cell_type": "markdown",
      "metadata": {
        "id": "hLA_55IaPmRD"
      },
      "source": [
        "\"Improving Language Understanding by Generative\n",
        "Pre-Training, OpenAI, 2018\"\n",
        "*   Using Transformer decoder ( masked self attention ; no peeking at future tokens ) for the task of language modeling  as transformers are better choice when training on unlabeled large text data.\n",
        "*   12 - decoders are stacked from the vanilla transformer without the encoder-decoder attentention sublayer ( as encoder is absent).  \n",
        "* Fine-tune on downstream task (classification task).\n",
        "* Transformer decoders can be trained to generate text ( output for each timestep ).\n",
        "\n",
        "Scaled Version of GPT :\n",
        "\n",
        "1. GPT - 2 ( trained on 40B tokens of text )\n",
        "2. GPT - 3 ( trained on 300B tokens of text )"
      ]
    },
    {
      "cell_type": "markdown",
      "metadata": {
        "id": "tAxW7zBlSSMt"
      },
      "source": [
        "### Problem with autoregressive language models\n",
        "\n",
        "Source : https://web.stanford.edu/class/cs224n/slides/Jacob_Devlin_BERT.pdf"
      ]
    },
    {
      "cell_type": "markdown",
      "metadata": {
        "id": "EiitMZ3VSXlk"
      },
      "source": [
        "* Language models only use left context or right context, but language understanding is bi-directional. \n",
        "\n",
        "* OpenAI tranformer LM is a left context / forward language model.\n",
        "\n",
        "Why??\n",
        "\n",
        "* Directionality is needed to generate a well-formed probability distribution.\n",
        "* Words can “see themselves” in a bidirectional encoder.\n"
      ]
    },
    {
      "cell_type": "markdown",
      "metadata": {
        "id": "Lye7fe-On9rK"
      },
      "source": [
        "### BERT : From Decoders to Encoders \n",
        "\n",
        "Source : https://web.stanford.edu/class/cs224n/slides/Jacob_Devlin_BERT.pdf"
      ]
    },
    {
      "cell_type": "markdown",
      "metadata": {
        "id": "iZd3Jfwho5lK"
      },
      "source": [
        "* Encoders self attention spans the left and right tokens in the sequence. \n",
        "* Language models need to learn to predict future tokens which would not be possible using the encoders self attention which peeks into future tokens.\n",
        "\n",
        "Solution : Masked Language models ( autoencoding LM) \n",
        "\n",
        "* Mask out k% of the input words, and then predict the masked words. (k = 15%)\n",
        "\n"
      ]
    },
    {
      "cell_type": "markdown",
      "metadata": {
        "id": "ats3rQUKju4g"
      },
      "source": [
        "BERT (Bidirectional Encoder Representations from Transformers):\n",
        "\n",
        "Pre-training of Deep Bidirectional Transformers for Language\n",
        "Understanding, which is then fine-tuned for a task.\n",
        "\n",
        "* Uses transformers **encoders** and **masked language modeling** to capture left and right context and handle long distance context. \n",
        "* Pretrained on Wikipedia + bookcorpus\n",
        "* Two varients based on pre-trained model sizes:\n",
        "  1. BERT-Base : 12 layers, 768-hidden, 12-heads\n",
        "  2. BERT-Large : 24 layers, 1024-hidden, 16-heads\n",
        "\n",
        "BERT Input Representation :\n",
        "\n",
        "* 30,000 wordpiece vocabulary on input.\n",
        "* Each token is sum of three embeddings.\n",
        "\n",
        "    Input -> Token embeddings ( represent word pieces ) + Segment embeddings ( represent segments of sentence pair ) + Positional embedding ( represents positions of word piece ) \n",
        "\n",
        "\n",
        "\n",
        "BERT model fine tuning :\n",
        "\n",
        "* Use a classifier built on top layer for each task.\n",
        "* BERT trained for:\n",
        "  1. Sentence pair classification task. ( eg. Multi-NLI premise,hypothesis, label )\n",
        "  2. Single sentence classification tasks. (eg. CoLa - corpus of linguistic acceptability)\n",
        "  3. Question Answering task.\n",
        "  4. Single sentence tagging task.\n",
        "\n",
        "\n",
        "\n"
      ]
    },
    {
      "cell_type": "markdown",
      "metadata": {
        "id": "GKp5J86O28CN"
      },
      "source": [
        "### Post-BERT Pre-training Advancements\n",
        "\n",
        "Source : https://web.stanford.edu/class/cs224n/slides/Jacob_Devlin_BERT.pdf"
      ]
    },
    {
      "cell_type": "markdown",
      "metadata": {
        "id": "Gxd8YAD93C5h"
      },
      "source": [
        "1. RoBERTA : A Robustly Optimized BERT Pretraining\n",
        "Approach  (Liu et al, University of Washington and\n",
        "Facebook, 2019)\n",
        "  * Trained BERT for more epochs and on more data.\n",
        "2. XLNet : Generalized Autoregressive Pretraining for\n",
        "Language Understanding g (Yang et al, CMU and\n",
        "Google, 2019)\n",
        "  * Combination of auto-regressive (left-context) and auto-encoding (both context)\n",
        "  * Innovation #1 : Permutation LM \n",
        "      * Randomly permute the order of text rather than (left-to-right or       right-to-left) while training.\n",
        "\n",
        "  * Innovation #2 : Masked two stream attention (Relative position embeddings) \n",
        "    * Architecture change to handle permutation LM where two hidden representation for each token (h - Can attend every token including itself, g - Can peek into left context)\n",
        "3. ALBERT : A Lite BERT for Self-supervised Learning\n",
        "of Language Representations (Lan et al, Google\n",
        "and TTI Chicago, 2019)\n",
        "    * Innovation #1 : Factorized embedding\n",
        "parameterization\n",
        "      * Use small embedding size (e.g., 128) and then project it to\n",
        "Transformer hidden size (e.g., 1024) with parameter matrix\n",
        "\n",
        "  * Innovation #2: Cross-layer parameter sharing\n",
        "    *  Share all parameters between Transformer layers\n",
        "4. T5 \n",
        "  * Exploring the Limits of Transfer Learning with a\n",
        "Unified Text-to-Text Transformer (Raffel et al,\n",
        "Google, 2019)\n",
        "5. ELECTRA : Pre-training Text Encoders as\n",
        "Discriminators Rather Than Generators (Clark et al,\n",
        "2020)\n",
        "  * Train model to discriminate locally plausible text\n",
        "from real text\n",
        "\n",
        "Distillation :\n",
        "\n",
        "* BERT and other pre-trained language models are\n",
        "extremely large and expensive.\n",
        "* Train a distilled version of BERT (distillBERT) for smaller models.\n",
        "  * Technique : \n",
        "    1. Train \"Teacher\": Use SOTA( state of the art) + fine-tuning technique to train model with large data and maximum accuracy.\n",
        "    2. Train \"Student\" : Much smaller that mimics Teacher output.\n",
        "    3. Student objective is typically Mean Square Error or Cross Entropy\n",
        "    4. **Distillation works much better than pre-training +\n",
        "fine-tuning with smaller model**\n",
        "      why??\n",
        "        * Language modeling is the “ultimate” NLP task in many ways\n",
        "          * I.e., a perfect language model is also a perfect question\n",
        "            answering/entailment/sentiment analysis model\n",
        "        * Finetuning mostly just picks up and tweaks these existing latent\n",
        "features.\n",
        "        * Distillation allows the model to only focus on those features."
      ]
    },
    {
      "cell_type": "code",
      "metadata": {
        "id": "hQbbIuHz_oWA"
      },
      "source": [
        ""
      ],
      "execution_count": null,
      "outputs": []
    }
  ]
}