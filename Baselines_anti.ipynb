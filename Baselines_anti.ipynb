{
  "nbformat": 4,
  "nbformat_minor": 0,
  "metadata": {
    "colab": {
      "name": "Baselines_anti.ipynb",
      "provenance": [],
      "collapsed_sections": [],
      "toc_visible": true,
      "authorship_tag": "ABX9TyOjOpeE4EwjOKCAoK+WwhY2",
      "include_colab_link": true
    },
    "kernelspec": {
      "name": "python3",
      "display_name": "Python 3"
    }
  },
  "cells": [
    {
      "cell_type": "markdown",
      "metadata": {
        "id": "view-in-github",
        "colab_type": "text"
      },
      "source": [
        "<a href=\"https://colab.research.google.com/github/mvdheram/Social-bias-Detection/blob/main/Baselines_anti.ipynb\" target=\"_parent\"><img src=\"https://colab.research.google.com/assets/colab-badge.svg\" alt=\"Open In Colab\"/></a>"
      ]
    },
    {
      "cell_type": "markdown",
      "metadata": {
        "id": "QAnXRsmM7AT5"
      },
      "source": [
        "# Classification using NBSVM\r\n",
        "\r\n",
        "Paper: https://nlp.stanford.edu/pubs/sidaw12_simple_sentiment.pdf\r\n",
        "\r\n",
        "Tutorial : https://github.com/amaiya/ktrain/blob/master/tutorials/tutorial-04-text-classification.ipynb\r\n",
        "\r\n",
        "A varient of Support Vector Machines (SVM) using Naive Bayes (NB) log-count ratios as feature values. "
      ]
    },
    {
      "cell_type": "code",
      "metadata": {
        "id": "yN9eSBO1l_uz"
      },
      "source": [
        "%reload_ext autoreload\r\n",
        "%autoreload 2\r\n",
        "%matplotlib inline\r\n",
        "import os\r\n",
        "os.environ[\"CUDA_DEVICE_ORDER\"] = \"PCI_BUS_ID\";\r\n",
        "os.environ[\"CUDA_VISIBLE_DEVICES\"] = \"0\";"
      ],
      "execution_count": null,
      "outputs": []
    },
    {
      "cell_type": "code",
      "metadata": {
        "id": "4tf38R6Y9DEg"
      },
      "source": [
        "pip install ktrain "
      ],
      "execution_count": null,
      "outputs": []
    },
    {
      "cell_type": "code",
      "metadata": {
        "id": "tN4Li9YT_sUW"
      },
      "source": [
        "import ktrain\n",
        "from ktrain import text\n",
        "import pandas as pd"
      ],
      "execution_count": null,
      "outputs": []
    },
    {
      "cell_type": "code",
      "metadata": {
        "id": "fdoFLP1DFRPE"
      },
      "source": [
        "dataset = pd.read_csv('/content/combined_stereo_antiStereo.csv', index_col=0)"
      ],
      "execution_count": null,
      "outputs": []
    },
    {
      "cell_type": "code",
      "metadata": {
        "colab": {
          "base_uri": "https://localhost:8080/"
        },
        "id": "XBJGtOaVAAe0",
        "outputId": "b58a5ec8-ecac-4c4f-a01e-07022b6306e7"
      },
      "source": [
        "len(dataset)"
      ],
      "execution_count": null,
      "outputs": [
        {
          "output_type": "execute_result",
          "data": {
            "text/plain": [
              "9966"
            ]
          },
          "metadata": {
            "tags": []
          },
          "execution_count": 6
        }
      ]
    },
    {
      "cell_type": "code",
      "metadata": {
        "id": "BpsXJdUiFkVJ",
        "colab": {
          "base_uri": "https://localhost:8080/",
          "height": 195
        },
        "outputId": "165c3dab-f5a6-40e6-e5d9-3f3dd46079b1"
      },
      "source": [
        "dataset.head()"
      ],
      "execution_count": null,
      "outputs": [
        {
          "output_type": "execute_result",
          "data": {
            "text/html": [
              "<div>\n",
              "<style scoped>\n",
              "    .dataframe tbody tr th:only-of-type {\n",
              "        vertical-align: middle;\n",
              "    }\n",
              "\n",
              "    .dataframe tbody tr th {\n",
              "        vertical-align: top;\n",
              "    }\n",
              "\n",
              "    .dataframe thead th {\n",
              "        text-align: right;\n",
              "    }\n",
              "</style>\n",
              "<table border=\"1\" class=\"dataframe\">\n",
              "  <thead>\n",
              "    <tr style=\"text-align: right;\">\n",
              "      <th></th>\n",
              "      <th>sentences</th>\n",
              "      <th>stereo_antistereo</th>\n",
              "    </tr>\n",
              "  </thead>\n",
              "  <tbody>\n",
              "    <tr>\n",
              "      <th>0</th>\n",
              "      <td>His mind wondered if a doctor was behind this ...</td>\n",
              "      <td>anti-stereotype</td>\n",
              "    </tr>\n",
              "    <tr>\n",
              "      <th>1</th>\n",
              "      <td>The woman was highly skilled in CAD engineerin...</td>\n",
              "      <td>anti-stereotype</td>\n",
              "    </tr>\n",
              "    <tr>\n",
              "      <th>2</th>\n",
              "      <td>Hispanics are good at reading</td>\n",
              "      <td>anti-stereotype</td>\n",
              "    </tr>\n",
              "    <tr>\n",
              "      <th>3</th>\n",
              "      <td>He felt threatened by the presence of the tiny...</td>\n",
              "      <td>anti-stereotype</td>\n",
              "    </tr>\n",
              "    <tr>\n",
              "      <th>4</th>\n",
              "      <td>The construction worker's wheelchair got stuck...</td>\n",
              "      <td>anti-stereotype</td>\n",
              "    </tr>\n",
              "  </tbody>\n",
              "</table>\n",
              "</div>"
            ],
            "text/plain": [
              "                                           sentences stereo_antistereo\n",
              "0  His mind wondered if a doctor was behind this ...   anti-stereotype\n",
              "1  The woman was highly skilled in CAD engineerin...   anti-stereotype\n",
              "2                      Hispanics are good at reading   anti-stereotype\n",
              "3  He felt threatened by the presence of the tiny...   anti-stereotype\n",
              "4  The construction worker's wheelchair got stuck...   anti-stereotype"
            ]
          },
          "metadata": {
            "tags": []
          },
          "execution_count": 7
        }
      ]
    },
    {
      "cell_type": "code",
      "metadata": {
        "colab": {
          "base_uri": "https://localhost:8080/"
        },
        "id": "Ax31FZXMBEQM",
        "outputId": "39c9e9d5-b049-440a-e917-0b7138aaef25"
      },
      "source": [
        "dataset.stereo_antistereo.value_counts()"
      ],
      "execution_count": null,
      "outputs": [
        {
          "output_type": "execute_result",
          "data": {
            "text/plain": [
              "stereotype         5519\n",
              "anti-stereotype    4447\n",
              "Name: stereo_antistereo, dtype: int64"
            ]
          },
          "metadata": {
            "tags": []
          },
          "execution_count": 8
        }
      ]
    },
    {
      "cell_type": "code",
      "metadata": {
        "id": "cQKHQKan8kdM"
      },
      "source": [
        "X = dataset.iloc[:,0].values\n",
        "y = dataset.iloc[:,1].values"
      ],
      "execution_count": null,
      "outputs": []
    },
    {
      "cell_type": "code",
      "metadata": {
        "id": "MZ-ERIOsRhEB"
      },
      "source": [
        "from sklearn.model_selection import train_test_split\n",
        "X_train, X_test, y_train, y_test = train_test_split(X, y, test_size = 0.2, random_state = 1)"
      ],
      "execution_count": null,
      "outputs": []
    },
    {
      "cell_type": "code",
      "metadata": {
        "colab": {
          "base_uri": "https://localhost:8080/"
        },
        "id": "M5DGkQ8Yc1X2",
        "outputId": "929c51bc-52d7-488e-ec00-4a178153eada"
      },
      "source": [
        "categories = dataset.stereo_antistereo.unique()\n",
        "print(categories)"
      ],
      "execution_count": null,
      "outputs": [
        {
          "output_type": "stream",
          "text": [
            "['anti-stereotype' 'stereotype']\n"
          ],
          "name": "stdout"
        }
      ]
    },
    {
      "cell_type": "code",
      "metadata": {
        "colab": {
          "base_uri": "https://localhost:8080/"
        },
        "id": "XjiQ9nHJEIsx",
        "outputId": "af2a7fc6-c5fd-4be0-d1e3-ef6af285702c"
      },
      "source": [
        "# load training and validation data from a folder\r\n",
        "DATADIR = '/content/combined_stereo_antiStereo.csv'\r\n",
        "trn, val, preproc = text.texts_from_csv(DATADIR,\r\n",
        "                                         text_column = 'sentences',\r\n",
        "                                         label_columns = 'stereo_antistereo',\r\n",
        "                                           max_features=80000, maxlen=2000, \r\n",
        "                                           ngram_range=1, \r\n",
        "                                           preprocess_mode='standard',\r\n",
        "                                          )"
      ],
      "execution_count": null,
      "outputs": [
        {
          "output_type": "stream",
          "text": [
            "detected encoding: utf-8 (if wrong, set manually)\n",
            "language: en\n",
            "Word Counts: 8036\n",
            "Nrows: 8969\n",
            "8969 train sequences\n",
            "train sequence lengths:\n",
            "\tmean : 12\n",
            "\t95percentile : 23\n",
            "\t99percentile : 31\n",
            "x_train shape: (8969,2000)\n",
            "y_train shape: (8969, 2)\n",
            "Is Multi-Label? False\n",
            "997 test sequences\n",
            "test sequence lengths:\n",
            "\tmean : 12\n",
            "\t95percentile : 22\n",
            "\t99percentile : 28\n",
            "x_test shape: (997,2000)\n",
            "y_test shape: (997, 2)\n"
          ],
          "name": "stdout"
        }
      ]
    },
    {
      "cell_type": "code",
      "metadata": {
        "colab": {
          "base_uri": "https://localhost:8080/"
        },
        "id": "w62QStom9TUt",
        "outputId": "e276f184-c762-4127-cf69-207fffe6f2c6"
      },
      "source": [
        "# Load NBSVM model\r\n",
        "model = text.text_classifier('nbsvm',trn, preproc=preproc)"
      ],
      "execution_count": null,
      "outputs": [
        {
          "output_type": "stream",
          "text": [
            "Is Multi-Label? False\n",
            "compiling word ID features...\n",
            "maxlen is 2000\n",
            "building document-term matrix... this may take a few moments...\n",
            "rows: 1-8969\n",
            "computing log-count ratios...\n",
            "done.\n"
          ],
          "name": "stdout"
        }
      ]
    },
    {
      "cell_type": "code",
      "metadata": {
        "id": "8p-gDXWUMrc9"
      },
      "source": [
        "learner = ktrain.get_learner(model, train_data=trn, val_data=val)"
      ],
      "execution_count": null,
      "outputs": []
    },
    {
      "cell_type": "code",
      "metadata": {
        "colab": {
          "base_uri": "https://localhost:8080/"
        },
        "id": "RIt686VLM4ta",
        "outputId": "d2b78d91-d01e-4f93-e7f3-ceec37cad418"
      },
      "source": [
        "learner.lr_find()"
      ],
      "execution_count": null,
      "outputs": [
        {
          "output_type": "stream",
          "text": [
            "simulating training for different learning rates... this may take a few moments...\n",
            "Epoch 1/1024\n",
            "281/281 [==============================] - 2s 6ms/step - loss: 0.3951 - accuracy: 0.8427\n",
            "Epoch 2/1024\n",
            "281/281 [==============================] - 2s 6ms/step - loss: 0.3951 - accuracy: 0.8427\n",
            "Epoch 3/1024\n",
            "281/281 [==============================] - 2s 7ms/step - loss: 0.3952 - accuracy: 0.8425\n",
            "Epoch 4/1024\n",
            "281/281 [==============================] - 2s 7ms/step - loss: 0.3968 - accuracy: 0.8410\n",
            "Epoch 5/1024\n",
            "281/281 [==============================] - 2s 7ms/step - loss: 0.4390 - accuracy: 0.8006\n",
            "Epoch 6/1024\n",
            "281/281 [==============================] - 2s 6ms/step - loss: 2.1520 - accuracy: 0.6783\n",
            "\n",
            "\n",
            "done.\n",
            "Please invoke the Learner.lr_plot() method to visually inspect the loss plot to help identify the maximal learning rate associated with falling loss.\n"
          ],
          "name": "stdout"
        }
      ]
    },
    {
      "cell_type": "code",
      "metadata": {
        "colab": {
          "base_uri": "https://localhost:8080/",
          "height": 283
        },
        "id": "QUjfOy22M7CW",
        "outputId": "23f95e91-58c8-4b4b-ed9c-dc17f12c5a7f"
      },
      "source": [
        "learner.lr_plot()"
      ],
      "execution_count": null,
      "outputs": [
        {
          "output_type": "display_data",
          "data": {
            "image/png": "[encoded data removed]",
            "text/plain": [
              "<Figure size 432x288 with 1 Axes>"
            ]
          },
          "metadata": {
            "tags": [],
            "needs_background": "light"
          }
        }
      ]
    },
    {
      "cell_type": "markdown",
      "metadata": {
        "id": "-ZpEh_F-V-AH"
      },
      "source": [
        "SGD with restart (SGDR)\r\n",
        "\r\n",
        "Article : https://medium.com/38th-street-studios/exploring-stochastic-gradient-descent-with-restarts-sgdr-fa206c38a74e\r\n",
        "\r\n",
        "Goal: Avoid local minima\r\n",
        "\r\n",
        "\"Annealing\" for learning rate: How small or large step to take in the gradient descent\r\n",
        "\r\n",
        "Idea: \"  let’s reset our learning rate every so many iterations so that we may be able to more easily pop out of a local minimum if we appear stuck.\"\r\n",
        "\r\n",
        "Start with the given learning rate while gradurally decreasing (annealing) for cycle_len and again jump back to the initial learning rate. \r\n",
        "\r\n",
        "cycle_mult: Multiply lenght of cycle by something. \r\n",
        "\r\n",
        "**Below example** :\r\n",
        "\r\n",
        "3 cycles\r\n",
        "\r\n",
        "annealing decrease rate : per cycle (1 epoch) multiplied by 2 per epoch = > 1,2,4 \r\n",
        "\r\n",
        "total=> (1+2+4) 7 epochs \r\n",
        "\r\n",
        "\r\n",
        "\r\n"
      ]
    },
    {
      "cell_type": "code",
      "metadata": {
        "colab": {
          "base_uri": "https://localhost:8080/"
        },
        "id": "uWI8tUL4NB3Q",
        "outputId": "f11d5bf7-d086-4042-f437-9d787ac60039"
      },
      "source": [
        "learner.fit(1e-2, 3, cycle_len=1, cycle_mult=2)"
      ],
      "execution_count": null,
      "outputs": [
        {
          "output_type": "stream",
          "text": [
            "Epoch 1/7\n",
            "281/281 [==============================] - 2s 7ms/step - loss: 0.4058 - accuracy: 0.8323 - val_loss: 0.7484 - val_accuracy: 0.5767\n",
            "Epoch 2/7\n",
            "281/281 [==============================] - 2s 7ms/step - loss: 0.3967 - accuracy: 0.8343 - val_loss: 0.7807 - val_accuracy: 0.5878\n",
            "Epoch 3/7\n",
            "281/281 [==============================] - 2s 7ms/step - loss: 0.3682 - accuracy: 0.8528 - val_loss: 0.7879 - val_accuracy: 0.5868\n",
            "Epoch 4/7\n",
            "281/281 [==============================] - 2s 7ms/step - loss: 0.3765 - accuracy: 0.8418 - val_loss: 0.8249 - val_accuracy: 0.5747\n",
            "Epoch 5/7\n",
            "281/281 [==============================] - 2s 7ms/step - loss: 0.3554 - accuracy: 0.8552 - val_loss: 0.8485 - val_accuracy: 0.5777\n",
            "Epoch 6/7\n",
            "281/281 [==============================] - 2s 7ms/step - loss: 0.3399 - accuracy: 0.8626 - val_loss: 0.8585 - val_accuracy: 0.5747\n",
            "Epoch 7/7\n",
            "281/281 [==============================] - 2s 7ms/step - loss: 0.3312 - accuracy: 0.8684 - val_loss: 0.8599 - val_accuracy: 0.5747\n"
          ],
          "name": "stdout"
        },
        {
          "output_type": "execute_result",
          "data": {
            "text/plain": [
              "<tensorflow.python.keras.callbacks.History at 0x7fa2243e6f28>"
            ]
          },
          "metadata": {
            "tags": []
          },
          "execution_count": 47
        }
      ]
    },
    {
      "cell_type": "markdown",
      "metadata": {
        "id": "CLg1ry--TOSJ"
      },
      "source": [
        "# Classification using Logistic regression with trainable embedding layer "
      ]
    },
    {
      "cell_type": "code",
      "metadata": {
        "colab": {
          "base_uri": "https://localhost:8080/"
        },
        "id": "EvVEvEZ9NewF",
        "outputId": "292a7879-70b3-416a-ce23-4f91fb05271b"
      },
      "source": [
        "model2 = text.text_classifier('logreg',trn,preproc=preproc)"
      ],
      "execution_count": null,
      "outputs": [
        {
          "output_type": "stream",
          "text": [
            "Is Multi-Label? False\n",
            "compiling word ID features...\n",
            "maxlen is 2000\n",
            "done.\n"
          ],
          "name": "stdout"
        }
      ]
    },
    {
      "cell_type": "code",
      "metadata": {
        "id": "vtBo_P8NoZvo"
      },
      "source": [
        "learner = ktrain.get_learner(model2, train_data=trn, val_data=val)"
      ],
      "execution_count": null,
      "outputs": []
    },
    {
      "cell_type": "code",
      "metadata": {
        "colab": {
          "base_uri": "https://localhost:8080/",
          "height": 569
        },
        "id": "ddjnAw3dodtw",
        "outputId": "5e05c6a5-44d0-4d10-94c4-85c2c6f883e5"
      },
      "source": [
        "learner.lr_find(show_plot=True)"
      ],
      "execution_count": null,
      "outputs": [
        {
          "output_type": "stream",
          "text": [
            "simulating training for different learning rates... this may take a few moments...\n",
            "Epoch 1/1024\n",
            "281/281 [==============================] - 3s 8ms/step - loss: 0.6938 - accuracy: 0.4863\n",
            "Epoch 2/1024\n",
            "281/281 [==============================] - 2s 8ms/step - loss: 0.6936 - accuracy: 0.4909\n",
            "Epoch 3/1024\n",
            "281/281 [==============================] - 2s 8ms/step - loss: 0.6905 - accuracy: 0.5462\n",
            "Epoch 4/1024\n",
            "281/281 [==============================] - 2s 8ms/step - loss: 0.6728 - accuracy: 0.5975\n",
            "Epoch 5/1024\n",
            "281/281 [==============================] - 2s 8ms/step - loss: 0.7571 - accuracy: 0.6287\n",
            "Epoch 6/1024\n",
            "281/281 [==============================] - 2s 6ms/step - loss: 3.4379 - accuracy: 0.6075\n",
            "\n",
            "\n",
            "done.\n",
            "Visually inspect loss plot and select learning rate associated with falling loss\n"
          ],
          "name": "stdout"
        },
        {
          "output_type": "display_data",
          "data": {
            "image/png": "[encoded data removed]",
            "text/plain": [
              "<Figure size 432x288 with 1 Axes>"
            ]
          },
          "metadata": {
            "tags": [],
            "needs_background": "light"
          }
        }
      ]
    },
    {
      "cell_type": "code",
      "metadata": {
        "colab": {
          "base_uri": "https://localhost:8080/"
        },
        "id": "JSNQNeeYokzh",
        "outputId": "ac44a749-5ffc-4d72-c5f6-5d8efc355cd5"
      },
      "source": [
        "learner.autofit(1e-2)"
      ],
      "execution_count": null,
      "outputs": [
        {
          "output_type": "stream",
          "text": [
            "early_stopping automatically enabled at patience=5\n",
            "reduce_on_plateau automatically enabled at patience=2\n",
            "\n",
            "\n",
            "begin training using triangular learning rate policy with max lr of 0.01...\n",
            "Epoch 1/1024\n",
            "281/281 [==============================] - 3s 10ms/step - loss: 0.6729 - accuracy: 0.5734 - val_loss: 0.6472 - val_accuracy: 0.6108\n",
            "Epoch 2/1024\n",
            "281/281 [==============================] - 3s 10ms/step - loss: 0.5755 - accuracy: 0.7040 - val_loss: 0.6673 - val_accuracy: 0.5878\n",
            "Epoch 3/1024\n",
            "281/281 [==============================] - 3s 10ms/step - loss: 0.5180 - accuracy: 0.7575 - val_loss: 0.6836 - val_accuracy: 0.5757\n",
            "\n",
            "Epoch 00003: Reducing Max LR on Plateau: new max lr will be 0.005 (if not early_stopping).\n",
            "Epoch 4/1024\n",
            "281/281 [==============================] - 3s 10ms/step - loss: 0.4646 - accuracy: 0.8014 - val_loss: 0.6960 - val_accuracy: 0.5767\n",
            "Epoch 5/1024\n",
            "281/281 [==============================] - 3s 9ms/step - loss: 0.4465 - accuracy: 0.8129 - val_loss: 0.7057 - val_accuracy: 0.5687\n",
            "\n",
            "Epoch 00005: Reducing Max LR on Plateau: new max lr will be 0.0025 (if not early_stopping).\n",
            "Epoch 6/1024\n",
            "281/281 [==============================] - 3s 9ms/step - loss: 0.4246 - accuracy: 0.8315 - val_loss: 0.7119 - val_accuracy: 0.5737\n",
            "Restoring model weights from the end of the best epoch.\n",
            "Epoch 00006: early stopping\n",
            "Weights from best epoch have been loaded into model.\n"
          ],
          "name": "stdout"
        },
        {
          "output_type": "execute_result",
          "data": {
            "text/plain": [
              "<tensorflow.python.keras.callbacks.History at 0x7fa1abd64c50>"
            ]
          },
          "metadata": {
            "tags": []
          },
          "execution_count": 63
        }
      ]
    },
    {
      "cell_type": "markdown",
      "metadata": {
        "id": "U6pOJBNdrv8h"
      },
      "source": [
        "# Classification using fastext-model"
      ]
    },
    {
      "cell_type": "code",
      "metadata": {
        "colab": {
          "base_uri": "https://localhost:8080/"
        },
        "id": "bm5DCVwYqmTj",
        "outputId": "e02f2795-e700-4517-eec6-3394ff43ef04"
      },
      "source": [
        "model3 = text.text_classifier('fasttext',trn, preproc = preproc)\r\n",
        "learner = ktrain.get_learner(model3, train_data=trn, val_data=val)"
      ],
      "execution_count": null,
      "outputs": [
        {
          "output_type": "stream",
          "text": [
            "Is Multi-Label? False\n",
            "compiling word ID features...\n",
            "maxlen is 2000\n",
            "done.\n"
          ],
          "name": "stdout"
        }
      ]
    },
    {
      "cell_type": "code",
      "metadata": {
        "colab": {
          "base_uri": "https://localhost:8080/",
          "height": 569
        },
        "id": "7wBvriossqFu",
        "outputId": "9c485539-928c-43d7-be0f-aa9988676359"
      },
      "source": [
        "learner.lr_find(show_plot=True)"
      ],
      "execution_count": null,
      "outputs": [
        {
          "output_type": "stream",
          "text": [
            "simulating training for different learning rates... this may take a few moments...\n",
            "Epoch 1/1024\n",
            "281/281 [==============================] - 20s 68ms/step - loss: 0.9367 - accuracy: 0.4837\n",
            "Epoch 2/1024\n",
            "281/281 [==============================] - 19s 66ms/step - loss: 0.8819 - accuracy: 0.5080\n",
            "Epoch 3/1024\n",
            "281/281 [==============================] - 19s 66ms/step - loss: 0.8862 - accuracy: 0.4928\n",
            "Epoch 4/1024\n",
            "281/281 [==============================] - 18s 66ms/step - loss: 0.7744 - accuracy: 0.5321\n",
            "Epoch 5/1024\n",
            "281/281 [==============================] - 19s 66ms/step - loss: 0.7021 - accuracy: 0.5592\n",
            "Epoch 6/1024\n",
            "281/281 [==============================] - 14s 50ms/step - loss: 3.5271 - accuracy: 0.5268\n",
            "\n",
            "\n",
            "done.\n",
            "Visually inspect loss plot and select learning rate associated with falling loss\n"
          ],
          "name": "stdout"
        },
        {
          "output_type": "display_data",
          "data": {
            "image/png": "[encoded data removed]",
            "text/plain": [
              "<Figure size 432x288 with 1 Axes>"
            ]
          },
          "metadata": {
            "tags": [],
            "needs_background": "light"
          }
        }
      ]
    },
    {
      "cell_type": "code",
      "metadata": {
        "colab": {
          "base_uri": "https://localhost:8080/"
        },
        "id": "8YKQHfw0sw4f",
        "outputId": "37a0eafe-7494-4ad5-aa3d-7db25268f1b3"
      },
      "source": [
        "learner.autofit(5e-3)"
      ],
      "execution_count": null,
      "outputs": [
        {
          "output_type": "stream",
          "text": [
            "early_stopping automatically enabled at patience=5\n",
            "reduce_on_plateau automatically enabled at patience=2\n",
            "\n",
            "\n",
            "begin training using triangular learning rate policy with max lr of 0.005...\n",
            "Epoch 1/1024\n",
            "281/281 [==============================] - 2s 8ms/step - loss: 0.5314 - accuracy: 0.7715 - val_loss: 0.6362 - val_accuracy: 0.6078\n",
            "Epoch 2/1024\n",
            "281/281 [==============================] - 2s 8ms/step - loss: 0.5026 - accuracy: 0.7877 - val_loss: 0.6475 - val_accuracy: 0.6048\n",
            "Epoch 3/1024\n",
            "281/281 [==============================] - 2s 8ms/step - loss: 0.4817 - accuracy: 0.7989 - val_loss: 0.6583 - val_accuracy: 0.5998\n",
            "\n",
            "Epoch 00003: Reducing Max LR on Plateau: new max lr will be 0.0025 (if not early_stopping).\n",
            "Epoch 4/1024\n",
            "281/281 [==============================] - 2s 8ms/step - loss: 0.4640 - accuracy: 0.8107 - val_loss: 0.6639 - val_accuracy: 0.5968\n",
            "Epoch 5/1024\n",
            "281/281 [==============================] - 2s 8ms/step - loss: 0.4563 - accuracy: 0.8145 - val_loss: 0.6702 - val_accuracy: 0.5988\n",
            "\n",
            "Epoch 00005: Reducing Max LR on Plateau: new max lr will be 0.00125 (if not early_stopping).\n",
            "Epoch 6/1024\n",
            "281/281 [==============================] - 2s 8ms/step - loss: 0.4483 - accuracy: 0.8206 - val_loss: 0.6736 - val_accuracy: 0.5968\n",
            "Restoring model weights from the end of the best epoch.\n",
            "Epoch 00006: early stopping\n",
            "Weights from best epoch have been loaded into model.\n"
          ],
          "name": "stdout"
        },
        {
          "output_type": "execute_result",
          "data": {
            "text/plain": [
              "<tensorflow.python.keras.callbacks.History at 0x7fa2270aa128>"
            ]
          },
          "metadata": {
            "tags": []
          },
          "execution_count": 57
        }
      ]
    },
    {
      "cell_type": "markdown",
      "metadata": {
        "id": "tu2WW0a8tUKt"
      },
      "source": [
        "# Classification using Bidirectional GRU with pretrained fasttext word vectors"
      ]
    },
    {
      "cell_type": "code",
      "metadata": {
        "colab": {
          "base_uri": "https://localhost:8080/",
          "height": 134
        },
        "id": "4vVanOUZs8ku",
        "outputId": "15aa2965-3f33-40a6-dbb1-740cdb931016"
      },
      "source": [
        "model4 = text.text_classifier('bigru',trn,preproc)"
      ],
      "execution_count": null,
      "outputs": [
        {
          "output_type": "stream",
          "text": [
            "Is Multi-Label? False\n",
            "compiling word ID features...\n",
            "maxlen is 2000\n",
            "word vectors will be loaded from: https://dl.fbaipublicfiles.com/fasttext/vectors-crawl/cc.en.300.vec.gz\n",
            "processing pretrained word vectors...\n",
            "loading pretrained word vectors...this may take a few moments...\n"
          ],
          "name": "stdout"
        },
        {
          "output_type": "display_data",
          "data": {
            "text/html": [
              ""
            ],
            "text/plain": [
              "<IPython.core.display.HTML object>"
            ]
          },
          "metadata": {
            "tags": []
          }
        },
        {
          "output_type": "stream",
          "text": [
            "done.\n"
          ],
          "name": "stdout"
        }
      ]
    },
    {
      "cell_type": "code",
      "metadata": {
        "id": "PdNinkaFt8WB"
      },
      "source": [
        "learner = ktrain.get_learner(model4, train_data=trn, val_data=val)"
      ],
      "execution_count": null,
      "outputs": []
    },
    {
      "cell_type": "code",
      "metadata": {
        "colab": {
          "base_uri": "https://localhost:8080/",
          "height": 604
        },
        "id": "QRTc2FI_wvmr",
        "outputId": "d2f8c020-3d48-4b86-eeb3-10ea1bdb6e2a"
      },
      "source": [
        "learner.lr_find(show_plot=True)"
      ],
      "execution_count": null,
      "outputs": [
        {
          "output_type": "stream",
          "text": [
            "simulating training for different learning rates... this may take a few moments...\n",
            "Epoch 1/1024\n",
            "281/281 [==============================] - 124s 414ms/step - loss: 0.6950 - accuracy: 0.4913\n",
            "Epoch 2/1024\n",
            "281/281 [==============================] - 116s 412ms/step - loss: 0.6940 - accuracy: 0.5015\n",
            "Epoch 3/1024\n",
            "281/281 [==============================] - 116s 413ms/step - loss: 0.6882 - accuracy: 0.5487\n",
            "Epoch 4/1024\n",
            "281/281 [==============================] - 116s 413ms/step - loss: 0.6643 - accuracy: 0.5858\n",
            "Epoch 5/1024\n",
            "281/281 [==============================] - 116s 413ms/step - loss: nan - accuracy: 0.6239\n",
            "Epoch 6/1024\n",
            "281/281 [==============================] - 116s 412ms/step - loss: nan - accuracy: 0.4483\n",
            "Epoch 7/1024\n",
            "281/281 [==============================] - 68s 242ms/step - loss: nan - accuracy: 0.4467\n",
            "\n",
            "\n",
            "done.\n",
            "Visually inspect loss plot and select learning rate associated with falling loss\n"
          ],
          "name": "stdout"
        },
        {
          "output_type": "display_data",
          "data": {
            "image/png": "[encoded data removed]",
            "text/plain": [
              "<Figure size 432x288 with 1 Axes>"
            ]
          },
          "metadata": {
            "tags": [],
            "needs_background": "light"
          }
        }
      ]
    },
    {
      "cell_type": "code",
      "metadata": {
        "colab": {
          "base_uri": "https://localhost:8080/"
        },
        "id": "EscnnNKDxjLB",
        "outputId": "6f8a170f-dc94-4ea0-f475-43a5670acfc6"
      },
      "source": [
        "learner.fit(1e-3,3, cycle_len=1, cycle_mult=2)"
      ],
      "execution_count": null,
      "outputs": [
        {
          "output_type": "stream",
          "text": [
            "Epoch 1/7\n",
            "281/281 [==============================] - 124s 428ms/step - loss: 0.6699 - accuracy: 0.5752 - val_loss: 0.6489 - val_accuracy: 0.6239\n",
            "Epoch 2/7\n",
            "281/281 [==============================] - 119s 424ms/step - loss: 0.6020 - accuracy: 0.6661 - val_loss: 0.6036 - val_accuracy: 0.6690\n",
            "Epoch 3/7\n",
            "281/281 [==============================] - 119s 424ms/step - loss: 0.4652 - accuracy: 0.7920 - val_loss: 0.6578 - val_accuracy: 0.6610\n",
            "Epoch 4/7\n",
            "281/281 [==============================] - 120s 426ms/step - loss: 0.4715 - accuracy: 0.7796 - val_loss: 0.6912 - val_accuracy: 0.6269\n",
            "Epoch 5/7\n",
            "281/281 [==============================] - 119s 422ms/step - loss: 0.3583 - accuracy: 0.8392 - val_loss: 0.8044 - val_accuracy: 0.6148\n",
            "Epoch 6/7\n",
            "281/281 [==============================] - 119s 423ms/step - loss: 0.2702 - accuracy: 0.8837 - val_loss: 0.9640 - val_accuracy: 0.6068\n",
            "Epoch 7/7\n",
            "281/281 [==============================] - 118s 421ms/step - loss: 0.2230 - accuracy: 0.9073 - val_loss: 1.0214 - val_accuracy: 0.6068\n"
          ],
          "name": "stdout"
        },
        {
          "output_type": "execute_result",
          "data": {
            "text/plain": [
              "<tensorflow.python.keras.callbacks.History at 0x7fa199415400>"
            ]
          },
          "metadata": {
            "tags": []
          },
          "execution_count": 70
        }
      ]
    }
  ]
}