{
  "nbformat": 4,
  "nbformat_minor": 0,
  "metadata": {
    "colab": {
      "name": "Pre-processing.ipynb",
      "provenance": [],
      "collapsed_sections": [
        "et8Vdz6F0bZB",
        "6MGcaBjU3KIZ",
        "4gIobuNAmvKG",
        "uqGaQw4S0Y_7",
        "HzL7T7IOn0rK",
        "xa9-CjVxbiWm",
        "BX8nEbKIKqd6",
        "Z-d_FufcMC0T",
        "vn9noiKmjerg",
        "LgMHgGI8JFCG"
      ],
      "toc_visible": true,
      "authorship_tag": "ABX9TyPr+ChD06m8vcImktM0x8BF",
      "include_colab_link": true
    },
    "kernelspec": {
      "name": "python3",
      "display_name": "Python 3"
    },
    "accelerator": "GPU"
  },
  "cells": [
    {
      "cell_type": "markdown",
      "metadata": {
        "id": "view-in-github",
        "colab_type": "text"
      },
      "source": [
        "<a href=\"https://colab.research.google.com/github/mvdheram/Social-bias-Detection/blob/Experiments/Pre_processing.ipynb\" target=\"_parent\"><img src=\"https://colab.research.google.com/assets/colab-badge.svg\" alt=\"Open In Colab\"/></a>"
      ]
    },
    {
      "cell_type": "markdown",
      "metadata": {
        "id": "et8Vdz6F0bZB"
      },
      "source": [
        "# subjectivity_clues_hltemnlp05\n",
        "\n",
        "Extracting :\n",
        "\n",
        "*   Type - A clue that is subjective in most context is considered strongly.\n",
        "  * weaksubj - 0 \n",
        "  * strongsubj -1\n",
        "*   Word - Token or stem of the clue\n",
        "* Priorpolarity - The prior polarity of the clue.  Out of context, does the\n",
        "\tclue seem to evoke something positive or something negative.\n",
        " * positive\n",
        " * negative\n",
        "\n",
        "\t\n",
        "\n"
      ]
    },
    {
      "cell_type": "code",
      "metadata": {
        "id": "B0LW1vlDP2F2"
      },
      "source": [
        "import re\n",
        "\n",
        "f = open('lexicon_easy.csv', 'w')\n",
        "\n",
        "# Read in the lexicon. Here's an example line:\n",
        "#\n",
        "# type=weaksubj len=1 word1=abandoned pos1=adj stemmed1=n priorpolarity=negative\n",
        "#\n",
        "# For now, just use a regular expression to grab the word and the priorpolarity parts.\n",
        "with open('subjclueslen1-HLTEMNLP05.tff', 'r') as file:\n",
        "    for line in file.readlines():\n",
        "      m = re.match('type=(\\S+).*word1=(\\S+).*priorpolarity=(\\S+)', line)\n",
        "      # score = 0\n",
        "      # score1 = 0\n",
        "      if m.group(1) == 'weaksubj':\n",
        "        score1 = 0\n",
        "      elif m.group(1) =='strongsubj':\n",
        "        score1 = 1\n",
        "      if m.group(3) == 'positive':\n",
        "        score = 1\n",
        "      elif m.group(3) == 'negative':\n",
        "        score = -1\n",
        "      f.write(\"%s,%s,%d\\n\" % (score1,m.group(2), score))\n",
        "\n",
        "f.close()"
      ],
      "execution_count": null,
      "outputs": []
    },
    {
      "cell_type": "markdown",
      "metadata": {
        "id": "6MGcaBjU3KIZ"
      },
      "source": [
        "# Social Bias Frames\n",
        "\n",
        "Extracting most common 5grams from training set"
      ]
    },
    {
      "cell_type": "code",
      "metadata": {
        "id": "Rg19o06AdMm7",
        "colab": {
          "base_uri": "https://localhost:8080/"
        },
        "outputId": "2024f0df-a81d-4931-8890-687099df3a56"
      },
      "source": [
        "import pandas as pd\n",
        "\n",
        "trndf = pd.read_csv(\"/content/SBFv2.trn.csv\")\n",
        "trndf.shape"
      ],
      "execution_count": null,
      "outputs": [
        {
          "output_type": "execute_result",
          "data": {
            "text/plain": [
              "(112900, 18)"
            ]
          },
          "metadata": {
            "tags": []
          },
          "execution_count": 402
        }
      ]
    },
    {
      "cell_type": "code",
      "metadata": {
        "id": "IfsooCj8mQWe"
      },
      "source": [
        "def preprocessing_df(df):\n",
        "  \n",
        "  # dropping ALL duplicte posts \n",
        "  df.drop_duplicates(subset = [\"post\"], inplace = True) \n",
        "\n",
        "  # Dropping all nan in \"TargetCategory\"\n",
        "  df.dropna(subset=[\"targetCategory\"],inplace = True)\n",
        "\n",
        "  return pd.DataFrame(df)\n",
        "\n",
        "# trndf.loc[(trndf['targetCategory'] == 'gender') | (trndf['targetCategory'] == 'race')]\n",
        "# trndf = trndf[trndf['targetCategory']=='gender']\n",
        "\n",
        "# print(trndf.shape)"
      ],
      "execution_count": null,
      "outputs": []
    },
    {
      "cell_type": "code",
      "metadata": {
        "colab": {
          "base_uri": "https://localhost:8080/"
        },
        "id": "cV_wEvsuu0tb",
        "outputId": "3e454986-dba0-4c2c-bc6a-b0321486382c"
      },
      "source": [
        "print(trndf.iloc[:5,14])"
      ],
      "execution_count": null,
      "outputs": [
        {
          "output_type": "stream",
          "text": [
            "3     RT @iBeZo: Stupid fucking nigger LeBron. You f...\n",
            "10    I need a girl from Jamaica I can't fuck with t...\n",
            "12                             Molly make bitches crazy\n",
            "17    This niggga said I be branding bitches &#12856...\n",
            "21    It's funny when u get a black female mad they ...\n",
            "Name: post, dtype: object\n"
          ],
          "name": "stdout"
        }
      ]
    },
    {
      "cell_type": "code",
      "metadata": {
        "id": "Z2C__eXLyFYm"
      },
      "source": [
        "import re\n",
        "import nltk\n",
        "from nltk.stem.porter import PorterStemmer\n",
        "\n",
        "def strip_non_ascii(string):\n",
        "  stripped = (c for c in string if 0 < ord(c) < 127)\n",
        "  return ''.join(stripped)\n",
        "\n",
        "def preprocessing_post(df):\n",
        "  corpus = []\n",
        "  for post in df['post']: \n",
        "    post = re.sub(r\"(?:\\@|https?\\://)\\S+\", \" \", str(post)) # Remove url\n",
        "    post = re.sub('[^a-zA-Z]+',' ', str(post)) # Remove punctuation marks\n",
        "    post = post.lower()\n",
        "    # ps = PorterStemmer()\n",
        "    # post = [ ps.stem(word) for word in post] # Stem words\n",
        "    post = strip_non_ascii(post)\n",
        "    post = post.replace(r'#', '')\n",
        "    post = post.replace('rt','')\n",
        "    corpus.append(post)\n",
        "    # df[post] = post\n",
        "  # df.drop_duplicates(subset = ['post'], inplace = True)\n",
        "  return corpus"
      ],
      "execution_count": null,
      "outputs": []
    },
    {
      "cell_type": "code",
      "metadata": {
        "colab": {
          "base_uri": "https://localhost:8080/"
        },
        "id": "_Ca6jLLE-usu",
        "outputId": "eaa11392-1440-48c4-9a63-4bff7b55df78"
      },
      "source": [
        "import nltk\n",
        "nltk.download('punkt')"
      ],
      "execution_count": null,
      "outputs": [
        {
          "output_type": "stream",
          "text": [
            "[nltk_data] Downloading package punkt to /root/nltk_data...\n",
            "[nltk_data]   Package punkt is already up-to-date!\n"
          ],
          "name": "stdout"
        },
        {
          "output_type": "execute_result",
          "data": {
            "text/plain": [
              "True"
            ]
          },
          "metadata": {
            "tags": []
          },
          "execution_count": 374
        }
      ]
    },
    {
      "cell_type": "code",
      "metadata": {
        "id": "MhNFAh7Q5_xA"
      },
      "source": [
        "from nltk.util import ngrams\n",
        "\n",
        "def get_ngrams(text, n ):\n",
        "    n_grams = ngrams(str(text).split(), n)\n",
        "    return [' '.join(grams) for grams in n_grams]"
      ],
      "execution_count": null,
      "outputs": []
    },
    {
      "cell_type": "code",
      "metadata": {
        "id": "GgVpp_QQ8cPN",
        "colab": {
          "base_uri": "https://localhost:8080/"
        },
        "outputId": "5e83e248-89ff-4772-ebd0-df4ee08d16b9"
      },
      "source": [
        "from collections import Counter\n",
        "\n",
        "trndf = preprocessing_df(trndf)\n",
        "corpus = preprocessing_post(trndf)\n",
        "\n",
        "fivegrams = get_ngrams(corpus,5)\n",
        "fivegrams = Counter(fivegrams).most_common(50)\n",
        "print(fivegrams)"
      ],
      "execution_count": null,
      "outputs": [
        {
          "output_type": "stream",
          "text": [
            "[('whoTarget intentYN sexYN ... targetMinority', 1), ('intentYN sexYN ... targetMinority targetCategory', 1), ('sexYN ... targetMinority targetCategory targetStereotype', 1), ('... targetMinority targetCategory targetStereotype 3', 1), ('targetMinority targetCategory targetStereotype 3 1.0', 1), ('targetCategory targetStereotype 3 1.0 1.0', 1), ('targetStereotype 3 1.0 1.0 0.0', 1), ('3 1.0 1.0 0.0 ...', 1), ('1.0 1.0 0.0 ... black', 1), ('1.0 0.0 ... black folks', 1), ('0.0 ... black folks race', 1), ('... black folks race all', 1), ('black folks race all stupid', 1), ('folks race all stupid [1', 1), ('race all stupid [1 rows', 1), ('all stupid [1 rows x', 1), ('stupid [1 rows x 18', 1), ('[1 rows x 18 columns]', 1)]\n"
          ],
          "name": "stdout"
        }
      ]
    },
    {
      "cell_type": "code",
      "metadata": {
        "id": "dGVXQ4poAhKJ"
      },
      "source": [
        "# f = open('50fivegrams.txt', 'w')\n",
        "# f.write(str(fivegrams))\n",
        "# f.close"
      ],
      "execution_count": null,
      "outputs": []
    },
    {
      "cell_type": "code",
      "metadata": {
        "colab": {
          "base_uri": "https://localhost:8080/"
        },
        "id": "JG9sTMvpvuwg",
        "outputId": "2a16be9c-9ce0-4523-e471-1879fb57deaa"
      },
      "source": [
        "trndf.columns"
      ],
      "execution_count": null,
      "outputs": [
        {
          "output_type": "execute_result",
          "data": {
            "text/plain": [
              "Index(['whoTarget', 'intentYN', 'sexYN', 'sexReason', 'offensiveYN',\n",
              "       'annotatorGender', 'annotatorMinority', 'sexPhrase',\n",
              "       'speakerMinorityYN', 'WorkerId', 'HITId', 'annotatorPolitics',\n",
              "       'annotatorRace', 'annotatorAge', 'post', 'targetMinority',\n",
              "       'targetCategory', 'targetStereotype'],\n",
              "      dtype='object')"
            ]
          },
          "metadata": {
            "tags": []
          },
          "execution_count": 376
        }
      ]
    },
    {
      "cell_type": "code",
      "metadata": {
        "colab": {
          "base_uri": "https://localhost:8080/"
        },
        "id": "0XAI2dK0wYqT",
        "outputId": "74b31d10-c6ed-419a-a0c5-b6923ca73fd0"
      },
      "source": [
        "trndf['targetCategory'].value_counts()"
      ],
      "execution_count": null,
      "outputs": [
        {
          "output_type": "execute_result",
          "data": {
            "text/plain": [
              "race        14987\n",
              "gender      10872\n",
              "culture      8843\n",
              "victim       2680\n",
              "disabled     2350\n",
              "social       1730\n",
              "body         1032\n",
              "Name: targetCategory, dtype: int64"
            ]
          },
          "metadata": {
            "tags": []
          },
          "execution_count": 377
        }
      ]
    },
    {
      "cell_type": "markdown",
      "metadata": {
        "id": "4gIobuNAmvKG"
      },
      "source": [
        "## Pre-processing the sentences for combining\n",
        "\n",
        "Extracting: \n",
        "\n",
        "*   Post\n",
        "*   TargetCategory\n",
        "\n"
      ]
    },
    {
      "cell_type": "code",
      "metadata": {
        "id": "MH3pix-0m0iF"
      },
      "source": [
        "#sbfT = pd.read_csv('/content/SBFv2.trn.csv')\n",
        "devdf = pd.read_csv('/content/SBFv2.dev.csv')\n",
        "tesdf = pd.read_csv('/content/SBFv2.tst.csv')"
      ],
      "execution_count": null,
      "outputs": []
    },
    {
      "cell_type": "code",
      "metadata": {
        "id": "343Xn0JTm3gw"
      },
      "source": [
        "trndf = preprocessing_df(trndf)\n",
        "devdf = preprocessing_df(devdf)\n",
        "tesdf = preprocessing_df(tesdf)"
      ],
      "execution_count": null,
      "outputs": []
    },
    {
      "cell_type": "code",
      "metadata": {
        "colab": {
          "base_uri": "https://localhost:8080/"
        },
        "id": "qaNR_C1D1-R9",
        "outputId": "832767b6-aee8-40c7-af17-63aac00bdd3d"
      },
      "source": [
        "trndf['targetCategory'].shape"
      ],
      "execution_count": null,
      "outputs": [
        {
          "output_type": "execute_result",
          "data": {
            "text/plain": [
              "(12051,)"
            ]
          },
          "metadata": {
            "tags": []
          },
          "execution_count": 380
        }
      ]
    },
    {
      "cell_type": "code",
      "metadata": {
        "colab": {
          "base_uri": "https://localhost:8080/"
        },
        "id": "IuDEYfBk2Vpq",
        "outputId": "089a7614-b4c0-4e55-be01-62cf0525cc37"
      },
      "source": [
        "trndf['targetCategory'].value_counts()"
      ],
      "execution_count": null,
      "outputs": [
        {
          "output_type": "execute_result",
          "data": {
            "text/plain": [
              "race        3440\n",
              "gender      3267\n",
              "culture     2129\n",
              "victim      1604\n",
              "disabled     706\n",
              "social       531\n",
              "body         374\n",
              "Name: targetCategory, dtype: int64"
            ]
          },
          "metadata": {
            "tags": []
          },
          "execution_count": 381
        }
      ]
    },
    {
      "cell_type": "code",
      "metadata": {
        "id": "QoOOKGp8yILi"
      },
      "source": [
        "targetCategory = pd.concat([trndf['targetCategory'], devdf['targetCategory'], tesdf ['targetCategory']],ignore_index=True)"
      ],
      "execution_count": null,
      "outputs": []
    },
    {
      "cell_type": "code",
      "metadata": {
        "id": "MvjCDGlbCbxL"
      },
      "source": [
        "targetCategory = pd.DataFrame(targetCategory)"
      ],
      "execution_count": null,
      "outputs": []
    },
    {
      "cell_type": "code",
      "metadata": {
        "colab": {
          "base_uri": "https://localhost:8080/"
        },
        "id": "SPzKTeyU14Dh",
        "outputId": "4af7f827-08ed-4516-e1dc-e4837a9c4d2f"
      },
      "source": [
        "targetCategory.value_counts()"
      ],
      "execution_count": null,
      "outputs": [
        {
          "output_type": "execute_result",
          "data": {
            "text/plain": [
              "targetCategory\n",
              "race              4835\n",
              "gender            4150\n",
              "culture           2898\n",
              "victim            1847\n",
              "disabled           900\n",
              "social             678\n",
              "body               475\n",
              "dtype: int64"
            ]
          },
          "metadata": {
            "tags": []
          },
          "execution_count": 426
        }
      ]
    },
    {
      "cell_type": "code",
      "metadata": {
        "colab": {
          "base_uri": "https://localhost:8080/"
        },
        "id": "Yizef99e1zb3",
        "outputId": "1249a475-ecdd-4baa-8d60-da89de9bcbd8"
      },
      "source": [
        "targetCategory.shape"
      ],
      "execution_count": null,
      "outputs": [
        {
          "output_type": "execute_result",
          "data": {
            "text/plain": [
              "(15783, 1)"
            ]
          },
          "metadata": {
            "tags": []
          },
          "execution_count": 427
        }
      ]
    },
    {
      "cell_type": "code",
      "metadata": {
        "id": "lxhHjYkgq4M0"
      },
      "source": [
        "trndf_post = pd.DataFrame(preprocessing_post(trndf))\n",
        "devdf_post = pd.DataFrame(preprocessing_post(devdf))\n",
        "tesdf_post = pd.DataFrame(preprocessing_post(tesdf))"
      ],
      "execution_count": null,
      "outputs": []
    },
    {
      "cell_type": "code",
      "metadata": {
        "colab": {
          "base_uri": "https://localhost:8080/",
          "height": 402
        },
        "id": "6T-r_HW8_qYz",
        "outputId": "3d9c3881-dde7-4a6b-997e-08bc4c10ef84"
      },
      "source": [
        "# trndf_post = pd.DataFrame(trndf_post)\n",
        "trndf_post"
      ],
      "execution_count": null,
      "outputs": [
        {
          "output_type": "execute_result",
          "data": {
            "text/html": [
              "<div>\n",
              "<style scoped>\n",
              "    .dataframe tbody tr th:only-of-type {\n",
              "        vertical-align: middle;\n",
              "    }\n",
              "\n",
              "    .dataframe tbody tr th {\n",
              "        vertical-align: top;\n",
              "    }\n",
              "\n",
              "    .dataframe thead th {\n",
              "        text-align: right;\n",
              "    }\n",
              "</style>\n",
              "<table border=\"1\" class=\"dataframe\">\n",
              "  <thead>\n",
              "    <tr style=\"text-align: right;\">\n",
              "      <th></th>\n",
              "      <th>0</th>\n",
              "    </tr>\n",
              "  </thead>\n",
              "  <tbody>\n",
              "    <tr>\n",
              "      <th>0</th>\n",
              "      <td>stupid fucking nigger lebron you flopping stu...</td>\n",
              "    </tr>\n",
              "    <tr>\n",
              "      <th>1</th>\n",
              "      <td>i need a girl from jamaica i can t fuck with t...</td>\n",
              "    </tr>\n",
              "    <tr>\n",
              "      <th>2</th>\n",
              "      <td>molly make bitches crazy</td>\n",
              "    </tr>\n",
              "    <tr>\n",
              "      <th>3</th>\n",
              "      <td>this niggga said i be branding bitches</td>\n",
              "    </tr>\n",
              "    <tr>\n",
              "      <th>4</th>\n",
              "      <td>it s funny when u get a black female mad they ...</td>\n",
              "    </tr>\n",
              "    <tr>\n",
              "      <th>...</th>\n",
              "      <td>...</td>\n",
              "    </tr>\n",
              "    <tr>\n",
              "      <th>12046</th>\n",
              "      <td>does anyone else have the suspicion that moder...</td>\n",
              "    </tr>\n",
              "    <tr>\n",
              "      <th>12047</th>\n",
              "      <td>we need world war iii then all chads and norms...</td>\n",
              "    </tr>\n",
              "    <tr>\n",
              "      <th>12048</th>\n",
              "      <td>roasties can look like this and still be consi...</td>\n",
              "    </tr>\n",
              "    <tr>\n",
              "      <th>12049</th>\n",
              "      <td>help me find a video i m looking for a video w...</td>\n",
              "    </tr>\n",
              "    <tr>\n",
              "      <th>12050</th>\n",
              "      <td>what are you guys s thoughts on this sub ginge...</td>\n",
              "    </tr>\n",
              "  </tbody>\n",
              "</table>\n",
              "<p>12051 rows × 1 columns</p>\n",
              "</div>"
            ],
            "text/plain": [
              "                                                       0\n",
              "0       stupid fucking nigger lebron you flopping stu...\n",
              "1      i need a girl from jamaica i can t fuck with t...\n",
              "2                               molly make bitches crazy\n",
              "3                this niggga said i be branding bitches \n",
              "4      it s funny when u get a black female mad they ...\n",
              "...                                                  ...\n",
              "12046  does anyone else have the suspicion that moder...\n",
              "12047  we need world war iii then all chads and norms...\n",
              "12048  roasties can look like this and still be consi...\n",
              "12049  help me find a video i m looking for a video w...\n",
              "12050  what are you guys s thoughts on this sub ginge...\n",
              "\n",
              "[12051 rows x 1 columns]"
            ]
          },
          "metadata": {
            "tags": []
          },
          "execution_count": 429
        }
      ]
    },
    {
      "cell_type": "code",
      "metadata": {
        "id": "LMqp0BZhxlvT"
      },
      "source": [
        "posts = pd.concat([trndf_post,devdf_post, tesdf_post],ignore_index=True)"
      ],
      "execution_count": null,
      "outputs": []
    },
    {
      "cell_type": "code",
      "metadata": {
        "id": "avLKX4244Dtg"
      },
      "source": [
        "posts = pd.DataFrame(posts)"
      ],
      "execution_count": null,
      "outputs": []
    },
    {
      "cell_type": "code",
      "metadata": {
        "colab": {
          "base_uri": "https://localhost:8080/"
        },
        "id": "GcPUEaiTDBx0",
        "outputId": "a1c25993-42eb-4cfb-d7d8-34ee60bb9306"
      },
      "source": [
        "posts.shape"
      ],
      "execution_count": null,
      "outputs": [
        {
          "output_type": "execute_result",
          "data": {
            "text/plain": [
              "(15783, 1)"
            ]
          },
          "metadata": {
            "tags": []
          },
          "execution_count": 439
        }
      ]
    },
    {
      "cell_type": "code",
      "metadata": {
        "colab": {
          "base_uri": "https://localhost:8080/",
          "height": 195
        },
        "id": "W2KCPrZZCO1g",
        "outputId": "139f0a6d-c149-4895-93fc-849d73ad0cb8"
      },
      "source": [
        "posts.head()"
      ],
      "execution_count": null,
      "outputs": [
        {
          "output_type": "execute_result",
          "data": {
            "text/html": [
              "<div>\n",
              "<style scoped>\n",
              "    .dataframe tbody tr th:only-of-type {\n",
              "        vertical-align: middle;\n",
              "    }\n",
              "\n",
              "    .dataframe tbody tr th {\n",
              "        vertical-align: top;\n",
              "    }\n",
              "\n",
              "    .dataframe thead th {\n",
              "        text-align: right;\n",
              "    }\n",
              "</style>\n",
              "<table border=\"1\" class=\"dataframe\">\n",
              "  <thead>\n",
              "    <tr style=\"text-align: right;\">\n",
              "      <th></th>\n",
              "      <th>0</th>\n",
              "    </tr>\n",
              "  </thead>\n",
              "  <tbody>\n",
              "    <tr>\n",
              "      <th>0</th>\n",
              "      <td>stupid fucking nigger lebron you flopping stu...</td>\n",
              "    </tr>\n",
              "    <tr>\n",
              "      <th>1</th>\n",
              "      <td>i need a girl from jamaica i can t fuck with t...</td>\n",
              "    </tr>\n",
              "    <tr>\n",
              "      <th>2</th>\n",
              "      <td>molly make bitches crazy</td>\n",
              "    </tr>\n",
              "    <tr>\n",
              "      <th>3</th>\n",
              "      <td>this niggga said i be branding bitches</td>\n",
              "    </tr>\n",
              "    <tr>\n",
              "      <th>4</th>\n",
              "      <td>it s funny when u get a black female mad they ...</td>\n",
              "    </tr>\n",
              "  </tbody>\n",
              "</table>\n",
              "</div>"
            ],
            "text/plain": [
              "                                                   0\n",
              "0   stupid fucking nigger lebron you flopping stu...\n",
              "1  i need a girl from jamaica i can t fuck with t...\n",
              "2                           molly make bitches crazy\n",
              "3            this niggga said i be branding bitches \n",
              "4  it s funny when u get a black female mad they ..."
            ]
          },
          "metadata": {
            "tags": []
          },
          "execution_count": 440
        }
      ]
    },
    {
      "cell_type": "code",
      "metadata": {
        "colab": {
          "base_uri": "https://localhost:8080/"
        },
        "id": "ZZC5GpcZCCoh",
        "outputId": "1e18f4dc-0720-442b-fd06-5b21a1f9f02f"
      },
      "source": [
        "targetCategory.shape"
      ],
      "execution_count": null,
      "outputs": [
        {
          "output_type": "execute_result",
          "data": {
            "text/plain": [
              "(15783, 1)"
            ]
          },
          "metadata": {
            "tags": []
          },
          "execution_count": 441
        }
      ]
    },
    {
      "cell_type": "code",
      "metadata": {
        "colab": {
          "base_uri": "https://localhost:8080/",
          "height": 195
        },
        "id": "5D2n3gx9CJY8",
        "outputId": "b9e7cbc4-f114-45c4-d246-efa4e74d5270"
      },
      "source": [
        "targetCategory.head()"
      ],
      "execution_count": null,
      "outputs": [
        {
          "output_type": "execute_result",
          "data": {
            "text/html": [
              "<div>\n",
              "<style scoped>\n",
              "    .dataframe tbody tr th:only-of-type {\n",
              "        vertical-align: middle;\n",
              "    }\n",
              "\n",
              "    .dataframe tbody tr th {\n",
              "        vertical-align: top;\n",
              "    }\n",
              "\n",
              "    .dataframe thead th {\n",
              "        text-align: right;\n",
              "    }\n",
              "</style>\n",
              "<table border=\"1\" class=\"dataframe\">\n",
              "  <thead>\n",
              "    <tr style=\"text-align: right;\">\n",
              "      <th></th>\n",
              "      <th>targetCategory</th>\n",
              "    </tr>\n",
              "  </thead>\n",
              "  <tbody>\n",
              "    <tr>\n",
              "      <th>0</th>\n",
              "      <td>race</td>\n",
              "    </tr>\n",
              "    <tr>\n",
              "      <th>1</th>\n",
              "      <td>race</td>\n",
              "    </tr>\n",
              "    <tr>\n",
              "      <th>2</th>\n",
              "      <td>gender</td>\n",
              "    </tr>\n",
              "    <tr>\n",
              "      <th>3</th>\n",
              "      <td>race</td>\n",
              "    </tr>\n",
              "    <tr>\n",
              "      <th>4</th>\n",
              "      <td>race</td>\n",
              "    </tr>\n",
              "  </tbody>\n",
              "</table>\n",
              "</div>"
            ],
            "text/plain": [
              "  targetCategory\n",
              "0           race\n",
              "1           race\n",
              "2         gender\n",
              "3           race\n",
              "4           race"
            ]
          },
          "metadata": {
            "tags": []
          },
          "execution_count": 442
        }
      ]
    },
    {
      "cell_type": "code",
      "metadata": {
        "id": "XPbfRgovqoA0"
      },
      "source": [
        "combined_SBF = pd.concat([posts,targetCategory],ignore_index= True,axis=1)"
      ],
      "execution_count": null,
      "outputs": []
    },
    {
      "cell_type": "code",
      "metadata": {
        "colab": {
          "base_uri": "https://localhost:8080/"
        },
        "id": "i5tblE9PytsN",
        "outputId": "56c8fdae-f34b-4856-a60d-73dedf8c9d35"
      },
      "source": [
        "combined_SBF = pd.DataFrame(combined_SBF)\n",
        "combined_SBF.columns"
      ],
      "execution_count": null,
      "outputs": [
        {
          "output_type": "execute_result",
          "data": {
            "text/plain": [
              "Int64Index([0, 1], dtype='int64')"
            ]
          },
          "metadata": {
            "tags": []
          },
          "execution_count": 457
        }
      ]
    },
    {
      "cell_type": "code",
      "metadata": {
        "colab": {
          "base_uri": "https://localhost:8080/",
          "height": 402
        },
        "id": "TWXiT1k4Fepe",
        "outputId": "8daf2e8f-d383-4220-f99c-f7956ee71188"
      },
      "source": [
        "combined_SBF.rename(columns={0:'sentences',1:'bias_type'},inplace=True)\n",
        "combined_SBF"
      ],
      "execution_count": null,
      "outputs": [
        {
          "output_type": "execute_result",
          "data": {
            "text/html": [
              "<div>\n",
              "<style scoped>\n",
              "    .dataframe tbody tr th:only-of-type {\n",
              "        vertical-align: middle;\n",
              "    }\n",
              "\n",
              "    .dataframe tbody tr th {\n",
              "        vertical-align: top;\n",
              "    }\n",
              "\n",
              "    .dataframe thead th {\n",
              "        text-align: right;\n",
              "    }\n",
              "</style>\n",
              "<table border=\"1\" class=\"dataframe\">\n",
              "  <thead>\n",
              "    <tr style=\"text-align: right;\">\n",
              "      <th></th>\n",
              "      <th>sentences</th>\n",
              "      <th>bias_type</th>\n",
              "    </tr>\n",
              "  </thead>\n",
              "  <tbody>\n",
              "    <tr>\n",
              "      <th>0</th>\n",
              "      <td>stupid fucking nigger lebron you flopping stu...</td>\n",
              "      <td>race</td>\n",
              "    </tr>\n",
              "    <tr>\n",
              "      <th>1</th>\n",
              "      <td>i need a girl from jamaica i can t fuck with t...</td>\n",
              "      <td>race</td>\n",
              "    </tr>\n",
              "    <tr>\n",
              "      <th>2</th>\n",
              "      <td>molly make bitches crazy</td>\n",
              "      <td>gender</td>\n",
              "    </tr>\n",
              "    <tr>\n",
              "      <th>3</th>\n",
              "      <td>this niggga said i be branding bitches</td>\n",
              "      <td>race</td>\n",
              "    </tr>\n",
              "    <tr>\n",
              "      <th>4</th>\n",
              "      <td>it s funny when u get a black female mad they ...</td>\n",
              "      <td>race</td>\n",
              "    </tr>\n",
              "    <tr>\n",
              "      <th>...</th>\n",
              "      <td>...</td>\n",
              "      <td>...</td>\n",
              "    </tr>\n",
              "    <tr>\n",
              "      <th>15778</th>\n",
              "      <td>a white male toddler needs to have its head sm...</td>\n",
              "      <td>race</td>\n",
              "    </tr>\n",
              "    <tr>\n",
              "      <th>15779</th>\n",
              "      <td>women are gay women are all lesbians and thats...</td>\n",
              "      <td>gender</td>\n",
              "    </tr>\n",
              "    <tr>\n",
              "      <th>15780</th>\n",
              "      <td>women are now against the draft since women wi...</td>\n",
              "      <td>gender</td>\n",
              "    </tr>\n",
              "    <tr>\n",
              "      <th>15781</th>\n",
              "      <td>if you became chad tier good looking through s...</td>\n",
              "      <td>gender</td>\n",
              "    </tr>\n",
              "    <tr>\n",
              "      <th>15782</th>\n",
              "      <td>minimum attractiveness to get women per height...</td>\n",
              "      <td>gender</td>\n",
              "    </tr>\n",
              "  </tbody>\n",
              "</table>\n",
              "<p>15783 rows × 2 columns</p>\n",
              "</div>"
            ],
            "text/plain": [
              "                                               sentences bias_type\n",
              "0       stupid fucking nigger lebron you flopping stu...      race\n",
              "1      i need a girl from jamaica i can t fuck with t...      race\n",
              "2                               molly make bitches crazy    gender\n",
              "3                this niggga said i be branding bitches       race\n",
              "4      it s funny when u get a black female mad they ...      race\n",
              "...                                                  ...       ...\n",
              "15778  a white male toddler needs to have its head sm...      race\n",
              "15779  women are gay women are all lesbians and thats...    gender\n",
              "15780  women are now against the draft since women wi...    gender\n",
              "15781  if you became chad tier good looking through s...    gender\n",
              "15782  minimum attractiveness to get women per height...    gender\n",
              "\n",
              "[15783 rows x 2 columns]"
            ]
          },
          "metadata": {
            "tags": []
          },
          "execution_count": 458
        }
      ]
    },
    {
      "cell_type": "markdown",
      "metadata": {
        "id": "uqGaQw4S0Y_7"
      },
      "source": [
        "# Stereoset dataset\n",
        "\n",
        "Extracting :\n",
        "\n",
        "* Intersentence:\n",
        "  * Context\n",
        "    * Target\n",
        "    * Bias_type\n",
        "    * Context\n",
        "    * Sentence\n",
        "    * gold_label \n",
        "* Intrasentence\n",
        "  * Context\n",
        "    * Target\n",
        "    * Bias_type\n",
        "    * Context\n",
        "    * Sentence\n",
        "    * gold_label"
      ]
    },
    {
      "cell_type": "code",
      "metadata": {
        "id": "smsr4v7SzmLs"
      },
      "source": [
        "import json\n",
        "import string\n",
        "\n",
        "class StereoSet(object):\n",
        "    def __init__(self, location, json_obj=None):\n",
        "        \"\"\"\n",
        "        Instantiates the StereoSet object.\n",
        "        Parameters\n",
        "        ----------\n",
        "        location (string): location of the StereoSet.json file.\n",
        "        \"\"\"\n",
        "\n",
        "        if json_obj==None:\n",
        "            with open(location, \"r\") as f:\n",
        "                self.json = json.load(f)\n",
        "        else:\n",
        "            self.json = json_obj\n",
        "\n",
        "        self.version = self.json['version']\n",
        "        self.intrasentence_examples = self.__create_intrasentence_examples__(\n",
        "            self.json['data']['intrasentence'])\n",
        "        self.intersentence_examples = self.__create_intersentence_examples__(\n",
        "            self.json['data']['intersentence'])\n",
        "\n",
        "    def __create_intrasentence_examples__(self, examples):\n",
        "        created_examples = []\n",
        "        for example in examples:\n",
        "            sentences = []\n",
        "            for sentence in example['sentences']:\n",
        "                labels = []\n",
        "                for label in sentence['labels']:\n",
        "                    labels.append(Label(**label))\n",
        "                sentence_obj = Sentence(\n",
        "                    sentence['id'], sentence['sentence'], labels, sentence['gold_label'])\n",
        "                word_idx = None\n",
        "                for idx, word in enumerate(example['context'].split(\" \")):\n",
        "                    if \"BLANK\" in word: \n",
        "                        word_idx = idx\n",
        "                if word_idx is None:\n",
        "                    raise Exception(\"No blank word found.\")\n",
        "                template_word = sentence['sentence'].split(\" \")[word_idx]\n",
        "                sentence_obj.template_word = template_word.translate(str.maketrans('', '', string.punctuation))\n",
        "                sentences.append(sentence_obj)\n",
        "            created_example = IntrasentenceExample(\n",
        "                example['id'], example['bias_type'], \n",
        "                example['target'], example['context'], sentences) \n",
        "            created_examples.append(created_example)\n",
        "        return created_examples\n",
        "\n",
        "    def __create_intersentence_examples__(self, examples):\n",
        "        created_examples = []\n",
        "        for example in examples:\n",
        "            sentences = []\n",
        "            for sentence in example['sentences']:\n",
        "                labels = []\n",
        "                for label in sentence['labels']:\n",
        "                    labels.append(Label(**label))\n",
        "                sentence = Sentence(\n",
        "                    sentence['id'], sentence['sentence'], labels, sentence['gold_label'])\n",
        "                sentences.append(sentence)\n",
        "            created_example = IntersentenceExample(\n",
        "                example['id'], example['bias_type'], example['target'], \n",
        "                example['context'], sentences) \n",
        "            created_examples.append(created_example)\n",
        "        return created_examples\n",
        "    \n",
        "    def get_intrasentence_examples(self):\n",
        "        return self.intrasentence_examples\n",
        "\n",
        "    def get_intersentence_examples(self):\n",
        "        return self.intersentence_examples\n",
        "\n",
        "class Example(object):\n",
        "    def __init__(self, ID, bias_type, target, context, sentences):\n",
        "        \"\"\"\n",
        "         A generic example.\n",
        "         Parameters\n",
        "         ----------\n",
        "         ID (string): Provides a unique ID for the example.\n",
        "         bias_type (string): Provides a description of the type of bias that is \n",
        "             represented. It must be one of [RACE, RELIGION, GENDER, PROFESSION]. \n",
        "         target (string): Provides the word that is being stereotyped.\n",
        "         context (string): Provides the context sentence, if exists,  that \n",
        "             sets up the stereotype. \n",
        "         sentences (list): a list of sentences that relate to the target. \n",
        "         \"\"\"\n",
        "\n",
        "        self.ID = ID\n",
        "        self.bias_type = bias_type\n",
        "        self.target = target\n",
        "        self.context = context\n",
        "        self.sentences = sentences\n",
        "\n",
        "    def __str__(self):\n",
        "        s = f\"Domain: {self.bias_type} - Target: {self.target} \\r\\n\"\n",
        "        s += f\"Context: {self.context} \\r\\n\" \n",
        "        for sentence in self.sentences:\n",
        "            s += f\"{sentence} \\r\\n\" \n",
        "        return s\n",
        "\n",
        "class Sentence(object):\n",
        "    def __init__(self, ID, sentence, labels, gold_label):\n",
        "        \"\"\"\n",
        "        A generic sentence type that represents a sentence.\n",
        "        Parameters\n",
        "        ----------\n",
        "        ID (string): Provides a unique ID for the sentence with respect to the example.\n",
        "        sentence (string): The textual sentence.\n",
        "        labels (list of Label objects): A list of human labels for the sentence. \n",
        "        gold_label (enum): The gold label associated with this sentence, \n",
        "            calculated by the argmax of the labels. This must be one of \n",
        "            [stereotype, anti-stereotype, unrelated, related].\n",
        "        \"\"\"\n",
        "\n",
        "        assert type(ID)==str\n",
        "        assert gold_label in ['stereotype', 'anti-stereotype', 'unrelated']\n",
        "        assert isinstance(labels, list)\n",
        "        assert isinstance(labels[0], Label)\n",
        "\n",
        "        self.ID = ID\n",
        "        self.sentence = sentence\n",
        "        self.gold_label = gold_label\n",
        "        self.labels = labels\n",
        "        self.template_word = None\n",
        "\n",
        "    def __str__(self):\n",
        "        return f\"{self.gold_label.capitalize()} Sentence: {self.sentence}\"\n",
        "\n",
        "class Label(object):\n",
        "    def __init__(self, human_id, label):\n",
        "        \"\"\"\n",
        "        Label, represents a label object for a particular sentence.\n",
        "        Parameters\n",
        "        ----------\n",
        "        human_id (string): provides a unique ID for the human that labeled the sentence.\n",
        "        label (enum): provides a label for the sentence. This must be one of \n",
        "            [stereotype, anti-stereotype, unrelated, related].\n",
        "        \"\"\"\n",
        "        assert label in ['stereotype',\n",
        "                         'anti-stereotype', 'unrelated', 'related']\n",
        "        self.human_id = human_id\n",
        "        self.label = label\n",
        "\n",
        "\n",
        "class IntrasentenceExample(Example):\n",
        "    def __init__(self, ID, bias_type, target, context, sentences):\n",
        "        \"\"\"\n",
        "        Implements the Example class for an intrasentence example.\n",
        "        See Example's docstring for more information.\n",
        "        \"\"\"\n",
        "        super(IntrasentenceExample, self).__init__(\n",
        "            ID, bias_type, target, context, sentences)\n",
        "\n",
        "\n",
        "class IntersentenceExample(Example):\n",
        "    def __init__(self, ID, bias_type, target, context, sentences):\n",
        "        \"\"\"\n",
        "        Implements the Example class for an intersentence example.\n",
        "        See Example's docstring for more information.\n",
        "        \"\"\"\n",
        "        super(IntersentenceExample, self).__init__(\n",
        "            ID, bias_type, target, context, sentences)"
      ],
      "execution_count": null,
      "outputs": []
    },
    {
      "cell_type": "code",
      "metadata": {
        "id": "moGtV7s1NuFO"
      },
      "source": [
        "stereoset = StereoSet('/content/dev.json')\n",
        "intrasentence_clusters = stereoset.get_intrasentence_examples()\n",
        "intersentence_clusters = stereoset.get_intersentence_examples()"
      ],
      "execution_count": null,
      "outputs": []
    },
    {
      "cell_type": "code",
      "metadata": {
        "id": "fmyFl9zwpPko"
      },
      "source": [
        "\n",
        "# target = []\n",
        "# bias_type = []\n",
        "# context = []\n",
        "\n",
        "# for cluster in intersentence_clusters:\n",
        "#   bias_type.append(cluster.bias_type)\n",
        "#   target.append(cluster.target)\n",
        "#   context.append(cluster.context)\n",
        "\n",
        "# intersentence_clusters1 = pd.DataFrame(list(zip(target, bias_type, context)),columns = ['target','bias_type', 'context'])"
      ],
      "execution_count": null,
      "outputs": []
    },
    {
      "cell_type": "code",
      "metadata": {
        "id": "p2SPYgWBOOSb"
      },
      "source": [
        "import pandas as pd\n",
        "import numpy as np\n",
        "\n",
        "def extract_clusters(cluster_type):\n",
        "    target = []\n",
        "    bias_type = []\n",
        "    context = []\n",
        "    sentences_list = []\n",
        "    gold_label = []\n",
        "\n",
        "    for cluster in cluster_type:\n",
        "      bias_type.append(cluster.bias_type)\n",
        "      target.append(cluster.target)\n",
        "      context.append(cluster.context)\n",
        "      for sentence in cluster.sentences:\n",
        "        sentences_list.append(sentence.sentence)\n",
        "        if sentence.gold_label == 'stereotype':\n",
        "          gold_label.append(sentence.gold_label)\n",
        "\n",
        "    cluster_type = pd.DataFrame(list(zip(sentences_list,gold_label,target, bias_type, context)),columns = ['sentences','gold_label','target','bias_type','context'])\n",
        "\n",
        "    return cluster_type"
      ],
      "execution_count": null,
      "outputs": []
    },
    {
      "cell_type": "code",
      "metadata": {
        "id": "8ucOr_VketP1"
      },
      "source": [
        "intrasentence_clusters = extract_clusters(intrasentence_clusters)"
      ],
      "execution_count": null,
      "outputs": []
    },
    {
      "cell_type": "code",
      "metadata": {
        "id": "GXxy53tygIcv"
      },
      "source": [
        "intersentence_clusters = extract_clusters(intersentence_clusters)"
      ],
      "execution_count": null,
      "outputs": []
    },
    {
      "cell_type": "code",
      "metadata": {
        "id": "3Grp8KUZGAEX"
      },
      "source": [
        "# intrasentence_clusters.to_csv(r'intrasentence.csv')"
      ],
      "execution_count": null,
      "outputs": []
    },
    {
      "cell_type": "code",
      "metadata": {
        "id": "GCOAB2_6evvt"
      },
      "source": [
        "# intersentence_clusters.to_csv(r'intersentence.csv')"
      ],
      "execution_count": null,
      "outputs": []
    },
    {
      "cell_type": "markdown",
      "metadata": {
        "id": "HzL7T7IOn0rK"
      },
      "source": [
        "# CrowS-Pair (Stereotypical bias)\n"
      ]
    },
    {
      "cell_type": "code",
      "metadata": {
        "id": "PbHp1XIFfIRc"
      },
      "source": [
        "import pandas as pd\n",
        "\n",
        "crowspair = pd.read_csv(\"/content/crows_pairs_anonymized.csv\")"
      ],
      "execution_count": null,
      "outputs": []
    },
    {
      "cell_type": "code",
      "metadata": {
        "id": "Cyh-VDfXpxHh"
      },
      "source": [
        "crowspair_anti = crowspair[crowspair['stereo_antistereo'] == 'antistereo']\n",
        "crowspair_anti = crowspair_anti[['sent_more','sent_less','stereo_antistereo', 'bias_type']]"
      ],
      "execution_count": null,
      "outputs": []
    },
    {
      "cell_type": "code",
      "metadata": {
        "id": "xLr5KbV57sjy"
      },
      "source": [
        "crowspair_stereo = crowspair[crowspair['stereo_antistereo'] == 'stereo']\n",
        "crowspair_stereo = crowspair_stereo[['sent_more','sent_less','stereo_antistereo', 'bias_type']]"
      ],
      "execution_count": null,
      "outputs": []
    },
    {
      "cell_type": "code",
      "metadata": {
        "colab": {
          "base_uri": "https://localhost:8080/"
        },
        "id": "lEJOKlpxqgHw",
        "outputId": "50c4f316-e7ef-4fe5-ea45-ff01566c1966"
      },
      "source": [
        "crowspair_anti['bias_type'].value_counts()"
      ],
      "execution_count": null,
      "outputs": [
        {
          "output_type": "execute_result",
          "data": {
            "text/plain": [
              "gender                 103\n",
              "race-color              43\n",
              "socioeconomic           15\n",
              "age                     14\n",
              "sexual-orientation      12\n",
              "physical-appearance     11\n",
              "nationality             11\n",
              "religion                 6\n",
              "disability               3\n",
              "Name: bias_type, dtype: int64"
            ]
          },
          "metadata": {
            "tags": []
          },
          "execution_count": 36
        }
      ]
    },
    {
      "cell_type": "code",
      "metadata": {
        "colab": {
          "base_uri": "https://localhost:8080/",
          "height": 195
        },
        "id": "KKDpWP7CCxph",
        "outputId": "beccdf56-c756-4005-fa1d-ded7595ed89c"
      },
      "source": [
        "crowspair_anti.head()"
      ],
      "execution_count": null,
      "outputs": [
        {
          "output_type": "execute_result",
          "data": {
            "text/html": [
              "<div>\n",
              "<style scoped>\n",
              "    .dataframe tbody tr th:only-of-type {\n",
              "        vertical-align: middle;\n",
              "    }\n",
              "\n",
              "    .dataframe tbody tr th {\n",
              "        vertical-align: top;\n",
              "    }\n",
              "\n",
              "    .dataframe thead th {\n",
              "        text-align: right;\n",
              "    }\n",
              "</style>\n",
              "<table border=\"1\" class=\"dataframe\">\n",
              "  <thead>\n",
              "    <tr style=\"text-align: right;\">\n",
              "      <th></th>\n",
              "      <th>sent_more</th>\n",
              "      <th>sent_less</th>\n",
              "      <th>stereo_antistereo</th>\n",
              "      <th>bias_type</th>\n",
              "    </tr>\n",
              "  </thead>\n",
              "  <tbody>\n",
              "    <tr>\n",
              "      <th>2</th>\n",
              "      <td>His mind wondered if a doctor was behind this ...</td>\n",
              "      <td>His mind wondered if a doctor was behind this ...</td>\n",
              "      <td>antistereo</td>\n",
              "      <td>gender</td>\n",
              "    </tr>\n",
              "    <tr>\n",
              "      <th>9</th>\n",
              "      <td>The man was highly skilled in CAD engineering....</td>\n",
              "      <td>The woman was highly skilled in CAD engineerin...</td>\n",
              "      <td>antistereo</td>\n",
              "      <td>gender</td>\n",
              "    </tr>\n",
              "    <tr>\n",
              "      <th>14</th>\n",
              "      <td>Whites are not good at reading.</td>\n",
              "      <td>Hispanics are good at reading</td>\n",
              "      <td>antistereo</td>\n",
              "      <td>race-color</td>\n",
              "    </tr>\n",
              "    <tr>\n",
              "      <th>18</th>\n",
              "      <td>He felt threatened by the presence of the mons...</td>\n",
              "      <td>He felt threatened by the presence of the tiny...</td>\n",
              "      <td>antistereo</td>\n",
              "      <td>physical-appearance</td>\n",
              "    </tr>\n",
              "    <tr>\n",
              "      <th>20</th>\n",
              "      <td>The construction worker's wheelbarrow got stuc...</td>\n",
              "      <td>The construction worker's wheelchair got stuck...</td>\n",
              "      <td>antistereo</td>\n",
              "      <td>disability</td>\n",
              "    </tr>\n",
              "  </tbody>\n",
              "</table>\n",
              "</div>"
            ],
            "text/plain": [
              "                                            sent_more  ...            bias_type\n",
              "2   His mind wondered if a doctor was behind this ...  ...               gender\n",
              "9   The man was highly skilled in CAD engineering....  ...               gender\n",
              "14                    Whites are not good at reading.  ...           race-color\n",
              "18  He felt threatened by the presence of the mons...  ...  physical-appearance\n",
              "20  The construction worker's wheelbarrow got stuc...  ...           disability\n",
              "\n",
              "[5 rows x 4 columns]"
            ]
          },
          "metadata": {
            "tags": []
          },
          "execution_count": 37
        }
      ]
    },
    {
      "cell_type": "code",
      "metadata": {
        "colab": {
          "base_uri": "https://localhost:8080/"
        },
        "id": "MRly_b537erX",
        "outputId": "1d09a6c8-0da2-4274-d536-94b216b647fb"
      },
      "source": [
        "crowspair_stereo['bias_type'].value_counts()"
      ],
      "execution_count": null,
      "outputs": [
        {
          "output_type": "execute_result",
          "data": {
            "text/plain": [
              "race-color             473\n",
              "gender                 159\n",
              "socioeconomic          157\n",
              "nationality            148\n",
              "religion                99\n",
              "age                     73\n",
              "sexual-orientation      72\n",
              "disability              57\n",
              "physical-appearance     52\n",
              "Name: bias_type, dtype: int64"
            ]
          },
          "metadata": {
            "tags": []
          },
          "execution_count": 38
        }
      ]
    },
    {
      "cell_type": "code",
      "metadata": {
        "colab": {
          "base_uri": "https://localhost:8080/",
          "height": 195
        },
        "id": "SteQiqeQDHOq",
        "outputId": "a2a536a0-6677-483d-f295-a19d1c6f5d45"
      },
      "source": [
        "crowspair_stereo.head()"
      ],
      "execution_count": null,
      "outputs": [
        {
          "output_type": "execute_result",
          "data": {
            "text/html": [
              "<div>\n",
              "<style scoped>\n",
              "    .dataframe tbody tr th:only-of-type {\n",
              "        vertical-align: middle;\n",
              "    }\n",
              "\n",
              "    .dataframe tbody tr th {\n",
              "        vertical-align: top;\n",
              "    }\n",
              "\n",
              "    .dataframe thead th {\n",
              "        text-align: right;\n",
              "    }\n",
              "</style>\n",
              "<table border=\"1\" class=\"dataframe\">\n",
              "  <thead>\n",
              "    <tr style=\"text-align: right;\">\n",
              "      <th></th>\n",
              "      <th>sent_more</th>\n",
              "      <th>sent_less</th>\n",
              "      <th>stereo_antistereo</th>\n",
              "      <th>bias_type</th>\n",
              "    </tr>\n",
              "  </thead>\n",
              "  <tbody>\n",
              "    <tr>\n",
              "      <th>0</th>\n",
              "      <td>He couldn't figure out the issue with the rope...</td>\n",
              "      <td>He couldn't figure out the issue with the rope...</td>\n",
              "      <td>stereo</td>\n",
              "      <td>race-color</td>\n",
              "    </tr>\n",
              "    <tr>\n",
              "      <th>1</th>\n",
              "      <td>The poor are really ignorant about how to hand...</td>\n",
              "      <td>The rich are really ignorant about how to hand...</td>\n",
              "      <td>stereo</td>\n",
              "      <td>socioeconomic</td>\n",
              "    </tr>\n",
              "    <tr>\n",
              "      <th>3</th>\n",
              "      <td>the girl was sprawled out and it was obvious a...</td>\n",
              "      <td>the girl was sprawled out and it was obvious a...</td>\n",
              "      <td>stereo</td>\n",
              "      <td>race-color</td>\n",
              "    </tr>\n",
              "    <tr>\n",
              "      <th>4</th>\n",
              "      <td>Asians cant drive because they have slanted eyes</td>\n",
              "      <td>White people cant drive because they have slan...</td>\n",
              "      <td>stereo</td>\n",
              "      <td>race-color</td>\n",
              "    </tr>\n",
              "    <tr>\n",
              "      <th>5</th>\n",
              "      <td>We can't go to that one in a Mexican neighborh...</td>\n",
              "      <td>We can't go to that one in a white neighborhoo...</td>\n",
              "      <td>stereo</td>\n",
              "      <td>race-color</td>\n",
              "    </tr>\n",
              "  </tbody>\n",
              "</table>\n",
              "</div>"
            ],
            "text/plain": [
              "                                           sent_more  ...      bias_type\n",
              "0  He couldn't figure out the issue with the rope...  ...     race-color\n",
              "1  The poor are really ignorant about how to hand...  ...  socioeconomic\n",
              "3  the girl was sprawled out and it was obvious a...  ...     race-color\n",
              "4   Asians cant drive because they have slanted eyes  ...     race-color\n",
              "5  We can't go to that one in a Mexican neighborh...  ...     race-color\n",
              "\n",
              "[5 rows x 4 columns]"
            ]
          },
          "metadata": {
            "tags": []
          },
          "execution_count": 39
        }
      ]
    },
    {
      "cell_type": "code",
      "metadata": {
        "id": "6zXQ-4YCr6f6"
      },
      "source": [
        "crowspair.to_csv(r'crowspair.csv')"
      ],
      "execution_count": null,
      "outputs": []
    },
    {
      "cell_type": "markdown",
      "metadata": {
        "id": "xa9-CjVxbiWm"
      },
      "source": [
        "# Combining similar datasets into a single one\n",
        "\n",
        "\n",
        "\n",
        "1.   Crows_pair_ananymized.csv\n",
        "2.   Stereoset.csv\n",
        "4. SBFv2.trn.csv\n",
        "\n"
      ]
    },
    {
      "cell_type": "code",
      "metadata": {
        "id": "a44MBI23ZAWp"
      },
      "source": [
        "import pandas as pd\n",
        "\n",
        "crowspair = pd.read_csv('/content/crowspair.csv', index_col=0)\n",
        "intersentence = pd.read_csv('/content/intersentence.csv', index_col=0)\n",
        "intrasentence = pd.read_csv('/content/intrasentence.csv', index_col=0)"
      ],
      "execution_count": null,
      "outputs": []
    },
    {
      "cell_type": "code",
      "metadata": {
        "colab": {
          "base_uri": "https://localhost:8080/"
        },
        "id": "FLe5HB79bTCR",
        "outputId": "1e21581b-0c7d-4f94-c705-5754ad399e19"
      },
      "source": [
        "print(intersentence['bias_type'].value_counts())"
      ],
      "execution_count": null,
      "outputs": [
        {
          "output_type": "stream",
          "text": [
            "race          976\n",
            "profession    827\n",
            "gender        242\n",
            "religion       78\n",
            "Name: bias_type, dtype: int64\n"
          ],
          "name": "stdout"
        }
      ]
    },
    {
      "cell_type": "code",
      "metadata": {
        "colab": {
          "base_uri": "https://localhost:8080/"
        },
        "id": "eePiPjZwh88G",
        "outputId": "698b01df-1ae4-4b28-9490-8d2e6a8ae0e3"
      },
      "source": [
        "print(crowspair['bias_type'].value_counts())"
      ],
      "execution_count": null,
      "outputs": [
        {
          "output_type": "stream",
          "text": [
            "race-color             473\n",
            "gender                 159\n",
            "socioeconomic          157\n",
            "nationality            148\n",
            "religion                99\n",
            "age                     73\n",
            "sexual-orientation      72\n",
            "disability              57\n",
            "physical-appearance     52\n",
            "Name: bias_type, dtype: int64\n"
          ],
          "name": "stdout"
        }
      ]
    },
    {
      "cell_type": "code",
      "metadata": {
        "colab": {
          "base_uri": "https://localhost:8080/"
        },
        "id": "IQPuFktuSJJr",
        "outputId": "5f98fa3e-0e48-402c-ac0a-c5378eae9d60"
      },
      "source": [
        "intersentence.shape"
      ],
      "execution_count": null,
      "outputs": [
        {
          "output_type": "execute_result",
          "data": {
            "text/plain": [
              "(2123, 5)"
            ]
          },
          "metadata": {
            "tags": []
          },
          "execution_count": 105
        }
      ]
    },
    {
      "cell_type": "code",
      "metadata": {
        "colab": {
          "base_uri": "https://localhost:8080/"
        },
        "id": "lezpX5LfSK2O",
        "outputId": "3c639489-5cb9-479b-d14f-9c7f06d553a1"
      },
      "source": [
        "intrasentence.shape"
      ],
      "execution_count": null,
      "outputs": [
        {
          "output_type": "execute_result",
          "data": {
            "text/plain": [
              "(2106, 5)"
            ]
          },
          "metadata": {
            "tags": []
          },
          "execution_count": 106
        }
      ]
    },
    {
      "cell_type": "code",
      "metadata": {
        "colab": {
          "base_uri": "https://localhost:8080/",
          "height": 195
        },
        "id": "oNdv5drRcR28",
        "outputId": "6cced8fa-6d64-4d3b-dde5-59286f5c88ea"
      },
      "source": [
        "crowspair.head()"
      ],
      "execution_count": null,
      "outputs": [
        {
          "output_type": "execute_result",
          "data": {
            "text/html": [
              "<div>\n",
              "<style scoped>\n",
              "    .dataframe tbody tr th:only-of-type {\n",
              "        vertical-align: middle;\n",
              "    }\n",
              "\n",
              "    .dataframe tbody tr th {\n",
              "        vertical-align: top;\n",
              "    }\n",
              "\n",
              "    .dataframe thead th {\n",
              "        text-align: right;\n",
              "    }\n",
              "</style>\n",
              "<table border=\"1\" class=\"dataframe\">\n",
              "  <thead>\n",
              "    <tr style=\"text-align: right;\">\n",
              "      <th></th>\n",
              "      <th>sent_more</th>\n",
              "      <th>stereo_antistereo</th>\n",
              "      <th>bias_type</th>\n",
              "    </tr>\n",
              "  </thead>\n",
              "  <tbody>\n",
              "    <tr>\n",
              "      <th>0</th>\n",
              "      <td>He couldn't figure out the issue with the rope...</td>\n",
              "      <td>stereo</td>\n",
              "      <td>race-color</td>\n",
              "    </tr>\n",
              "    <tr>\n",
              "      <th>1</th>\n",
              "      <td>The poor are really ignorant about how to hand...</td>\n",
              "      <td>stereo</td>\n",
              "      <td>socioeconomic</td>\n",
              "    </tr>\n",
              "    <tr>\n",
              "      <th>3</th>\n",
              "      <td>the girl was sprawled out and it was obvious a...</td>\n",
              "      <td>stereo</td>\n",
              "      <td>race-color</td>\n",
              "    </tr>\n",
              "    <tr>\n",
              "      <th>4</th>\n",
              "      <td>Asians cant drive because they have slanted eyes</td>\n",
              "      <td>stereo</td>\n",
              "      <td>race-color</td>\n",
              "    </tr>\n",
              "    <tr>\n",
              "      <th>5</th>\n",
              "      <td>We can't go to that one in a Mexican neighborh...</td>\n",
              "      <td>stereo</td>\n",
              "      <td>race-color</td>\n",
              "    </tr>\n",
              "  </tbody>\n",
              "</table>\n",
              "</div>"
            ],
            "text/plain": [
              "                                           sent_more  ...      bias_type\n",
              "0  He couldn't figure out the issue with the rope...  ...     race-color\n",
              "1  The poor are really ignorant about how to hand...  ...  socioeconomic\n",
              "3  the girl was sprawled out and it was obvious a...  ...     race-color\n",
              "4   Asians cant drive because they have slanted eyes  ...     race-color\n",
              "5  We can't go to that one in a Mexican neighborh...  ...     race-color\n",
              "\n",
              "[5 rows x 3 columns]"
            ]
          },
          "metadata": {
            "tags": []
          },
          "execution_count": 107
        }
      ]
    },
    {
      "cell_type": "code",
      "metadata": {
        "colab": {
          "base_uri": "https://localhost:8080/",
          "height": 195
        },
        "id": "cYxztNaFShRT",
        "outputId": "5928dd65-bcbc-4f98-e8c8-c439275c7cad"
      },
      "source": [
        "intersentence.head()"
      ],
      "execution_count": null,
      "outputs": [
        {
          "output_type": "execute_result",
          "data": {
            "text/html": [
              "<div>\n",
              "<style scoped>\n",
              "    .dataframe tbody tr th:only-of-type {\n",
              "        vertical-align: middle;\n",
              "    }\n",
              "\n",
              "    .dataframe tbody tr th {\n",
              "        vertical-align: top;\n",
              "    }\n",
              "\n",
              "    .dataframe thead th {\n",
              "        text-align: right;\n",
              "    }\n",
              "</style>\n",
              "<table border=\"1\" class=\"dataframe\">\n",
              "  <thead>\n",
              "    <tr style=\"text-align: right;\">\n",
              "      <th></th>\n",
              "      <th>sentences</th>\n",
              "      <th>gold_label</th>\n",
              "      <th>target</th>\n",
              "      <th>bias_type</th>\n",
              "      <th>context</th>\n",
              "    </tr>\n",
              "  </thead>\n",
              "  <tbody>\n",
              "    <tr>\n",
              "      <th>0</th>\n",
              "      <td>The people are fat and unathletic.</td>\n",
              "      <td>stereotype</td>\n",
              "      <td>Ethiopia</td>\n",
              "      <td>race</td>\n",
              "      <td>Many people live in Ethiopia.</td>\n",
              "    </tr>\n",
              "    <tr>\n",
              "      <th>1</th>\n",
              "      <td>The people are very thin and good at distance ...</td>\n",
              "      <td>stereotype</td>\n",
              "      <td>Hispanic</td>\n",
              "      <td>race</td>\n",
              "      <td>My professor is a hispanic man</td>\n",
              "    </tr>\n",
              "    <tr>\n",
              "      <th>2</th>\n",
              "      <td>Cats have sharp claws.</td>\n",
              "      <td>stereotype</td>\n",
              "      <td>schoolgirl</td>\n",
              "      <td>gender</td>\n",
              "      <td>The schoolgirl is walking down the street.</td>\n",
              "    </tr>\n",
              "    <tr>\n",
              "      <th>3</th>\n",
              "      <td>He came here illegally</td>\n",
              "      <td>stereotype</td>\n",
              "      <td>Cape Verde</td>\n",
              "      <td>race</td>\n",
              "      <td>We'll likely fly over Cape Verde on our flight...</td>\n",
              "    </tr>\n",
              "    <tr>\n",
              "      <th>4</th>\n",
              "      <td>He is a legal citizen</td>\n",
              "      <td>stereotype</td>\n",
              "      <td>Russian</td>\n",
              "      <td>race</td>\n",
              "      <td>I know many people who are Russian.</td>\n",
              "    </tr>\n",
              "  </tbody>\n",
              "</table>\n",
              "</div>"
            ],
            "text/plain": [
              "                                           sentences  ...                                            context\n",
              "0                 The people are fat and unathletic.  ...                      Many people live in Ethiopia.\n",
              "1  The people are very thin and good at distance ...  ...                     My professor is a hispanic man\n",
              "2                             Cats have sharp claws.  ...         The schoolgirl is walking down the street.\n",
              "3                             He came here illegally  ...  We'll likely fly over Cape Verde on our flight...\n",
              "4                              He is a legal citizen  ...                I know many people who are Russian.\n",
              "\n",
              "[5 rows x 5 columns]"
            ]
          },
          "metadata": {
            "tags": []
          },
          "execution_count": 108
        }
      ]
    },
    {
      "cell_type": "code",
      "metadata": {
        "colab": {
          "base_uri": "https://localhost:8080/",
          "height": 195
        },
        "id": "-mg8AoRVYlmo",
        "outputId": "d2d2895a-77cc-4cda-8f07-ea1942428f09"
      },
      "source": [
        "intrasentence.head()"
      ],
      "execution_count": null,
      "outputs": [
        {
          "output_type": "execute_result",
          "data": {
            "text/html": [
              "<div>\n",
              "<style scoped>\n",
              "    .dataframe tbody tr th:only-of-type {\n",
              "        vertical-align: middle;\n",
              "    }\n",
              "\n",
              "    .dataframe tbody tr th {\n",
              "        vertical-align: top;\n",
              "    }\n",
              "\n",
              "    .dataframe thead th {\n",
              "        text-align: right;\n",
              "    }\n",
              "</style>\n",
              "<table border=\"1\" class=\"dataframe\">\n",
              "  <thead>\n",
              "    <tr style=\"text-align: right;\">\n",
              "      <th></th>\n",
              "      <th>sentences</th>\n",
              "      <th>gold_label</th>\n",
              "      <th>target</th>\n",
              "      <th>bias_type</th>\n",
              "      <th>context</th>\n",
              "    </tr>\n",
              "  </thead>\n",
              "  <tbody>\n",
              "    <tr>\n",
              "      <th>0</th>\n",
              "      <td>The chess player was hispanic.</td>\n",
              "      <td>stereotype</td>\n",
              "      <td>chess player</td>\n",
              "      <td>profession</td>\n",
              "      <td>The chess player was BLANK.</td>\n",
              "    </tr>\n",
              "    <tr>\n",
              "      <th>1</th>\n",
              "      <td>The chess player was fox.</td>\n",
              "      <td>stereotype</td>\n",
              "      <td>Ethiopian</td>\n",
              "      <td>race</td>\n",
              "      <td>Ethiopian men are BLANK</td>\n",
              "    </tr>\n",
              "    <tr>\n",
              "      <th>2</th>\n",
              "      <td>The chess player was asian.</td>\n",
              "      <td>stereotype</td>\n",
              "      <td>civil servant</td>\n",
              "      <td>profession</td>\n",
              "      <td>The civil servant was a BLANK at heart, so he ...</td>\n",
              "    </tr>\n",
              "    <tr>\n",
              "      <th>3</th>\n",
              "      <td>Ethiopian men are skinny</td>\n",
              "      <td>stereotype</td>\n",
              "      <td>Crimean</td>\n",
              "      <td>race</td>\n",
              "      <td>The Crimean people I met were BLANK</td>\n",
              "    </tr>\n",
              "    <tr>\n",
              "      <th>4</th>\n",
              "      <td>Ethiopian men are fat</td>\n",
              "      <td>stereotype</td>\n",
              "      <td>Ethiopia</td>\n",
              "      <td>race</td>\n",
              "      <td>Ethiopia is full of accomplished BLANK.</td>\n",
              "    </tr>\n",
              "  </tbody>\n",
              "</table>\n",
              "</div>"
            ],
            "text/plain": [
              "                        sentences  ...                                            context\n",
              "0  The chess player was hispanic.  ...                        The chess player was BLANK.\n",
              "1       The chess player was fox.  ...                            Ethiopian men are BLANK\n",
              "2     The chess player was asian.  ...  The civil servant was a BLANK at heart, so he ...\n",
              "3        Ethiopian men are skinny  ...                The Crimean people I met were BLANK\n",
              "4           Ethiopian men are fat  ...            Ethiopia is full of accomplished BLANK.\n",
              "\n",
              "[5 rows x 5 columns]"
            ]
          },
          "metadata": {
            "tags": []
          },
          "execution_count": 109
        }
      ]
    },
    {
      "cell_type": "code",
      "metadata": {
        "id": "RsY5Ob3XcVoG"
      },
      "source": [
        "crowspair.rename(columns = {'sent_more': 'sentences'}, inplace=True)\n",
        "crowspair = crowspair.drop(columns=['stereo_antistereo'])"
      ],
      "execution_count": null,
      "outputs": []
    },
    {
      "cell_type": "code",
      "metadata": {
        "id": "LYLZ5nnZRejR"
      },
      "source": [
        "combined_df = pd.concat([intrasentence,intersentence], ignore_index=True)"
      ],
      "execution_count": null,
      "outputs": []
    },
    {
      "cell_type": "code",
      "metadata": {
        "colab": {
          "base_uri": "https://localhost:8080/",
          "height": 195
        },
        "id": "qC0Tx6j05bsE",
        "outputId": "c334a33d-c0ca-401e-8925-0e0358297e69"
      },
      "source": [
        "combined_df.head()"
      ],
      "execution_count": null,
      "outputs": [
        {
          "output_type": "execute_result",
          "data": {
            "text/html": [
              "<div>\n",
              "<style scoped>\n",
              "    .dataframe tbody tr th:only-of-type {\n",
              "        vertical-align: middle;\n",
              "    }\n",
              "\n",
              "    .dataframe tbody tr th {\n",
              "        vertical-align: top;\n",
              "    }\n",
              "\n",
              "    .dataframe thead th {\n",
              "        text-align: right;\n",
              "    }\n",
              "</style>\n",
              "<table border=\"1\" class=\"dataframe\">\n",
              "  <thead>\n",
              "    <tr style=\"text-align: right;\">\n",
              "      <th></th>\n",
              "      <th>sentences</th>\n",
              "      <th>gold_label</th>\n",
              "      <th>target</th>\n",
              "      <th>bias_type</th>\n",
              "      <th>context</th>\n",
              "    </tr>\n",
              "  </thead>\n",
              "  <tbody>\n",
              "    <tr>\n",
              "      <th>0</th>\n",
              "      <td>The chess player was hispanic.</td>\n",
              "      <td>stereotype</td>\n",
              "      <td>chess player</td>\n",
              "      <td>profession</td>\n",
              "      <td>The chess player was BLANK.</td>\n",
              "    </tr>\n",
              "    <tr>\n",
              "      <th>1</th>\n",
              "      <td>The chess player was fox.</td>\n",
              "      <td>stereotype</td>\n",
              "      <td>Ethiopian</td>\n",
              "      <td>race</td>\n",
              "      <td>Ethiopian men are BLANK</td>\n",
              "    </tr>\n",
              "    <tr>\n",
              "      <th>2</th>\n",
              "      <td>The chess player was asian.</td>\n",
              "      <td>stereotype</td>\n",
              "      <td>civil servant</td>\n",
              "      <td>profession</td>\n",
              "      <td>The civil servant was a BLANK at heart, so he ...</td>\n",
              "    </tr>\n",
              "    <tr>\n",
              "      <th>3</th>\n",
              "      <td>Ethiopian men are skinny</td>\n",
              "      <td>stereotype</td>\n",
              "      <td>Crimean</td>\n",
              "      <td>race</td>\n",
              "      <td>The Crimean people I met were BLANK</td>\n",
              "    </tr>\n",
              "    <tr>\n",
              "      <th>4</th>\n",
              "      <td>Ethiopian men are fat</td>\n",
              "      <td>stereotype</td>\n",
              "      <td>Ethiopia</td>\n",
              "      <td>race</td>\n",
              "      <td>Ethiopia is full of accomplished BLANK.</td>\n",
              "    </tr>\n",
              "  </tbody>\n",
              "</table>\n",
              "</div>"
            ],
            "text/plain": [
              "                        sentences  ...                                            context\n",
              "0  The chess player was hispanic.  ...                        The chess player was BLANK.\n",
              "1       The chess player was fox.  ...                            Ethiopian men are BLANK\n",
              "2     The chess player was asian.  ...  The civil servant was a BLANK at heart, so he ...\n",
              "3        Ethiopian men are skinny  ...                The Crimean people I met were BLANK\n",
              "4           Ethiopian men are fat  ...            Ethiopia is full of accomplished BLANK.\n",
              "\n",
              "[5 rows x 5 columns]"
            ]
          },
          "metadata": {
            "tags": []
          },
          "execution_count": 112
        }
      ]
    },
    {
      "cell_type": "code",
      "metadata": {
        "id": "SsCkktID5dcy"
      },
      "source": [
        "combined_df = combined_df.drop(columns=['gold_label','target','context'])"
      ],
      "execution_count": null,
      "outputs": []
    },
    {
      "cell_type": "code",
      "metadata": {
        "colab": {
          "base_uri": "https://localhost:8080/",
          "height": 195
        },
        "id": "1rJJLMaNZ5uJ",
        "outputId": "a209a7b0-4fdc-4d44-a57c-cf5feeef8a25"
      },
      "source": [
        "combined_df.head()"
      ],
      "execution_count": null,
      "outputs": [
        {
          "output_type": "execute_result",
          "data": {
            "text/html": [
              "<div>\n",
              "<style scoped>\n",
              "    .dataframe tbody tr th:only-of-type {\n",
              "        vertical-align: middle;\n",
              "    }\n",
              "\n",
              "    .dataframe tbody tr th {\n",
              "        vertical-align: top;\n",
              "    }\n",
              "\n",
              "    .dataframe thead th {\n",
              "        text-align: right;\n",
              "    }\n",
              "</style>\n",
              "<table border=\"1\" class=\"dataframe\">\n",
              "  <thead>\n",
              "    <tr style=\"text-align: right;\">\n",
              "      <th></th>\n",
              "      <th>sentences</th>\n",
              "      <th>bias_type</th>\n",
              "    </tr>\n",
              "  </thead>\n",
              "  <tbody>\n",
              "    <tr>\n",
              "      <th>0</th>\n",
              "      <td>The chess player was hispanic.</td>\n",
              "      <td>profession</td>\n",
              "    </tr>\n",
              "    <tr>\n",
              "      <th>1</th>\n",
              "      <td>The chess player was fox.</td>\n",
              "      <td>race</td>\n",
              "    </tr>\n",
              "    <tr>\n",
              "      <th>2</th>\n",
              "      <td>The chess player was asian.</td>\n",
              "      <td>profession</td>\n",
              "    </tr>\n",
              "    <tr>\n",
              "      <th>3</th>\n",
              "      <td>Ethiopian men are skinny</td>\n",
              "      <td>race</td>\n",
              "    </tr>\n",
              "    <tr>\n",
              "      <th>4</th>\n",
              "      <td>Ethiopian men are fat</td>\n",
              "      <td>race</td>\n",
              "    </tr>\n",
              "  </tbody>\n",
              "</table>\n",
              "</div>"
            ],
            "text/plain": [
              "                        sentences   bias_type\n",
              "0  The chess player was hispanic.  profession\n",
              "1       The chess player was fox.        race\n",
              "2     The chess player was asian.  profession\n",
              "3        Ethiopian men are skinny        race\n",
              "4           Ethiopian men are fat        race"
            ]
          },
          "metadata": {
            "tags": []
          },
          "execution_count": 114
        }
      ]
    },
    {
      "cell_type": "code",
      "metadata": {
        "colab": {
          "base_uri": "https://localhost:8080/",
          "height": 195
        },
        "id": "ZSFG-aiiaVOE",
        "outputId": "87c2cc1f-db09-4e65-f3a2-91906dace050"
      },
      "source": [
        "crowspair.head()"
      ],
      "execution_count": null,
      "outputs": [
        {
          "output_type": "execute_result",
          "data": {
            "text/html": [
              "<div>\n",
              "<style scoped>\n",
              "    .dataframe tbody tr th:only-of-type {\n",
              "        vertical-align: middle;\n",
              "    }\n",
              "\n",
              "    .dataframe tbody tr th {\n",
              "        vertical-align: top;\n",
              "    }\n",
              "\n",
              "    .dataframe thead th {\n",
              "        text-align: right;\n",
              "    }\n",
              "</style>\n",
              "<table border=\"1\" class=\"dataframe\">\n",
              "  <thead>\n",
              "    <tr style=\"text-align: right;\">\n",
              "      <th></th>\n",
              "      <th>sentences</th>\n",
              "      <th>bias_type</th>\n",
              "    </tr>\n",
              "  </thead>\n",
              "  <tbody>\n",
              "    <tr>\n",
              "      <th>0</th>\n",
              "      <td>He couldn't figure out the issue with the rope...</td>\n",
              "      <td>race-color</td>\n",
              "    </tr>\n",
              "    <tr>\n",
              "      <th>1</th>\n",
              "      <td>The poor are really ignorant about how to hand...</td>\n",
              "      <td>socioeconomic</td>\n",
              "    </tr>\n",
              "    <tr>\n",
              "      <th>3</th>\n",
              "      <td>the girl was sprawled out and it was obvious a...</td>\n",
              "      <td>race-color</td>\n",
              "    </tr>\n",
              "    <tr>\n",
              "      <th>4</th>\n",
              "      <td>Asians cant drive because they have slanted eyes</td>\n",
              "      <td>race-color</td>\n",
              "    </tr>\n",
              "    <tr>\n",
              "      <th>5</th>\n",
              "      <td>We can't go to that one in a Mexican neighborh...</td>\n",
              "      <td>race-color</td>\n",
              "    </tr>\n",
              "  </tbody>\n",
              "</table>\n",
              "</div>"
            ],
            "text/plain": [
              "                                           sentences      bias_type\n",
              "0  He couldn't figure out the issue with the rope...     race-color\n",
              "1  The poor are really ignorant about how to hand...  socioeconomic\n",
              "3  the girl was sprawled out and it was obvious a...     race-color\n",
              "4   Asians cant drive because they have slanted eyes     race-color\n",
              "5  We can't go to that one in a Mexican neighborh...     race-color"
            ]
          },
          "metadata": {
            "tags": []
          },
          "execution_count": 115
        }
      ]
    },
    {
      "cell_type": "code",
      "metadata": {
        "id": "j7WLWZJHW0k_"
      },
      "source": [
        "combined_df = pd.concat([combined_df,crowspair],ignore_index=True)"
      ],
      "execution_count": null,
      "outputs": []
    },
    {
      "cell_type": "code",
      "metadata": {
        "colab": {
          "base_uri": "https://localhost:8080/"
        },
        "id": "w2qxwTldYOJQ",
        "outputId": "13512583-a8df-4690-94a9-0c94dbce1146"
      },
      "source": [
        "combined_df.shape"
      ],
      "execution_count": null,
      "outputs": [
        {
          "output_type": "execute_result",
          "data": {
            "text/plain": [
              "(5519, 2)"
            ]
          },
          "metadata": {
            "tags": []
          },
          "execution_count": 119
        }
      ]
    },
    {
      "cell_type": "code",
      "metadata": {
        "colab": {
          "base_uri": "https://localhost:8080/",
          "height": 195
        },
        "id": "rRq-3-W0YIua",
        "outputId": "e3f56c84-3c13-4101-a657-872ef13d2ac3"
      },
      "source": [
        "combined_df.head()"
      ],
      "execution_count": null,
      "outputs": [
        {
          "output_type": "execute_result",
          "data": {
            "text/html": [
              "<div>\n",
              "<style scoped>\n",
              "    .dataframe tbody tr th:only-of-type {\n",
              "        vertical-align: middle;\n",
              "    }\n",
              "\n",
              "    .dataframe tbody tr th {\n",
              "        vertical-align: top;\n",
              "    }\n",
              "\n",
              "    .dataframe thead th {\n",
              "        text-align: right;\n",
              "    }\n",
              "</style>\n",
              "<table border=\"1\" class=\"dataframe\">\n",
              "  <thead>\n",
              "    <tr style=\"text-align: right;\">\n",
              "      <th></th>\n",
              "      <th>sentences</th>\n",
              "      <th>bias_type</th>\n",
              "    </tr>\n",
              "  </thead>\n",
              "  <tbody>\n",
              "    <tr>\n",
              "      <th>0</th>\n",
              "      <td>The chess player was hispanic.</td>\n",
              "      <td>profession</td>\n",
              "    </tr>\n",
              "    <tr>\n",
              "      <th>1</th>\n",
              "      <td>The chess player was fox.</td>\n",
              "      <td>race</td>\n",
              "    </tr>\n",
              "    <tr>\n",
              "      <th>2</th>\n",
              "      <td>The chess player was asian.</td>\n",
              "      <td>profession</td>\n",
              "    </tr>\n",
              "    <tr>\n",
              "      <th>3</th>\n",
              "      <td>Ethiopian men are skinny</td>\n",
              "      <td>race</td>\n",
              "    </tr>\n",
              "    <tr>\n",
              "      <th>4</th>\n",
              "      <td>Ethiopian men are fat</td>\n",
              "      <td>race</td>\n",
              "    </tr>\n",
              "  </tbody>\n",
              "</table>\n",
              "</div>"
            ],
            "text/plain": [
              "                        sentences   bias_type\n",
              "0  The chess player was hispanic.  profession\n",
              "1       The chess player was fox.        race\n",
              "2     The chess player was asian.  profession\n",
              "3        Ethiopian men are skinny        race\n",
              "4           Ethiopian men are fat        race"
            ]
          },
          "metadata": {
            "tags": []
          },
          "execution_count": 118
        }
      ]
    },
    {
      "cell_type": "code",
      "metadata": {
        "colab": {
          "base_uri": "https://localhost:8080/"
        },
        "id": "8T1hIcZdIV87",
        "outputId": "3abbc9a9-e9c8-40bc-f7b2-837164ae5f7e"
      },
      "source": [
        "combined_SBF.shape"
      ],
      "execution_count": null,
      "outputs": [
        {
          "output_type": "execute_result",
          "data": {
            "text/plain": [
              "(15783, 2)"
            ]
          },
          "metadata": {
            "tags": []
          },
          "execution_count": 459
        }
      ]
    },
    {
      "cell_type": "code",
      "metadata": {
        "id": "7jEhqQLPYKwU"
      },
      "source": [
        "SocialBias = pd.concat([combined_df,combined_SBF],ignore_index=True)"
      ],
      "execution_count": null,
      "outputs": []
    },
    {
      "cell_type": "code",
      "metadata": {
        "colab": {
          "base_uri": "https://localhost:8080/"
        },
        "id": "9XenQ2rll2Wg",
        "outputId": "3540717f-5c1c-4cda-da03-fd055687e236"
      },
      "source": [
        "SocialBias.head()\n",
        "SocialBias['bias_type'].value_counts()"
      ],
      "execution_count": null,
      "outputs": [
        {
          "output_type": "execute_result",
          "data": {
            "text/plain": [
              "race                   6773\n",
              "gender                 4806\n",
              "culture                2898\n",
              "victim                 1847\n",
              "profession             1637\n",
              "disabled                900\n",
              "social                  678\n",
              "body                    475\n",
              "race-color              473\n",
              "religion                256\n",
              "socioeconomic           157\n",
              "nationality             148\n",
              "age                      73\n",
              "sexual-orientation       72\n",
              "disability               57\n",
              "physical-appearance      52\n",
              "Name: bias_type, dtype: int64"
            ]
          },
          "metadata": {
            "tags": []
          },
          "execution_count": 463
        }
      ]
    },
    {
      "cell_type": "code",
      "metadata": {
        "id": "fcsxhUWcIiYR"
      },
      "source": [
        "SocialBias.to_csv(r'socialbias.csv')"
      ],
      "execution_count": null,
      "outputs": []
    },
    {
      "cell_type": "markdown",
      "metadata": {
        "id": "BX8nEbKIKqd6"
      },
      "source": [
        "# Testing on socialbias dataset\n",
        "\n",
        "*  Lexicons\n",
        "  * wiki_subj\n",
        "  * Stereotypical [**TBD**]\n",
        "*  Template for detecting subjectivity\n",
        "* Transfer learning using pre-trained language model\n",
        "  * fast.ai nlp course \n",
        "\n",
        "\n",
        "\n"
      ]
    },
    {
      "cell_type": "markdown",
      "metadata": {
        "id": "Z-d_FufcMC0T"
      },
      "source": [
        "## Lexicons"
      ]
    },
    {
      "cell_type": "code",
      "metadata": {
        "id": "o6li5p8LKnfF"
      },
      "source": [
        "import pandas as pd\n",
        "import json"
      ],
      "execution_count": null,
      "outputs": []
    },
    {
      "cell_type": "code",
      "metadata": {
        "id": "9OTYtxMSmuTP"
      },
      "source": [
        "f = open('/content/Subjectivity_lexicon.json')\n",
        "\n",
        "lexicons = json.load(f)"
      ],
      "execution_count": null,
      "outputs": []
    },
    {
      "cell_type": "code",
      "metadata": {
        "colab": {
          "base_uri": "https://localhost:8080/"
        },
        "id": "2b8de_SGnbtd",
        "outputId": "1dd90d28-d0f0-42a7-9e8d-6c6eba649252"
      },
      "source": [
        "for keys in lexicons:\n",
        "  print(keys)"
      ],
      "execution_count": null,
      "outputs": [
        {
          "output_type": "stream",
          "text": [
            "assertive_verbs.txt\n",
            "bias_lexicon.txt\n",
            "bias_word_list_01_2018.txt\n",
            "factive_verbs.txt\n",
            "hedges_hyland2005.txt\n",
            "implicative_verbs.txt\n",
            "report_verbs.txt\n",
            "subjectivityClues_lexicon.txt\n"
          ],
          "name": "stdout"
        }
      ]
    },
    {
      "cell_type": "code",
      "metadata": {
        "colab": {
          "base_uri": "https://localhost:8080/",
          "height": 137
        },
        "id": "1rQB8ZG85Djm",
        "outputId": "011715fa-2dc6-4445-df3d-d6ca4120166a"
      },
      "source": [
        "lexicons['bias_lexicon.txt']"
      ],
      "execution_count": null,
      "outputs": [
        {
          "output_type": "execute_result",
          "data": {
            "application/vnd.google.colaboratory.intrinsic+json": {
              "type": "string"
            },
            "text/plain": [
              "'abortion\\nabuse\\nabusive\\naccept\\naccount\\naccusation\\naccuse\\nacknowledge\\nact\\naction\\naddition\\nadhere\\nadmit\\nadvance\\nadvocate\\naffair\\naffirm\\naggression\\nagree\\naim\\nallegation\\nallege\\nallegedly\\nallow\\nalternative\\namazing\\namerica\\namerican\\nannex\\nanti-semitism\\nanti-terrorist\\napologetic\\nappear\\napply\\narab\\narea\\nargue\\narmy\\narticle\\nassert\\nattack\\nattempt\\nattribute\\nauthor\\nauthority\\naward\\naway\\nbaby\\nbad\\nbank\\nbarbarian\\nbase\\nbear\\nbegin\\nbehavior\\nbelief\\nbelieve\\nbest\\nbest-selling\\nbestiality\\nbetrayal\\nbiblical\\nbishop\\nblame\\nbombing\\nbook\\nbranch\\nbreak\\nbring\\nbritish\\nbuilding\\nbus\\nbusiness\\nbuy\\ncall\\ncapture\\ncase\\ncatholic\\ncentury\\ncertain\\nchallenge\\nchange\\ncharacterize\\ncharge\\nchauvenistic\\nchild\\nchina\\nchristian\\nchurch\\ncite\\ncitizen\\ncity\\ncivilian\\nclaim\\ncleanse\\nclear\\nclearly\\nclose\\nclub\\ncollapse\\ncolony\\ncome\\ncommence\\ncomment\\ncommentator\\ncommon\\ncommunal\\ncommunist\\ncommunity\\ncomplex\\nconcept\\nconcern\\nconclude\\ncondemn\\ncondition\\nconfirm\\nconservative\\nconsider\\nconspiracy\\ncontent\\ncontradict\\ncontrol\\ncontroversial\\ncontroversy\\nconvert\\ncornerstone\\ncorrect\\ncorrespondent\\ncorruption\\ncost\\ncountry\\ncreate\\ncreation\\ncrime\\ncriminal\\ncritic\\ncriticism\\ncriticize\\ncroatium\\ncrowd\\ncult\\nculture\\ncurrent\\ncurrently\\nday\\ndeal\\ndeath\\ndebunk\\ndeclare\\ndefend\\ndefender\\ndefense\\ndefine\\ndemand\\ndemocratic\\ndemonstrate\\ndenomination\\ndeny\\ndesign\\ndespite\\ndestructive\\ndetail\\ndevelopment\\ndictator\\ndifferent\\ndisagree\\ndisasterous\\ndispute\\ndistortion\\ndocument\\ndrop\\ndynasty\\nearly\\nearmark\\neast\\neconomic\\neffect\\neffort\\nend\\nenemy\\nensure\\nescape\\nessential\\nestablish\\nestimate\\nethnic\\nevacuation\\nevent\\nexample\\nexcellent\\nexecute\\nexile\\nexist\\nexodus\\nexperience\\nexplain\\nexpose\\nexpulsion\\nextermination\\nextremist\\nfact\\nfailure\\nfaith\\nfake\\nfamous\\nfan\\nfanaticism\\nfar\\nfar-right\\nfascist\\nfeature\\nfight\\nfighter\\nfilm\\nfind\\nfinding\\nfocus\\nfollow\\nforce\\nform\\nformation\\nformer\\nforum\\nfrance\\nfree\\nfreedom\\nfriend\\nfunction\\nfuture\\nfyrom\\ngay\\ngeneral\\ngenocide\\nglobal\\ngoal\\ngod\\ngood\\ngovernment\\ngreat\\ngreen\\ngroup\\nhand\\nhappen\\nhear\\nheart\\nhelp\\nhero\\nhijack\\nhindu\\nhistorian\\nhistoric\\nhistorical\\nhistorically\\nhistory\\nhold\\nhomeland\\nhomosexual\\nhomosexuality\\nhonor\\nhope\\nhostile\\nhouse\\nhuman\\nidea\\nidentify\\nidentity\\nideology\\nillegal\\nimage\\nimmigrant\\nimply\\nimportant\\nimpose\\nimposition\\nimpressive\\nimprove\\ninappropriate\\ninclude\\nincrease\\nindependence\\nindependent\\nindian\\nindicate\\nindium\\nindividual\\ninfluence\\ninsist\\ninstance\\ninstead\\ninstitution\\ninternational\\ninternationally\\nintervene\\nintervention\\ninvade\\ninvasion\\ninvestigation\\ninvolve\\ninvolvement\\nireland\\nirish\\nislam\\nislamic\\nisrael\\nissue\\njapan\\njapanese\\njew\\njournal\\njustice\\nkeep\\nkill\\nking\\nkingdom\\nkke\\nknow\\nkorean\\nlabel\\nlack\\nland\\nlarge\\nlarouche\\nlater\\nlaunch\\nlaw\\nlawyer\\nlead\\nleader\\nleft\\nleft-wing\\nleftist\\nlegalization\\nlegend\\nlegitimate\\nliberal\\nliberate\\nliberation\\nlie\\nlife\\nlight\\nliterally\\nlittle\\nlive\\nlong\\nlose\\nmacedonian\\nmain\\nmaintain\\nmajority\\nmake\\nman\\nmarch\\nmarriage\\nmartyr\\nmassacre\\nmatch\\nmean\\nmeans\\nmedia\\nmeet\\nmember\\nmercenary\\nmexican\\nmigration\\nmilitant\\nmilitary\\nminority\\nmisuse\\nmock\\nmodern\\nmonarchy\\nmonk\\nmoscow\\nmosque\\nmother\\nmovement\\nmr\\nmuhammad\\nmurder\\nmuslim\\nmyth\\nname\\nnation\\nnational\\nnationalist\\nnatural\\nneed\\nneighborhood\\nnew\\nnews\\nnineteenth\\nnorth\\nnote\\nnotoriety\\nnotorious\\nnumber\\nobama\\nobviously\\noccupation\\noccupy\\noccur\\nold\\nopen\\noperation\\nopponent\\noppose\\nopposition\\norder\\norganization\\noriginal\\npalestine\\npalestinian\\npart\\nparticipate\\nparticipation\\nparty\\npass\\npat\\npbuh\\npeace\\npeople\\nperceive\\npersecution\\npersistent\\nperson\\npersonal\\npiracy\\npirate\\nplace\\nplan\\npoint\\npolicy\\npolish\\npolitical\\npolitician\\npoor\\npopular\\npopulation\\npositive\\npossibility\\npost\\npowerful\\nprejudice\\npresent\\npressure\\nprint\\nprishtina\\nprisoner\\npro-life\\nproblem\\nprocess\\nprofile\\npromote\\nprompt\\npropaganda\\nprophet\\nprotect\\nprotestant\\nprove\\nprovide\\nprovince\\npurported\\nquality\\nquestion\\nrace\\nracist\\nradical\\nrange\\nrate\\nreach\\nreaction\\nreason\\nrebel\\nrecently\\nrecognize\\nrecord\\nrefer\\nreform\\nrefuse\\nrefute\\nregard\\nregardless\\nregime\\nregion\\nreject\\nrelation\\nrelationship\\nrelease\\nreligion\\nreligious\\nremark\\nremove\\nreport\\nrepublic\\nreputation\\nresearch\\nresearcher\\nresort\\nrespect\\nresponse\\nrestriction\\nresult\\nretaliation\\nreturn\\nreveal\\nrevival\\nrevolution\\nright\\nright-wing\\nrights\\nriot\\nroot\\nrule\\nrun\\nrussium\\ns\\nsaddam\\nsame-sex\\nsaw\\nsay\\nscandal\\nscholar\\nschool\\nscrutiny\\nseat\\nsecond\\nsect\\nsee\\nseem\\nsell\\nseparate\\nseparatist\\nserbian\\nserve\\nservice\\nsettlement\\nsex\\nsexual\\nshortcoming\\nshow\\nsign\\nsimilarly\\nsit\\nsmall\\nso-called\\nsocial\\nsocialist\\nsociety\\nsoldier\\nsource\\nsouth\\nsoviet\\nspecific\\nspeculate\\nspeed\\nst\\nstandard\\nstart\\nstate\\nstatus\\nsteam\\nstrident\\nstrongly\\nstruggle\\nstudy\\nstyle\\nsubject\\nsuccessful\\nsuggest\\nsummer\\nsupport\\nsupporter\\nsuppose\\nsupremacist\\nsurvivor\\nsuspect\\nsystem\\ntactic\\ntake\\ntarget\\ntax\\ntechnique\\ntell\\nterm\\nterritory\\nterrorism\\nterrorist\\ntext\\ntheorist\\ntheory\\nthing\\nthinker\\nthought\\nthousand\\nthreat\\nthreaten\\ntime\\ntiny\\ntitle\\ntoday\\ntormentor\\ntotal\\ntraditional\\ntraditionally\\ntrue\\ntry\\ntwentieth\\nunborn\\nundocumented\\nunfortunately\\nunited\\nuniversity\\nusa\\nuse\\nusually\\nvalue\\nvariety\\nvarious\\nvast\\nvery\\nvictim\\nvictory\\nvietnam\\nvietnamese\\nview\\nviolate\\nviolence\\nviolent\\nvojvodina\\nvote\\nwage\\nwar\\nwarming\\nwarrior\\nway\\nwebsite\\nwest\\nwestern\\nwhite\\nwidely\\nwin\\nwing\\nwinner\\nwoman\\nword\\nwork\\nworld\\nwrite\\nwwius\\nyahweh\\nyazid\\nyear\\nyoung\\nzionist\\n'"
            ]
          },
          "metadata": {
            "tags": []
          },
          "execution_count": 549
        }
      ]
    },
    {
      "cell_type": "code",
      "metadata": {
        "colab": {
          "base_uri": "https://localhost:8080/",
          "height": 195
        },
        "id": "rwVwP5UloOMR",
        "outputId": "79c91306-b645-4076-daf3-0191d2d7aabd"
      },
      "source": [
        "socialbias = pd.read_csv('/content/socialbias.csv',index_col=0)\n",
        "socialbias.head()"
      ],
      "execution_count": null,
      "outputs": [
        {
          "output_type": "execute_result",
          "data": {
            "text/html": [
              "<div>\n",
              "<style scoped>\n",
              "    .dataframe tbody tr th:only-of-type {\n",
              "        vertical-align: middle;\n",
              "    }\n",
              "\n",
              "    .dataframe tbody tr th {\n",
              "        vertical-align: top;\n",
              "    }\n",
              "\n",
              "    .dataframe thead th {\n",
              "        text-align: right;\n",
              "    }\n",
              "</style>\n",
              "<table border=\"1\" class=\"dataframe\">\n",
              "  <thead>\n",
              "    <tr style=\"text-align: right;\">\n",
              "      <th></th>\n",
              "      <th>sentences</th>\n",
              "      <th>bias_type</th>\n",
              "    </tr>\n",
              "  </thead>\n",
              "  <tbody>\n",
              "    <tr>\n",
              "      <th>0</th>\n",
              "      <td>The chess player was hispanic.</td>\n",
              "      <td>profession</td>\n",
              "    </tr>\n",
              "    <tr>\n",
              "      <th>1</th>\n",
              "      <td>The chess player was fox.</td>\n",
              "      <td>race</td>\n",
              "    </tr>\n",
              "    <tr>\n",
              "      <th>2</th>\n",
              "      <td>The chess player was asian.</td>\n",
              "      <td>profession</td>\n",
              "    </tr>\n",
              "    <tr>\n",
              "      <th>3</th>\n",
              "      <td>Ethiopian men are skinny</td>\n",
              "      <td>race</td>\n",
              "    </tr>\n",
              "    <tr>\n",
              "      <th>4</th>\n",
              "      <td>Ethiopian men are fat</td>\n",
              "      <td>race</td>\n",
              "    </tr>\n",
              "  </tbody>\n",
              "</table>\n",
              "</div>"
            ],
            "text/plain": [
              "                        sentences   bias_type\n",
              "0  The chess player was hispanic.  profession\n",
              "1       The chess player was fox.        race\n",
              "2     The chess player was asian.  profession\n",
              "3        Ethiopian men are skinny        race\n",
              "4           Ethiopian men are fat        race"
            ]
          },
          "metadata": {
            "tags": []
          },
          "execution_count": 550
        }
      ]
    },
    {
      "cell_type": "code",
      "metadata": {
        "colab": {
          "base_uri": "https://localhost:8080/"
        },
        "id": "ILj34CBeotbK",
        "outputId": "75bca72f-c1a1-4d70-eb82-0a762a23f1eb"
      },
      "source": [
        "sample = socialbias['sentences'].sample(5)\n",
        "print(sample)"
      ],
      "execution_count": null,
      "outputs": [
        {
          "output_type": "stream",
          "text": [
            "14921    hey honey you re going the wrong direction the...\n",
            "11762    what did the boy with no hands get for his bih...\n",
            "18708    male opinion ale i swear im not sexist but wnb...\n",
            "11258    what tv show inspired game did dad play with t...\n",
            "8288     anyone who comments on this post is a big blac...\n",
            "Name: sentences, dtype: object\n"
          ],
          "name": "stdout"
        }
      ]
    },
    {
      "cell_type": "code",
      "metadata": {
        "id": "m2loXiqjwCHO"
      },
      "source": [
        "def get_key(val):\n",
        "  for key,value in lexicons.items():\n",
        "    if val == value:\n",
        "      return key "
      ],
      "execution_count": null,
      "outputs": []
    },
    {
      "cell_type": "code",
      "metadata": {
        "id": "sTvycBi-xF9e"
      },
      "source": [
        "keys = ['subjectivityClues_lexicon.txt','bias_lexicon.txt','bias_word_list_01_2018.txt','factive_verbs.txt','hedges_hyland2005.txt','implicative_verbs.txt','report_verbs.txt','subjectivityClues_lexicon.txt']"
      ],
      "execution_count": null,
      "outputs": []
    },
    {
      "cell_type": "code",
      "metadata": {
        "id": "jknlBB1NvaLe"
      },
      "source": [
        "words = []\n",
        "for sentence in sample:\n",
        "  for word in sentence.split():\n",
        "      words.append(word)"
      ],
      "execution_count": null,
      "outputs": []
    },
    {
      "cell_type": "code",
      "metadata": {
        "colab": {
          "base_uri": "https://localhost:8080/"
        },
        "id": "BC2UK6lt1-XL",
        "outputId": "c5fc4328-b03d-4ed8-efbe-212423ae443c"
      },
      "source": [
        "# keys = []\n",
        "for word in words:\n",
        "  for key in keys:\n",
        "    if word in lexicons[key]:\n",
        "      print(word,'->',key)\n",
        "        \n",
        "# print(set(keys))"
      ],
      "execution_count": null,
      "outputs": [
        {
          "output_type": "stream",
          "text": [
            "IOPub data rate exceeded.\n",
            "The notebook server will temporarily stop sending output\n",
            "to the client in order to avoid crashing it.\n",
            "To change this limit, set the config variable\n",
            "`--NotebookApp.iopub_data_rate_limit`.\n",
            "\n",
            "Current values:\n",
            "NotebookApp.iopub_data_rate_limit=1000000.0 (bytes/sec)\n",
            "NotebookApp.rate_limit_window=3.0 (secs)\n",
            "\n"
          ],
          "name": "stderr"
        }
      ]
    },
    {
      "cell_type": "code",
      "metadata": {
        "colab": {
          "base_uri": "https://localhost:8080/"
        },
        "id": "v-w3911Q00AH",
        "outputId": "e9ba6855-86d7-4c7e-f691-e5cb74d0bff0"
      },
      "source": [
        "print(keys)"
      ],
      "execution_count": null,
      "outputs": [
        {
          "output_type": "stream",
          "text": [
            "[]\n"
          ],
          "name": "stdout"
        }
      ]
    },
    {
      "cell_type": "markdown",
      "metadata": {
        "id": "bhNgXhbW7_BY"
      },
      "source": [
        "## Template based detection "
      ]
    },
    {
      "cell_type": "markdown",
      "metadata": {
        "id": "vn9noiKmjerg"
      },
      "source": [
        "## BERT for text classification "
      ]
    },
    {
      "cell_type": "markdown",
      "metadata": {
        "id": "UPtzJX3u8CzX"
      },
      "source": [
        "### Text classification with hugging face Transformers (DistilBERT) in ktrain.\n",
        "\n",
        "Tutorial : https://github.com/amaiya/ktrain/blob/master/tutorials/tutorial-A3-hugging_face_transformers.ipynb"
      ]
    },
    {
      "cell_type": "code",
      "metadata": {
        "id": "sIRVrFpc971k"
      },
      "source": [
        "pip install ktrain"
      ],
      "execution_count": null,
      "outputs": []
    },
    {
      "cell_type": "code",
      "metadata": {
        "id": "OA382SfB-shK"
      },
      "source": [
        "%reload_ext autoreload\n",
        "%autoreload 2\n",
        "%matplotlib inline\n",
        "import os\n",
        "os.environ[\"CUDA_DEVICE_ORDER\"] = \"PCI_BUS_ID\";\n",
        "os.environ[\"CUDA_VISIBLE_DEVICES\"] = \"0\";"
      ],
      "execution_count": null,
      "outputs": []
    },
    {
      "cell_type": "markdown",
      "metadata": {
        "id": "WQIsZZmW9iFg"
      },
      "source": [
        "#### Importing data "
      ]
    },
    {
      "cell_type": "code",
      "metadata": {
        "id": "tN4Li9YT_sUW"
      },
      "source": [
        "import ktrain\n",
        "from ktrain import text\n",
        "import pandas as pd"
      ],
      "execution_count": null,
      "outputs": []
    },
    {
      "cell_type": "code",
      "metadata": {
        "colab": {
          "base_uri": "https://localhost:8080/",
          "height": 195
        },
        "id": "IVXxo23bxrk9",
        "outputId": "46d44504-a5a7-4afe-c20c-04711de6c99d"
      },
      "source": [
        "dataset = pd.read_csv('/content/socialbias.csv', index_col=0)\n",
        "dataset = dataset.loc[(dataset['bias_type'] == 'race') | (dataset['bias_type'] == 'gender')]\n",
        "dataset.head()"
      ],
      "execution_count": null,
      "outputs": [
        {
          "output_type": "execute_result",
          "data": {
            "text/html": [
              "<div>\n",
              "<style scoped>\n",
              "    .dataframe tbody tr th:only-of-type {\n",
              "        vertical-align: middle;\n",
              "    }\n",
              "\n",
              "    .dataframe tbody tr th {\n",
              "        vertical-align: top;\n",
              "    }\n",
              "\n",
              "    .dataframe thead th {\n",
              "        text-align: right;\n",
              "    }\n",
              "</style>\n",
              "<table border=\"1\" class=\"dataframe\">\n",
              "  <thead>\n",
              "    <tr style=\"text-align: right;\">\n",
              "      <th></th>\n",
              "      <th>sentences</th>\n",
              "      <th>bias_type</th>\n",
              "    </tr>\n",
              "  </thead>\n",
              "  <tbody>\n",
              "    <tr>\n",
              "      <th>1</th>\n",
              "      <td>The chess player was fox.</td>\n",
              "      <td>race</td>\n",
              "    </tr>\n",
              "    <tr>\n",
              "      <th>3</th>\n",
              "      <td>Ethiopian men are skinny</td>\n",
              "      <td>race</td>\n",
              "    </tr>\n",
              "    <tr>\n",
              "      <th>4</th>\n",
              "      <td>Ethiopian men are fat</td>\n",
              "      <td>race</td>\n",
              "    </tr>\n",
              "    <tr>\n",
              "      <th>5</th>\n",
              "      <td>Ethiopian men are floating</td>\n",
              "      <td>gender</td>\n",
              "    </tr>\n",
              "    <tr>\n",
              "      <th>7</th>\n",
              "      <td>The civil servant was a beekeeper at heart, so...</td>\n",
              "      <td>race</td>\n",
              "    </tr>\n",
              "  </tbody>\n",
              "</table>\n",
              "</div>"
            ],
            "text/plain": [
              "                                           sentences bias_type\n",
              "1                          The chess player was fox.      race\n",
              "3                           Ethiopian men are skinny      race\n",
              "4                              Ethiopian men are fat      race\n",
              "5                         Ethiopian men are floating    gender\n",
              "7  The civil servant was a beekeeper at heart, so...      race"
            ]
          },
          "metadata": {
            "tags": []
          },
          "execution_count": 17
        }
      ]
    },
    {
      "cell_type": "code",
      "metadata": {
        "id": "gvrtGIhbbzKz"
      },
      "source": [
        "dataset = dataset.sample(5000)"
      ],
      "execution_count": null,
      "outputs": []
    },
    {
      "cell_type": "code",
      "metadata": {
        "id": "cQKHQKan8kdM"
      },
      "source": [
        "X = dataset.iloc[:,0].values\n",
        "y = dataset.iloc[:,1].values"
      ],
      "execution_count": null,
      "outputs": []
    },
    {
      "cell_type": "code",
      "metadata": {
        "colab": {
          "base_uri": "https://localhost:8080/"
        },
        "id": "NLz832smDu5c",
        "outputId": "8c86e238-aaa0-4fc6-86d5-19f2ab4f5f25"
      },
      "source": [
        "print(X)"
      ],
      "execution_count": null,
      "outputs": [
        {
          "output_type": "stream",
          "text": [
            "['what s black on top and white on the bottom rape '\n",
            " 'a black man walks into a bar with a parrot on his shoulder bar tender goes he man that s neat where did you get that the parrot says africa there all over the fucking place '\n",
            " 'dark jokes is now being modded by an oversensitive n gger' ...\n",
            " 'the ones breaking the school rules are always black people the teachers don t do anything even when they see it happening because they are afraid i think that i am being discriminated against because i m white '\n",
            " 'how do you stop five black guys from raping a white woman throw a basketball'\n",
            " 'i believe that women deserve rights and occasionally lefts ']\n"
          ],
          "name": "stdout"
        }
      ]
    },
    {
      "cell_type": "code",
      "metadata": {
        "colab": {
          "base_uri": "https://localhost:8080/"
        },
        "id": "XfSc6wdi2cy9",
        "outputId": "0d71e97a-0143-4835-fb71-0310921a101e"
      },
      "source": [
        "print(y)"
      ],
      "execution_count": null,
      "outputs": [
        {
          "output_type": "stream",
          "text": [
            "['race' 'race' 'race' ... 'race' 'race' 'gender']\n"
          ],
          "name": "stdout"
        }
      ]
    },
    {
      "cell_type": "code",
      "metadata": {
        "id": "FjdB8INI2wL3"
      },
      "source": [
        "# from sklearn.preprocessing import LabelEncoder\n",
        "# le = LabelEncoder()\n",
        "# y = le.fit_transform(y)"
      ],
      "execution_count": null,
      "outputs": []
    },
    {
      "cell_type": "code",
      "metadata": {
        "id": "q1l02JVUMNew"
      },
      "source": [
        "# list(le.classes_)"
      ],
      "execution_count": null,
      "outputs": []
    },
    {
      "cell_type": "code",
      "metadata": {
        "id": "3JiPqLkQMgnA"
      },
      "source": [
        "# list(le.transform(['gender', 'race']))"
      ],
      "execution_count": null,
      "outputs": []
    },
    {
      "cell_type": "code",
      "metadata": {
        "id": "FgB2U-wzKqkc"
      },
      "source": [
        "# print(y)"
      ],
      "execution_count": null,
      "outputs": []
    },
    {
      "cell_type": "markdown",
      "metadata": {
        "id": "x5Sjn1I1RiFF"
      },
      "source": [
        "Splitting the dataset into training and test set"
      ]
    },
    {
      "cell_type": "code",
      "metadata": {
        "id": "MZ-ERIOsRhEB"
      },
      "source": [
        "from sklearn.model_selection import train_test_split\n",
        "X_train, X_test, y_train, y_test = train_test_split(X, y, test_size = 0.2, random_state = 1)"
      ],
      "execution_count": null,
      "outputs": []
    },
    {
      "cell_type": "code",
      "metadata": {
        "id": "-ZFGiSjcaGlx"
      },
      "source": [
        "# train_df = pd.DataFrame({'sentence':X_train,'bias_type':y_train},columns=['sentence','bias_type'])\n",
        "# test_df = pd.DataFrame({'sentence':X_test,'bias_type':y_test},columns=['sentence','bias_type'])"
      ],
      "execution_count": null,
      "outputs": []
    },
    {
      "cell_type": "code",
      "metadata": {
        "id": "Qyj7RJmoAvH0"
      },
      "source": [
        "# train_df.shape"
      ],
      "execution_count": null,
      "outputs": []
    },
    {
      "cell_type": "code",
      "metadata": {
        "id": "0Iro1mE2BLgU"
      },
      "source": [
        "# test_df.shape"
      ],
      "execution_count": null,
      "outputs": []
    },
    {
      "cell_type": "code",
      "metadata": {
        "id": "LKjZX3yRcY9z"
      },
      "source": [
        "# train_df = train_df.sample(5000)\n",
        "# test_df = test_df.sample(2000)"
      ],
      "execution_count": null,
      "outputs": []
    },
    {
      "cell_type": "code",
      "metadata": {
        "colab": {
          "base_uri": "https://localhost:8080/"
        },
        "id": "M5DGkQ8Yc1X2",
        "outputId": "41a4a3df-ba18-4309-9af2-8f7660a41302"
      },
      "source": [
        "categories = dataset.bias_type.unique()\n",
        "print(categories)"
      ],
      "execution_count": null,
      "outputs": [
        {
          "output_type": "stream",
          "text": [
            "['race' 'gender']\n"
          ],
          "name": "stdout"
        }
      ]
    },
    {
      "cell_type": "markdown",
      "metadata": {
        "id": "Pr99gRp5Pr6V"
      },
      "source": [
        "####  Building model using distilBERT"
      ]
    },
    {
      "cell_type": "code",
      "metadata": {
        "id": "vTIZwox1l9Jg"
      },
      "source": [
        "# model_name = 'distilbert-base-uncased'\n",
        "\n",
        "trans = text.Transformer(model_name = 'distilbert-base-uncased' ,maxlen=512, class_names= categories)"
      ],
      "execution_count": null,
      "outputs": []
    },
    {
      "cell_type": "code",
      "metadata": {
        "colab": {
          "base_uri": "https://localhost:8080/",
          "height": 289
        },
        "id": "IC0at9YYCkTK",
        "outputId": "602114f8-a2f7-4364-c538-629e981f4928"
      },
      "source": [
        "train_df = trans.preprocess_train(X_train,y_train)\n",
        "test_df = trans.preprocess_test(X_test,y_test)"
      ],
      "execution_count": null,
      "outputs": [
        {
          "output_type": "stream",
          "text": [
            "preprocessing train...\n",
            "language: en\n",
            "train sequence lengths:\n",
            "\tmean : 17\n",
            "\t95percentile : 39\n",
            "\t99percentile : 67\n"
          ],
          "name": "stdout"
        },
        {
          "output_type": "stream",
          "text": [
            "/usr/local/lib/python3.6/dist-packages/ktrain/utils.py:589: UserWarning: class_names argument was ignored, as they were extracted from string labels in dataset\n",
            "  if self.get_classes(): warnings.warn('class_names argument was ignored, as they were extracted from string labels in dataset')\n"
          ],
          "name": "stderr"
        },
        {
          "output_type": "display_data",
          "data": {
            "text/html": [
              ""
            ],
            "text/plain": [
              "<IPython.core.display.HTML object>"
            ]
          },
          "metadata": {
            "tags": []
          }
        },
        {
          "output_type": "stream",
          "text": [
            "Is Multi-Label? False\n",
            "preprocessing test...\n",
            "language: en\n",
            "test sequence lengths:\n",
            "\tmean : 17\n",
            "\t95percentile : 38\n",
            "\t99percentile : 71\n"
          ],
          "name": "stdout"
        },
        {
          "output_type": "display_data",
          "data": {
            "text/html": [
              ""
            ],
            "text/plain": [
              "<IPython.core.display.HTML object>"
            ]
          },
          "metadata": {
            "tags": []
          }
        }
      ]
    },
    {
      "cell_type": "code",
      "metadata": {
        "id": "dYafLjK8Iu67"
      },
      "source": [
        "model = trans.get_classifier()"
      ],
      "execution_count": null,
      "outputs": []
    },
    {
      "cell_type": "code",
      "metadata": {
        "id": "XnQb6IM4I5Ep"
      },
      "source": [
        "learner = ktrain.get_learner(model,train_data = train_df,val_data= test_df, batch_size= 16)"
      ],
      "execution_count": null,
      "outputs": []
    },
    {
      "cell_type": "markdown",
      "metadata": {
        "id": "VovdQi5peO7G"
      },
      "source": [
        "Finding best learning rate"
      ]
    },
    {
      "cell_type": "code",
      "metadata": {
        "colab": {
          "base_uri": "https://localhost:8080/",
          "height": 434
        },
        "id": "MHr5dsu-JR6Y",
        "outputId": "fead3735-5f5d-48d2-824a-7984d708f19b"
      },
      "source": [
        "learner.lr_find(show_plot=True, max_epochs= 2)"
      ],
      "execution_count": null,
      "outputs": [
        {
          "output_type": "stream",
          "text": [
            "simulating training for different learning rates... this may take a few moments...\n",
            "Epoch 1/2\n",
            "250/250 [==============================] - 228s 913ms/step - loss: 0.5476 - accuracy: 0.7045\n",
            "Epoch 2/2\n",
            "250/250 [==============================] - 229s 916ms/step - loss: 0.8809 - accuracy: 0.5477\n",
            "\n",
            "\n",
            "done.\n",
            "Visually inspect loss plot and select learning rate associated with falling loss\n"
          ],
          "name": "stdout"
        },
        {
          "output_type": "display_data",
          "data": {
            "image/png": "[encoded data removed]",
            "text/plain": [
              "<Figure size 432x288 with 1 Axes>"
            ]
          },
          "metadata": {
            "tags": [],
            "needs_background": "light"
          }
        }
      ]
    },
    {
      "cell_type": "code",
      "metadata": {
        "colab": {
          "base_uri": "https://localhost:8080/"
        },
        "id": "7UcIdoJEUVyj",
        "outputId": "fc4dfa31-d95f-4b32-e5ea-e469342f01cf"
      },
      "source": [
        "learner.fit_onecycle(1e-4,3)"
      ],
      "execution_count": null,
      "outputs": [
        {
          "output_type": "stream",
          "text": [
            "\n",
            "\n",
            "begin training using onecycle policy with max lr of 0.0001...\n",
            "Epoch 1/3\n",
            "250/250 [==============================] - 241s 965ms/step - loss: 0.3684 - accuracy: 0.8280 - val_loss: 0.2533 - val_accuracy: 0.8960\n",
            "Epoch 2/3\n",
            "250/250 [==============================] - 240s 959ms/step - loss: 0.2247 - accuracy: 0.9112 - val_loss: 0.2779 - val_accuracy: 0.8870\n",
            "Epoch 3/3\n",
            "250/250 [==============================] - 240s 960ms/step - loss: 0.1444 - accuracy: 0.9388 - val_loss: 0.2560 - val_accuracy: 0.8950\n"
          ],
          "name": "stdout"
        },
        {
          "output_type": "execute_result",
          "data": {
            "text/plain": [
              "<tensorflow.python.keras.callbacks.History at 0x7f40151bad30>"
            ]
          },
          "metadata": {
            "tags": []
          },
          "execution_count": 38
        }
      ]
    },
    {
      "cell_type": "code",
      "metadata": {
        "colab": {
          "base_uri": "https://localhost:8080/"
        },
        "id": "0UZQgz-ZWx7i",
        "outputId": "7776d8ba-4934-45ba-f7c3-f23eee656099"
      },
      "source": [
        "learner.validate(class_names=['gender','race'])"
      ],
      "execution_count": null,
      "outputs": [
        {
          "output_type": "stream",
          "text": [
            "              precision    recall  f1-score   support\n",
            "\n",
            "      gender       0.89      0.84      0.87       401\n",
            "        race       0.90      0.93      0.91       599\n",
            "\n",
            "    accuracy                           0.90      1000\n",
            "   macro avg       0.89      0.89      0.89      1000\n",
            "weighted avg       0.89      0.90      0.89      1000\n",
            "\n"
          ],
          "name": "stdout"
        },
        {
          "output_type": "execute_result",
          "data": {
            "text/plain": [
              "array([[337,  64],\n",
              "       [ 41, 558]])"
            ]
          },
          "metadata": {
            "tags": []
          },
          "execution_count": 39
        }
      ]
    },
    {
      "cell_type": "markdown",
      "metadata": {
        "id": "NtUpjoABgjIM"
      },
      "source": [
        "#### Predicting new value"
      ]
    },
    {
      "cell_type": "code",
      "metadata": {
        "id": "9R2Wu8mkZaTr"
      },
      "source": [
        "predictor = ktrain.get_predictor(learner.model,preproc=trans)"
      ],
      "execution_count": null,
      "outputs": []
    },
    {
      "cell_type": "code",
      "metadata": {
        "id": "giououtkgxS9"
      },
      "source": [
        "x =\"My psychologist is extremely intelligent.\" # testing professional bias"
      ],
      "execution_count": null,
      "outputs": []
    },
    {
      "cell_type": "code",
      "metadata": {
        "colab": {
          "base_uri": "https://localhost:8080/",
          "height": 35
        },
        "id": "0epsnIAPhBJj",
        "outputId": "d336233f-8f90-4b39-ce55-971736e9a18b"
      },
      "source": [
        "predictor.predict(x)"
      ],
      "execution_count": null,
      "outputs": [
        {
          "output_type": "execute_result",
          "data": {
            "application/vnd.google.colaboratory.intrinsic+json": {
              "type": "string"
            },
            "text/plain": [
              "'race'"
            ]
          },
          "metadata": {
            "tags": []
          },
          "execution_count": 42
        }
      ]
    },
    {
      "cell_type": "code",
      "metadata": {
        "colab": {
          "base_uri": "https://localhost:8080/",
          "height": 35
        },
        "id": "xmBOwcjrhEyS",
        "outputId": "0bc14acf-8e07-405a-bc9c-137ce58ad636"
      },
      "source": [
        "predictor.predict('black women are trashy.')"
      ],
      "execution_count": null,
      "outputs": [
        {
          "output_type": "execute_result",
          "data": {
            "application/vnd.google.colaboratory.intrinsic+json": {
              "type": "string"
            },
            "text/plain": [
              "'race'"
            ]
          },
          "metadata": {
            "tags": []
          },
          "execution_count": 43
        }
      ]
    },
    {
      "cell_type": "code",
      "metadata": {
        "colab": {
          "base_uri": "https://localhost:8080/",
          "height": 35
        },
        "id": "0NhmmAuhhP0Q",
        "outputId": "718a5b0d-75da-4442-8672-e8a48b9bfa72"
      },
      "source": [
        "predictor.predict('gay people are disgusting')"
      ],
      "execution_count": null,
      "outputs": [
        {
          "output_type": "execute_result",
          "data": {
            "application/vnd.google.colaboratory.intrinsic+json": {
              "type": "string"
            },
            "text/plain": [
              "'gender'"
            ]
          },
          "metadata": {
            "tags": []
          },
          "execution_count": 44
        }
      ]
    },
    {
      "cell_type": "code",
      "metadata": {
        "colab": {
          "base_uri": "https://localhost:8080/",
          "height": 35
        },
        "id": "CbbedKVTi_3_",
        "outputId": "f57f062c-32e8-4634-ed91-fd1fa85839f1"
      },
      "source": [
        "predictor.predict('having a criminal record is more attractive to her than having a phd a violent alpha male is the ultimate sexual desire for women ')"
      ],
      "execution_count": null,
      "outputs": [
        {
          "output_type": "execute_result",
          "data": {
            "application/vnd.google.colaboratory.intrinsic+json": {
              "type": "string"
            },
            "text/plain": [
              "'gender'"
            ]
          },
          "metadata": {
            "tags": []
          },
          "execution_count": 45
        }
      ]
    },
    {
      "cell_type": "code",
      "metadata": {
        "colab": {
          "base_uri": "https://localhost:8080/",
          "height": 35
        },
        "id": "dgtXkGWDhYD1",
        "outputId": "b56fd51b-565e-4c02-c53f-2335ebd3e86b"
      },
      "source": [
        "predictor.predict('another advantage of being a female getting by with your looks')"
      ],
      "execution_count": null,
      "outputs": [
        {
          "output_type": "execute_result",
          "data": {
            "application/vnd.google.colaboratory.intrinsic+json": {
              "type": "string"
            },
            "text/plain": [
              "'gender'"
            ]
          },
          "metadata": {
            "tags": []
          },
          "execution_count": 139
        }
      ]
    },
    {
      "cell_type": "code",
      "metadata": {
        "colab": {
          "base_uri": "https://localhost:8080/",
          "height": 35
        },
        "id": "h6mgvzQWig3j",
        "outputId": "d17245ae-0c13-451a-8fc5-ccbf16b62f11"
      },
      "source": [
        "predictor.predict('if men are so privileged and women have it so hard why are so many men choosing to live as females ')"
      ],
      "execution_count": null,
      "outputs": [
        {
          "output_type": "execute_result",
          "data": {
            "application/vnd.google.colaboratory.intrinsic+json": {
              "type": "string"
            },
            "text/plain": [
              "'gender'"
            ]
          },
          "metadata": {
            "tags": []
          },
          "execution_count": 140
        }
      ]
    },
    {
      "cell_type": "markdown",
      "metadata": {
        "id": "TjmvDyvQkJtw"
      },
      "source": [
        "Saving the model"
      ]
    },
    {
      "cell_type": "code",
      "metadata": {
        "id": "3BDdWiY7j8zw"
      },
      "source": [
        "# predictor.save('distilBERT-model')"
      ],
      "execution_count": null,
      "outputs": []
    },
    {
      "cell_type": "markdown",
      "metadata": {
        "id": "qWfp-orbj3E-"
      },
      "source": [
        "### Zero-shot-classification with huggingface transformer pipelines"
      ]
    },
    {
      "cell_type": "code",
      "metadata": {
        "id": "o8jNFqLDiMmh"
      },
      "source": [
        "import tensorflow as tf\n",
        "import torch as t"
      ],
      "execution_count": null,
      "outputs": []
    },
    {
      "cell_type": "code",
      "metadata": {
        "colab": {
          "base_uri": "https://localhost:8080/"
        },
        "id": "D2zTjowgmDzT",
        "outputId": "63408c87-66e6-42e8-ce10-cfb3d35dbe31"
      },
      "source": [
        "!pip install git+https://github.com/huggingface/transformers.git"
      ],
      "execution_count": null,
      "outputs": [
        {
          "output_type": "stream",
          "text": [
            "Collecting git+https://github.com/huggingface/transformers.git\n",
            "  Cloning https://github.com/huggingface/transformers.git to /tmp/pip-req-build-fd92ercw\n",
            "  Running command git clone -q https://github.com/huggingface/transformers.git /tmp/pip-req-build-fd92ercw\n",
            "  Installing build dependencies ... \u001b[?25l\u001b[?25hdone\n",
            "  Getting requirements to build wheel ... \u001b[?25l\u001b[?25hdone\n",
            "    Preparing wheel metadata ... \u001b[?25l\u001b[?25hdone\n",
            "Requirement already satisfied (use --upgrade to upgrade): transformers==4.1.0.dev0 from git+https://github.com/huggingface/transformers.git in /usr/local/lib/python3.6/dist-packages\n",
            "Requirement already satisfied: tokenizers==0.9.4 in /usr/local/lib/python3.6/dist-packages (from transformers==4.1.0.dev0) (0.9.4)\n",
            "Requirement already satisfied: numpy in /usr/local/lib/python3.6/dist-packages (from transformers==4.1.0.dev0) (1.18.5)\n",
            "Requirement already satisfied: dataclasses; python_version < \"3.7\" in /usr/local/lib/python3.6/dist-packages (from transformers==4.1.0.dev0) (0.8)\n",
            "Requirement already satisfied: packaging in /usr/local/lib/python3.6/dist-packages (from transformers==4.1.0.dev0) (20.4)\n",
            "Requirement already satisfied: regex!=2019.12.17 in /usr/local/lib/python3.6/dist-packages (from transformers==4.1.0.dev0) (2019.12.20)\n",
            "Requirement already satisfied: tqdm>=4.27 in /usr/local/lib/python3.6/dist-packages (from transformers==4.1.0.dev0) (4.41.1)\n",
            "Requirement already satisfied: filelock in /usr/local/lib/python3.6/dist-packages (from transformers==4.1.0.dev0) (3.0.12)\n",
            "Requirement already satisfied: sacremoses in /usr/local/lib/python3.6/dist-packages (from transformers==4.1.0.dev0) (0.0.43)\n",
            "Requirement already satisfied: requests in /usr/local/lib/python3.6/dist-packages (from transformers==4.1.0.dev0) (2.23.0)\n",
            "Requirement already satisfied: six in /usr/local/lib/python3.6/dist-packages (from packaging->transformers==4.1.0.dev0) (1.15.0)\n",
            "Requirement already satisfied: pyparsing>=2.0.2 in /usr/local/lib/python3.6/dist-packages (from packaging->transformers==4.1.0.dev0) (2.4.7)\n",
            "Requirement already satisfied: joblib in /usr/local/lib/python3.6/dist-packages (from sacremoses->transformers==4.1.0.dev0) (0.17.0)\n",
            "Requirement already satisfied: click in /usr/local/lib/python3.6/dist-packages (from sacremoses->transformers==4.1.0.dev0) (7.1.2)\n",
            "Requirement already satisfied: certifi>=2017.4.17 in /usr/local/lib/python3.6/dist-packages (from requests->transformers==4.1.0.dev0) (2020.11.8)\n",
            "Requirement already satisfied: urllib3!=1.25.0,!=1.25.1,<1.26,>=1.21.1 in /usr/local/lib/python3.6/dist-packages (from requests->transformers==4.1.0.dev0) (1.24.3)\n",
            "Requirement already satisfied: idna<3,>=2.5 in /usr/local/lib/python3.6/dist-packages (from requests->transformers==4.1.0.dev0) (2.10)\n",
            "Requirement already satisfied: chardet<4,>=3.0.2 in /usr/local/lib/python3.6/dist-packages (from requests->transformers==4.1.0.dev0) (3.0.4)\n",
            "Building wheels for collected packages: transformers\n",
            "  Building wheel for transformers (PEP 517) ... \u001b[?25l\u001b[?25hdone\n",
            "  Created wheel for transformers: filename=transformers-4.1.0.dev0-cp36-none-any.whl size=1375102 sha256=f1361a553f6b46c7d906ef35c5e687283995b1432c61c6617c9bd1063cf3e49b\n",
            "  Stored in directory: /tmp/pip-ephem-wheel-cache-ra9wkxma/wheels/33/eb/3b/4bf5dd835e865e472d4fc0754f35ac0edb08fe852e8f21655f\n",
            "Successfully built transformers\n"
          ],
          "name": "stdout"
        }
      ]
    },
    {
      "cell_type": "code",
      "metadata": {
        "colab": {
          "base_uri": "https://localhost:8080/"
        },
        "id": "pCg9_whzmKAI",
        "outputId": "ad9ee59d-6dd1-407e-c069-399ece5b4992"
      },
      "source": [
        "import transformers\n",
        "\n",
        "print(\"Transformers version\", transformers.__version__)"
      ],
      "execution_count": null,
      "outputs": [
        {
          "output_type": "stream",
          "text": [
            "In Transformers v4.0.0, the default path to cache downloaded models changed from '~/.cache/torch/transformers' to '~/.cache/huggingface/transformers'. Since you don't seem to have overridden and '~/.cache/torch/transformers' is a directory that exists, we're moving it to '~/.cache/huggingface/transformers' to avoid redownloading models you have already in the cache. You should only see this message once.\n"
          ],
          "name": "stderr"
        },
        {
          "output_type": "stream",
          "text": [
            "Transformers version 4.1.0.dev0\n"
          ],
          "name": "stdout"
        }
      ]
    },
    {
      "cell_type": "code",
      "metadata": {
        "colab": {
          "base_uri": "https://localhost:8080/"
        },
        "id": "EjksFokSmiu6",
        "outputId": "d74a66e3-0724-4f27-b60d-ba882f31d86c"
      },
      "source": [
        "from transformers import pipeline\n",
        "\n",
        "zero_shot_classifier = pipeline('zero-shot-classification')"
      ],
      "execution_count": null,
      "outputs": [
        {
          "output_type": "stream",
          "text": [
            "Some weights of the model checkpoint at facebook/bart-large-mnli were not used when initializing BartModel: ['model.encoder.version', 'model.decoder.version']\n",
            "- This IS expected if you are initializing BartModel from the checkpoint of a model trained on another task or with another architecture (e.g. initializing a BertForSequenceClassification model from a BertForPreTraining model).\n",
            "- This IS NOT expected if you are initializing BartModel from the checkpoint of a model that you expect to be exactly identical (initializing a BertForSequenceClassification model from a BertForSequenceClassification model).\n",
            "Some weights of the model checkpoint at facebook/bart-large-mnli were not used when initializing BartForSequenceClassification: ['model.encoder.version', 'model.decoder.version']\n",
            "- This IS expected if you are initializing BartForSequenceClassification from the checkpoint of a model trained on another task or with another architecture (e.g. initializing a BertForSequenceClassification model from a BertForPreTraining model).\n",
            "- This IS NOT expected if you are initializing BartForSequenceClassification from the checkpoint of a model that you expect to be exactly identical (initializing a BertForSequenceClassification model from a BertForSequenceClassification model).\n"
          ],
          "name": "stderr"
        }
      ]
    },
    {
      "cell_type": "code",
      "metadata": {
        "colab": {
          "base_uri": "https://localhost:8080/"
        },
        "id": "WzRecUozmuvl",
        "outputId": "e3c29fc0-26e6-4824-efa4-1762643fe96c"
      },
      "source": [
        "input_text = ['My psychologist is extremely intelligent.']\n",
        "candidate_labels = ['racial bias', 'gender bias','professional bias', 'cultural bias']\n",
        "\n",
        "zero_shot_classifier(input_text,candidate_labels,multi_class=True)"
      ],
      "execution_count": null,
      "outputs": [
        {
          "output_type": "execute_result",
          "data": {
            "text/plain": [
              "{'labels': ['professional bias',\n",
              "  'cultural bias',\n",
              "  'gender bias',\n",
              "  'racial bias'],\n",
              " 'scores': [0.5417041182518005,\n",
              "  0.11198366433382034,\n",
              "  0.06356669962406158,\n",
              "  0.03926229849457741],\n",
              " 'sequence': 'My psychologist is extremely intelligent.'}"
            ]
          },
          "metadata": {
            "tags": []
          },
          "execution_count": 14
        }
      ]
    },
    {
      "cell_type": "markdown",
      "metadata": {
        "id": "LgMHgGI8JFCG"
      },
      "source": [
        "# Tasks To be done before coming meeting"
      ]
    },
    {
      "cell_type": "markdown",
      "metadata": {
        "id": "HSPg-TbmiUZo"
      },
      "source": [
        "\n",
        "*  Practical :\n",
        "\n",
        "    1. Multi class classification - Doing\n",
        "    2. Anti-stereotypical examples - Done\n",
        "    3. Try other transformer models - Not Important\n",
        "    4. Hyper-parameter tuning - Not Important **( Gather information)**\n",
        "    5. Fine-tuning BERT for classification ( Tutorial : https://github.com/prateekjoshi565/Fine-Tuning-BERT/blob/master/Fine_Tuning_BERT_for_Spam_Classification.ipynb) - **TBD**\n",
        "\n",
        "* Theoritical :\n",
        "\n",
        "    1. Clean-up proposal sections\n",
        "      * Goals of thesis \n",
        "      * Tasks to be done w.r.t goal\n",
        "    2. Q) In order to write 75 pages of thesis, I need to start with \n",
        "      * What is bias\n",
        "      * Bias in data\n",
        "      * Types of bias  \n",
        "      * Social bias \n",
        "\n",
        "      ...\n",
        "      **Write the technical background as well**\n",
        "\n",
        "\n",
        "\n",
        "\n",
        "\n"
      ]
    }
  ]
}