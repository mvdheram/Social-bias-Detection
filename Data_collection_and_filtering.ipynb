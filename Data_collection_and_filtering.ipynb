{
  "nbformat": 4,
  "nbformat_minor": 0,
  "metadata": {
    "colab": {
      "name": "Data collection and filtering.ipynb",
      "provenance": [],
      "toc_visible": true,
      "authorship_tag": "ABX9TyOWalAAAjOMPVZE37DiRPjH",
      "include_colab_link": true
    },
    "kernelspec": {
      "name": "python3",
      "display_name": "Python 3"
    },
    "language_info": {
      "name": "python"
    }
  },
  "cells": [
    {
      "cell_type": "markdown",
      "metadata": {
        "id": "view-in-github",
        "colab_type": "text"
      },
      "source": [
        "<a href=\"https://colab.research.google.com/github/mvdheram/Social-bias-Detection/blob/Notes/Data_collection_and_filtering.ipynb\" target=\"_parent\"><img src=\"https://colab.research.google.com/assets/colab-badge.svg\" alt=\"Open In Colab\"/></a>"
      ]
    },
    {
      "cell_type": "markdown",
      "metadata": {
        "id": "oFZECl1n9Anz"
      },
      "source": [
        "# Stereotype definition "
      ]
    },
    {
      "cell_type": "markdown",
      "metadata": {
        "id": "AIES6tzTBED9"
      },
      "source": [
        "**Stereotyping, prejudice and discrimination - Fiske 2014:**\n",
        "  * Allport's the nature of prejudice (1954) stated that humans inevitable categorize into ingroup, outgroup when trying to perceive complex social structures.\n",
        "  * This categorization (automatic - preconscious or postconscious) along with group label can prime stereotypic and prejudicial associations (which is more rapid in nature due to generalization; cognition saving mechanism). \n",
        "```\n",
        "  Impressions + labels -> + similar  -> Categorization ->  + generalization of group expectations, behavious, features etc  -> stereotype (cognitive) -> + noisy attribute (false, non-essential) / ingroup favoritism -> prejudice (affective) ->  + judgement -> discrimination  \n",
        "```\n",
        "\n",
        "**Social Bias: Prejudice, Stereotyping, and Discrimination - Sabrina keene, MSP**\n",
        "  * \"Stereotyping is the application of an individual’s own thoughts, beliefs, and expectations onto other individuals without first obtaining factual knowledge about the individual(s)\" 2010 Fiske\n",
        "  \n",
        "\n",
        "**How Language Contributes to Stereotype Formation: Combined Effects of Label Types and Negation Use in Behavior Descriptions**\n",
        "\n",
        "  * Stereotypes are “generalized impressions” (Beukeboom & Burgers, 2019a)"
      ]
    },
    {
      "cell_type": "markdown",
      "metadata": {
        "id": "JyU7urpl9gp2"
      },
      "source": [
        "## SCSC \n",
        "\n",
        "link: https://www.ssoar.info/ssoar/bitstream/handle/document/61187/ssoar-rcr-2019-camiel_j_beukeboom_et_al-How_stereotypes_are_Shared_through.pdf?sequence=1&isAllowed=y&lnkname=ssoar-rcr-2019-camiel_j_beukeboom_et_al-How_stereotypes_are_Shared_through.pdf"
      ]
    },
    {
      "cell_type": "markdown",
      "metadata": {
        "id": "h_1u6tBABFAe"
      },
      "source": [
        ""
      ]
    },
    {
      "cell_type": "markdown",
      "metadata": {
        "id": "aNUxELvtA7MP"
      },
      "source": [
        "## Extract lexicons and filter the datasets"
      ]
    },
    {
      "cell_type": "markdown",
      "metadata": {
        "id": "H72NA5nrBGQB"
      },
      "source": [
        "Linguistic signs:\n",
        "\n",
        "* **How Language Contributes to Stereotype Formation: Combined Effects of Label Types and Negation Use in Behavior Descriptions**:\n",
        "\n",
        "  *Generic labels:*\n",
        "\n",
        "  1. Plural nouns (\"the dutch are direct\")\n",
        "  2. Without definite articles (\"cheetahs run fast\")\n",
        "  3. Singular noun with indefinite article\n",
        "\n",
        "  **Description of stereotypic consistent and inconsistent behaviour** :\n",
        "  \n",
        "    *stereotype-inconsistent:*\n",
        "\n",
        "      * Negation about positive behaviour \n",
        "      1.  Syntactic negation (e.g. no, not - the rocket scientist is not smart) - not smart relates to the inconsistent behaviour of rocket scientist i.e not being **smart**.\n",
        "      2. Incompetent behaviour - (dumb, stupid etc - the rocket scientist is dumb)\n",
        "    \n",
        "    *Stereotype-consistent:*\n",
        "\n",
        "      1. High essentialism - (smart, good - \"the rocket scientist is smart\") \n"
      ]
    },
    {
      "cell_type": "markdown",
      "metadata": {
        "id": "d34eIzVFKw2s"
      },
      "source": [
        "# Why three datasets ?\n"
      ]
    },
    {
      "cell_type": "markdown",
      "metadata": {
        "id": "4IORlCxyLgFL"
      },
      "source": [
        "Firstly, the datasets are used as base references and Exploratory data analysis is performed upon which further samples are explored.\n",
        "\n",
        "1. Stereoset:\n",
        "   * Crowdsourced stereotypical samples based on target terms extracted from wikidata triples.\n",
        "  * Covers both intersentence and intrasentence samples.\n",
        "  * Annotators are asked to give realistic stereo or anti stereo associations.\n",
        "  * Covers explicit stereotypes.\n",
        "  \n",
        "  Limitation:\n",
        "  \n",
        "  * Crowd workers are restricted to USA (80% below 50) and stereotypes may vary based on countries.\n",
        "  * Not exhaustive list\n",
        "  * Stereotypes are subjective in nature and may collide with objective facts.\n",
        "  * validation rate of stereoset is 62% while validation rate is 80% for crowspair.\n",
        "  * Some of the examples seem subjective but not generalized ?\n",
        "    \n",
        "    e.g. He looked like a black rapper in drugs  \n",
        "\n",
        "  Quesitons: \n",
        "   * Consider only intrasentence in stereoset?? as crowspair is of type intrasentence \n",
        "\n",
        "2. Crowspair:\n",
        "\n",
        "  * Crowdsourced (US based); focuses on explicit expressions of stereotypes about historically disadvantaged groups in US.\n",
        "  * \"Higher validation rate at 80%,\n",
        "compared to 62% for StereoSet\". \n",
        "  * Cover wider fields of bias (9 domains) rather than 4 of stereoset.\n",
        "  * Covers explicit stereotypes.\n",
        "\n",
        "  Limitations:\n",
        "\n",
        "  *  Many examples in CrowS-Pairs use first names for people to indicate which group they belong to.\n",
        "  * Explicit group\n",
        "names like “African Americans” and “Mexicans”\n",
        "are also common.\n",
        "  * Examples contain intersectional bias.\n",
        "\n",
        "3. Social Bias Frames:\n",
        "\n",
        "  * Covers 150k structured annotations of social media posts (reddit, twitter, hate sites).\n",
        "  * Provides framing information for each posts through free-text annotations such as implied statement, targeted group apart from the categorical annotation such as offensive, intend to offend etc.\n",
        "  * Covers Implicit stereotypes or micro-aggressions.\n",
        "\n",
        "  * **Micro-aggression**: “A comment or action that subtly and often unconsciously or\n",
        "unintentionally expresses a prejudiced attitude towards a\n",
        "member of a marginalized group”\n",
        "\n",
        "    * “You’re too pretty to be gay.”\n",
        "    * “Don’t you people like tamales?”\n",
        "\n",
        "  Limitations:\n",
        "  *  Covers more of gender and racial biases with social slangs as the posts are extracted from social media.\n",
        "\n",
        "**Note TBD : Manual evaluation of the sentences using features etc**"
      ]
    },
    {
      "cell_type": "markdown",
      "metadata": {
        "id": "UEydX_NnfExn"
      },
      "source": [
        "## Generic nouns using POS tagging \n",
        "\n",
        "Using NNs(Noun plural) and NNPS(Noun singular)"
      ]
    },
    {
      "cell_type": "code",
      "metadata": {
        "colab": {
          "base_uri": "https://localhost:8080/"
        },
        "id": "A4K6NUqyeAU5",
        "outputId": "77ac4c44-7832-4029-d7df-023b03e215b5"
      },
      "source": [
        "import nltk\n",
        "nltk.download('punkt')"
      ],
      "execution_count": null,
      "outputs": [
        {
          "output_type": "stream",
          "text": [
            "[nltk_data] Downloading package punkt to /root/nltk_data...\n",
            "[nltk_data]   Unzipping tokenizers/punkt.zip.\n"
          ],
          "name": "stdout"
        },
        {
          "output_type": "execute_result",
          "data": {
            "text/plain": [
              "True"
            ]
          },
          "metadata": {
            "tags": []
          },
          "execution_count": 6
        }
      ]
    },
    {
      "cell_type": "code",
      "metadata": {
        "id": "wbr1sbsMeeFT"
      },
      "source": [
        "from nltk import word_tokenize, pos_tag, ne_chunk"
      ],
      "execution_count": null,
      "outputs": []
    },
    {
      "cell_type": "code",
      "metadata": {
        "colab": {
          "base_uri": "https://localhost:8080/"
        },
        "id": "q-r-KR_IiN1m",
        "outputId": "55bcf9d2-e4b6-4f9f-ccc1-b8734b0d40d2"
      },
      "source": [
        "nltk.download('averaged_perceptron_tagger')"
      ],
      "execution_count": null,
      "outputs": [
        {
          "output_type": "stream",
          "text": [
            "[nltk_data] Downloading package averaged_perceptron_tagger to\n",
            "[nltk_data]     /root/nltk_data...\n",
            "[nltk_data]   Package averaged_perceptron_tagger is already up-to-\n",
            "[nltk_data]       date!\n"
          ],
          "name": "stdout"
        },
        {
          "output_type": "execute_result",
          "data": {
            "text/plain": [
              "True"
            ]
          },
          "metadata": {
            "tags": []
          },
          "execution_count": 8
        }
      ]
    },
    {
      "cell_type": "code",
      "metadata": {
        "colab": {
          "base_uri": "https://localhost:8080/"
        },
        "id": "58XnlTgzb2wF",
        "outputId": "f405c359-cc82-4026-b7e4-832da680eeba"
      },
      "source": [
        "text = nltk.word_tokenize(\"He did not advance much because he was a lazy poor person\")\n",
        "nltk.pos_tag(text)"
      ],
      "execution_count": null,
      "outputs": [
        {
          "output_type": "execute_result",
          "data": {
            "text/plain": [
              "[('He', 'PRP'),\n",
              " ('did', 'VBD'),\n",
              " ('not', 'RB'),\n",
              " ('advance', 'VB'),\n",
              " ('much', 'RB'),\n",
              " ('because', 'IN'),\n",
              " ('he', 'PRP'),\n",
              " ('was', 'VBD'),\n",
              " ('a', 'DT'),\n",
              " ('lazy', 'JJ'),\n",
              " ('poor', 'JJ'),\n",
              " ('person', 'NN')]"
            ]
          },
          "metadata": {
            "tags": []
          },
          "execution_count": 9
        }
      ]
    },
    {
      "cell_type": "markdown",
      "metadata": {
        "id": "m7NmBpWtK12V"
      },
      "source": [
        "# Micro-aggression dataset filtering "
      ]
    },
    {
      "cell_type": "code",
      "metadata": {
        "id": "s_lB75ezK6r2"
      },
      "source": [
        ""
      ],
      "execution_count": null,
      "outputs": []
    },
    {
      "cell_type": "markdown",
      "metadata": {
        "id": "s0mbRV9FK796"
      },
      "source": [
        "# Feature-Engineering NLP - Research "
      ]
    },
    {
      "cell_type": "code",
      "metadata": {
        "id": "AUh9oANOLEET"
      },
      "source": [
        ""
      ],
      "execution_count": null,
      "outputs": []
    },
    {
      "cell_type": "markdown",
      "metadata": {
        "id": "vZE0CESMLFIX"
      },
      "source": [
        "# Exploratory data analysis - Research"
      ]
    },
    {
      "cell_type": "code",
      "metadata": {
        "id": "Wx_0bQK3LJmL"
      },
      "source": [
        ""
      ],
      "execution_count": null,
      "outputs": []
    },
    {
      "cell_type": "markdown",
      "metadata": {
        "id": "oVFgRgg4LKZe"
      },
      "source": [
        "# Textual Vizualization - Reseach "
      ]
    },
    {
      "cell_type": "code",
      "metadata": {
        "id": "wnVPIHeFLb7j"
      },
      "source": [
        ""
      ],
      "execution_count": null,
      "outputs": []
    }
  ]
}