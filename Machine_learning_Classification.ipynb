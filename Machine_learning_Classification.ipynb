{
  "nbformat": 4,
  "nbformat_minor": 0,
  "metadata": {
    "colab": {
      "name": "Machine learning Classification.ipynb",
      "provenance": [],
      "authorship_tag": "ABX9TyNOclzO5UWP0U6VyppAu34P",
      "include_colab_link": true
    },
    "kernelspec": {
      "name": "python3",
      "display_name": "Python 3"
    }
  },
  "cells": [
    {
      "cell_type": "markdown",
      "metadata": {
        "id": "view-in-github",
        "colab_type": "text"
      },
      "source": [
        "<a href=\"https://colab.research.google.com/github/mvdheram/Social-bias-Detection/blob/Notes/Machine_learning_Classification.ipynb\" target=\"_parent\"><img src=\"https://colab.research.google.com/assets/colab-badge.svg\" alt=\"Open In Colab\"/></a>"
      ]
    },
    {
      "cell_type": "markdown",
      "metadata": {
        "id": "nmb8Pvs0MwdQ"
      },
      "source": [
        "# Classification "
      ]
    },
    {
      "cell_type": "markdown",
      "metadata": {
        "id": "BDnbpTFdNOqd"
      },
      "source": [
        "* Classification deals with predicting category while regression deals with predicting continuous variable.\r\n",
        "\r\n",
        "Classification models\r\n",
        "\r\n",
        "1. Linear models:\r\n",
        "   \r\n",
        "   Linear line (plane, hyperplane ..) seperation using linear function. *Linear models deal with modeling correlation that is, noting what things occur together, and drawing inferences about how likely or unlikely things are to happen given how much they have happened together in the past.*\r\n",
        "\r\n",
        "  * Logistic regression \r\n",
        "  * SVM\r\n",
        "  * etc.\r\n",
        "\r\n",
        "2. Non-linear models\r\n",
        "  \r\n",
        "  Non-linear line (plane, hyperplane ..) seperation using activation function.\r\n",
        "\r\n",
        "  * K-NN\r\n",
        "  * Kernel SVM\r\n",
        "  * Random Forests\r\n",
        "  * etc."
      ]
    },
    {
      "cell_type": "markdown",
      "metadata": {
        "id": "wk0UyEY3fNL2"
      },
      "source": [
        "## Logistic Regression Intuition"
      ]
    },
    {
      "cell_type": "markdown",
      "metadata": {
        "id": "jcDbXBsNvGkT"
      },
      "source": [
        "<!-- \r\n",
        "1. Simple linear regression :\r\n",
        "  * Single independent variable.\r\n",
        "\r\n",
        "          y = b + b1*x\r\n",
        "\r\n",
        "2. Multiple linear regression : \r\n",
        "\r\n",
        "  * Multiple independent variable.\r\n",
        "\r\n",
        "          y = b + b1*x1+..... bn*xn -->\r\n",
        "          "
      ]
    },
    {
      "cell_type": "code",
      "metadata": {
        "id": "K5MERtsJMEa2"
      },
      "source": [
        ""
      ],
      "execution_count": null,
      "outputs": []
    }
  ]
}